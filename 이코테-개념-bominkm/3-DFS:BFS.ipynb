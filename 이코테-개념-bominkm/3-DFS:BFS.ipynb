{
 "metadata": {
  "language_info": {
   "codemirror_mode": {
    "name": "ipython",
    "version": 3
   },
   "file_extension": ".py",
   "mimetype": "text/x-python",
   "name": "python",
   "nbconvert_exporter": "python",
   "pygments_lexer": "ipython3",
   "version": "3.8.5"
  },
  "orig_nbformat": 2,
  "kernelspec": {
   "name": "python385jvsc74a57bd0a08b232263a2c3586a8fb9be8156a4aaace43131629c72af5b236356470a6bed",
   "display_name": "Python 3.8.5 64-bit ('base': conda)"
  },
  "metadata": {
   "interpreter": {
    "hash": "a08b232263a2c3586a8fb9be8156a4aaace43131629c72af5b236356470a6bed"
   }
  }
 },
 "nbformat": 4,
 "nbformat_minor": 2,
 "cells": [
  {
   "source": [
    "# DFS/BFS"
   ],
   "cell_type": "markdown",
   "metadata": {}
  },
  {
   "source": [
    "* 유형: 2차원 공간인 **행렬**에서 **방향벡터**를 이용하여 이동하는 경우\n",
    "* 핵심: **반복문**을 사용하여 조건을 만족하도록 구현"
   ],
   "cell_type": "markdown",
   "metadata": {}
  },
  {
   "source": [
    "## 1. 개념"
   ],
   "cell_type": "markdown",
   "metadata": {}
  },
  {
   "source": [
    "### 1-1. 스택과 큐 자료구조"
   ],
   "cell_type": "markdown",
   "metadata": {}
  },
  {
   "source": [
    "* 탐색: 많은 양의 데이터 중에서 원하는 데이터를 찾는 과정\n",
    "* DFS/BFS: 그래프 탐색 알고리즘"
   ],
   "cell_type": "markdown",
   "metadata": {}
  },
  {
   "source": [
    "* **스택**\n",
    "  - 먼저 들어온 데이터가 나중에 나가는 형식(선입후출)\n",
    "  - 입구와 출구가 동일한 형태\n",
    "  - ex. 박스 쌓기\n",
    "  - 리스트를 이용하여 구현\n",
    "  - 시간복잡도: $O(1)$"
   ],
   "cell_type": "markdown",
   "metadata": {}
  },
  {
   "cell_type": "code",
   "execution_count": 1,
   "metadata": {},
   "outputs": [
    {
     "output_type": "stream",
     "name": "stdout",
     "text": [
      "[3, 1]\n[1, 3]\n"
     ]
    }
   ],
   "source": [
    "# 리스트를 이용하여 스택 구현\n",
    "stack = []\n",
    "\n",
    "# 삽입 및 삭제 연산 수행\n",
    "stack.append(1)\n",
    "stack.append(2)\n",
    "stack.pop()\n",
    "stack.append(3)\n",
    "stack.append(4)\n",
    "stack.pop()\n",
    "\n",
    "# 먼저 들어온 원소부터 출력\n",
    "print(stack[::-1]) \n",
    "print(stack)"
   ]
  },
  {
   "source": [
    "* **큐**\n",
    "  - 먼저 들어온 데이터가 먼저 나가는 형식(선입선출)\n",
    "  - 입구와 출구가 모두 뚫려 있는 터널과 같은 형태\n",
    "  - ex. 터널, 은행창구\n",
    "  - 리스트를 사용하여 구현할 수 있지만 시간복잡도가 더 높음"
   ],
   "cell_type": "markdown",
   "metadata": {}
  },
  {
   "cell_type": "code",
   "execution_count": null,
   "metadata": {},
   "outputs": [],
   "source": [
    "# deque 라이브러리 사용\n",
    "from collections import deque\n",
    "\n",
    "queue = deque()\n",
    "\n",
    "queue.append(1)\n",
    "queue.append(2)\n",
    "queue.popleft()\n",
    "queue.append(3)\n",
    "queue.append(4)\n",
    "queue.popleft()\n",
    "\n",
    "print(queue)\n",
    "# 역순으로 바꾸기\n",
    "queue.reverse()\n",
    "print(queue)"
   ]
  },
  {
   "source": [
    "### 1-2. 재귀함수"
   ],
   "cell_type": "markdown",
   "metadata": {}
  },
  {
   "source": [
    "* **재귀 함수**: 자기 자신을 다시 호출하는 함수\n",
    "* 핵심: 무한히 호출되지 않도록 재귀 함수의 **종료 조건**을 반드시 명시해야함"
   ],
   "cell_type": "markdown",
   "metadata": {}
  },
  {
   "source": [
    "**팩토리얼 구현**"
   ],
   "cell_type": "markdown",
   "metadata": {}
  },
  {
   "cell_type": "code",
   "execution_count": 3,
   "metadata": {},
   "outputs": [
    {
     "output_type": "stream",
     "name": "stdout",
     "text": [
      "반복적으로 구현: 120\n재귀적으로 구현: 120\n"
     ]
    }
   ],
   "source": [
    "def factorial_iterative(n):\n",
    "    result = 1\n",
    "    for i in range(1, n+1):\n",
    "        result *= i\n",
    "    return result\n",
    "\n",
    "def factorial_recursive(n):\n",
    "    if n <= 1:\n",
    "        return 1\n",
    "    return n*factorial_recursive(n-1)\n",
    "\n",
    "print('반복적으로 구현:', factorial_iterative(5))\n",
    "print('재귀적으로 구현:', factorial_recursive(5))"
   ]
  },
  {
   "source": [
    "**유클리드 호제법**"
   ],
   "cell_type": "markdown",
   "metadata": {}
  },
  {
   "source": [
    "* 문제: 두 자연수에 대한 최대공약수\n",
    "* 핵심: A와 B의 최대공약수는 A와 A를 B로 나눈 나머지 R의 최대공약수와 같음"
   ],
   "cell_type": "markdown",
   "metadata": {}
  },
  {
   "cell_type": "code",
   "execution_count": 4,
   "metadata": {},
   "outputs": [
    {
     "output_type": "stream",
     "name": "stdout",
     "text": [
      "6\n"
     ]
    }
   ],
   "source": [
    "def gcd(a, b):\n",
    "    if a % b == 0:\n",
    "        return b\n",
    "    else:\n",
    "        return gcd(b, a % b)\n",
    "\n",
    "print(gcd(192, 162))"
   ]
  },
  {
   "source": [
    "### 1-3. DFS(Depth-First Search)"
   ],
   "cell_type": "markdown",
   "metadata": {}
  },
  {
   "source": [
    "* **DFS**: 깊이를 우선적으로 탐색하는 알고리즘\n",
    "* 구현: 2차원 배열\n",
    "* 핵심: **스택** 자료구조 이용\n",
    "* 동작 과정\n",
    "  1. 탐색 시작 노드를 스택에 삽입하고 방문 처리 함\n",
    "  2. 스택의 최상단 노드에 방문하지 않은 인접한 노드가 하나라도 있으면 그 노드를 스택에 넣고 방문 처리함. 방문하지 않은 인접 노드가 없으면 스택에서 최상단 노드를 꺼냄.\n",
    "  3. 더 이상 2번의 과정을 수행할 수 없을 때까지 반복함"
   ],
   "cell_type": "markdown",
   "metadata": {}
  },
  {
   "source": [
    "![](images/DFS.png)"
   ],
   "cell_type": "markdown",
   "metadata": {}
  },
  {
   "cell_type": "code",
   "execution_count": 8,
   "metadata": {},
   "outputs": [
    {
     "output_type": "stream",
     "name": "stdout",
     "text": [
      "1 2 7 6 8 3 4 5 "
     ]
    }
   ],
   "source": [
    "# DFS \n",
    "def dfs(graph, v, visited):\n",
    "    # 노드 방문\n",
    "    visited[v] = True\n",
    "    print(v, end = ' ')\n",
    "    # 현재 노드와 연결된 다른 노드를 재귀적으로 방문\n",
    "    for i in graph[v]:\n",
    "        # 인접한 노드가 방문하지 않은 상태\n",
    "        if not visited[i]:\n",
    "            dfs(graph, i, visited)\n",
    "\n",
    "# 2차원 리스트로 그래프 표현\n",
    "# 각 노드가 연결된 정보를 표현\n",
    "graph = [\n",
    "    [],        # index = 0 비워둠\n",
    "    [2, 3, 8], # index = 1부터 \n",
    "    [1, 7],\n",
    "    [1, 4, 5],\n",
    "    [3, 5],\n",
    "    [3, 4],\n",
    "    [7],\n",
    "    [2, 6, 8],\n",
    "    [1, 7]\n",
    "]\n",
    "\n",
    "# 초기값: 아직 모든 노드 방문하지 않았음\n",
    "# index = 0을 사용하지 않기 위해 (length + 1) 사용\n",
    "visited = [False] * 9\n",
    "\n",
    "dfs(graph, 1, visited)"
   ]
  },
  {
   "source": [
    "### 1-4. BFS(Breath-First Search)"
   ],
   "cell_type": "markdown",
   "metadata": {}
  },
  {
   "source": [
    "* **BFS**: 너비 우선 탐색\n",
    "* 원리: 가까운 노드부터 우선적으로 탐색하는 알고리즘 \n",
    "* 핵심: **큐** 자료구조 이용\n",
    "* 문제: 특정 조건에서의 최단 경로 구하기\n",
    "* 동작 과정 \n",
    "  1. 탐색 시작 노드를 **큐**에 삽입하고 방문 처리 함.\n",
    "  2. 큐에서 노드를 꺼낸 뒤에 해당 노드의 인접 노드 중에서 방문하지 않은 노드를 모두 큐에 삽입하고 방문 처리함.\n",
    "  3. 더 이상 2번의 과정을 수행할 수 없을 때까지 반복함."
   ],
   "cell_type": "markdown",
   "metadata": {}
  },
  {
   "source": [
    "![](images/BFS.png)"
   ],
   "cell_type": "markdown",
   "metadata": {}
  },
  {
   "source": [
    "* 1로부터 거리가 1인 노드 -> 거리가 2인 노드 -> 거리가 3인 노드 순"
   ],
   "cell_type": "markdown",
   "metadata": {}
  },
  {
   "cell_type": "code",
   "execution_count": 2,
   "metadata": {},
   "outputs": [
    {
     "output_type": "stream",
     "name": "stdout",
     "text": [
      "1 2 3 8 7 4 5 6 "
     ]
    }
   ],
   "source": [
    "from collections import deque\n",
    "\n",
    "def bfs(graph, start, visited):\n",
    "    queue = deque([start])\n",
    "    # 노드 방문\n",
    "    visited[start] = True\n",
    "    # 큐가 빌 때까지 방문\n",
    "    while queue:\n",
    "        # 큐에서 하나의 원소를 뽑아 출력\n",
    "        v = queue.popleft()\n",
    "        print(v, end = ' ')\n",
    "        # 뽑은 노드와 인접한 노드\n",
    "        for i in graph[v]:\n",
    "            # 아직 방문하지 않은 경우 큐에 삽입\n",
    "            if not visited[i]:\n",
    "                queue.append(i)\n",
    "                visited[i] = True\n",
    "\n",
    "graph = [\n",
    "    [],        \n",
    "    [2, 3, 8],  \n",
    "    [1, 7],\n",
    "    [1, 4, 5],\n",
    "    [3, 5],\n",
    "    [3, 4],\n",
    "    [7],\n",
    "    [2, 6, 8],\n",
    "    [1, 7]\n",
    "]\n",
    "\n",
    "visited = [False] * 9\n",
    "\n",
    "bfs(graph, 1, visited)"
   ]
  },
  {
   "source": [
    "## 2. 문제"
   ],
   "cell_type": "markdown",
   "metadata": {}
  },
  {
   "source": [
    "### 2-1. 음료수 얼려 먹기"
   ],
   "cell_type": "markdown",
   "metadata": {}
  },
  {
   "source": [
    "* 문제: 얼음 틀 모양이 주어졌을 때 생성되는 총 아이스크림의 개수\n",
    "* 유형: 연결요소 찾기"
   ],
   "cell_type": "markdown",
   "metadata": {}
  },
  {
   "source": [
    "![](images/icecream.png)"
   ],
   "cell_type": "markdown",
   "metadata": {}
  },
  {
   "source": [
    "* DFS 알고리즘\n",
    "  1. 주변 상, 하, 좌, 우 살펴본 뒤에 주변 지점 중에서 값이 '0'이면서 아직 방문하지 않은 지점이 있다면 해당 지점 방문\n",
    "  2. 빙문한 지점에서 다시 상, 하, 좌, 우를 살펴보면서 방문을 진행하는 과정을 반복하면, 연결된 모든 지점을 방문할 수 있음\n",
    "  3. 모든 노드에 대하여 1~2번의 과정을 반복하며, 반복하지 않은 지점의 수 카운트"
   ],
   "cell_type": "markdown",
   "metadata": {}
  },
  {
   "source": [
    "**Solution**"
   ],
   "cell_type": "markdown",
   "metadata": {}
  },
  {
   "cell_type": "code",
   "execution_count": 11,
   "metadata": {},
   "outputs": [
    {
     "output_type": "stream",
     "name": "stdout",
     "text": [
      "3\n"
     ]
    }
   ],
   "source": [
    "# 행, 열\n",
    "n, m = map(int, input().split())\n",
    "\n",
    "graph = []\n",
    "for i in range(n):\n",
    "    graph.append(list(map(int, input())))\n",
    "\n",
    "# DFS로 연결된 모든 노드 방문   \n",
    "def dfs(x, y):\n",
    "    # 주어진 범위를 벗어나는 경우 종료\n",
    "    if x <= -1 or x >= n or y <= -1 or y >= m:\n",
    "        return False\n",
    "    # 아직 방문하지 읺은 경우\n",
    "    if graph[x][y] == 0:\n",
    "        # 노드 방문\n",
    "        graph[x][y] = 1\n",
    "        # 상하좌우 위치들도 모두 재귀적으로 호출\n",
    "        dfs(x-1, y)\n",
    "        dfs(x, y-1)\n",
    "        dfs(x+1, y)\n",
    "        dfs(x, y+1)\n",
    "        return True\n",
    "    return False\n",
    "\n",
    "result = 0\n",
    "for i in range(n):\n",
    "    for j in range(m):\n",
    "        # 방문한 노드인 경우\n",
    "        if dfs(i,  j) == True:\n",
    "            result += 1\n",
    "\n",
    "print(result)"
   ]
  },
  {
   "source": [
    "* 연결되어 있는 모든 노드 방문 -> 해당 그룹 모두 1로 변환 -> True 출력 -> (result + 1)"
   ],
   "cell_type": "markdown",
   "metadata": {}
  },
  {
   "source": [
    "### 2-2. 미로 탈출"
   ],
   "cell_type": "markdown",
   "metadata": {}
  },
  {
   "source": [
    "* 문제: 괴물을 피해 미로를 탈출하기 위한 최소 칸의 개수\n",
    "* 유형: 간선의 비용이 모두 같을 때 최단 거리 탐색하는 BFS"
   ],
   "cell_type": "markdown",
   "metadata": {}
  },
  {
   "source": [
    "![](images/miro.png)"
   ],
   "cell_type": "markdown",
   "metadata": {}
  },
  {
   "source": [
    "**Solution**"
   ],
   "cell_type": "markdown",
   "metadata": {}
  },
  {
   "cell_type": "code",
   "execution_count": 16,
   "metadata": {},
   "outputs": [
    {
     "output_type": "stream",
     "name": "stdout",
     "text": [
      "5\n"
     ]
    }
   ],
   "source": [
    "from collections import deque\n",
    "\n",
    "n, m = map(int, input().split())\n",
    "\n",
    "graph = []\n",
    "for i in range(n):\n",
    "    graph.append(list(map(int, input())))\n",
    "\n",
    "dx = [-1, 1, 0, 0]\n",
    "dy = [0, 0, -1, 1]\n",
    "\n",
    "def bfs(x, y):\n",
    "    queue = deque()\n",
    "    queue.append((x, y))\n",
    "    while queue:\n",
    "        x, y = queue.popleft()\n",
    "        for i in range(4):\n",
    "            nx = x + dx[i]\n",
    "            ny = y + dy[i]\n",
    "            if nx < 0 or ny < 0 or nx >= n or ny >= m:\n",
    "                continue\n",
    "            if graph[nx][ny] == 0:\n",
    "                continue\n",
    "            if graph[nx][ny] == 1:\n",
    "                graph[nx][ny] = graph[x][y] + 1\n",
    "                queue.append((nx, ny))\n",
    "    return graph[n-1][m-1]\n",
    "\n",
    "print(bfs(0, 0))"
   ]
  }
 ]
}