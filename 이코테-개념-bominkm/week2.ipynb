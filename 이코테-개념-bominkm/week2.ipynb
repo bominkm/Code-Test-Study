{
 "metadata": {
  "language_info": {
   "codemirror_mode": {
    "name": "ipython",
    "version": 3
   },
   "file_extension": ".py",
   "mimetype": "text/x-python",
   "name": "python",
   "nbconvert_exporter": "python",
   "pygments_lexer": "ipython3",
   "version": "3.8.5"
  },
  "orig_nbformat": 2,
  "kernelspec": {
   "name": "python385jvsc74a57bd0a08b232263a2c3586a8fb9be8156a4aaace43131629c72af5b236356470a6bed",
   "display_name": "Python 3.8.5 64-bit ('base': conda)"
  },
  "metadata": {
   "interpreter": {
    "hash": "a08b232263a2c3586a8fb9be8156a4aaace43131629c72af5b236356470a6bed"
   }
  }
 },
 "nbformat": 4,
 "nbformat_minor": 2,
 "cells": [
  {
   "source": [
    "# 그리디 알고리즘"
   ],
   "cell_type": "markdown",
   "metadata": {}
  },
  {
   "source": [
    "## 1. 개요"
   ],
   "cell_type": "markdown",
   "metadata": {}
  },
  {
   "source": [
    "### 1-1. 개념"
   ],
   "cell_type": "markdown",
   "metadata": {}
  },
  {
   "source": [
    "* 현재 상황에서 지금 당장 좋은 것만 고르는 방법\n",
    "* 문제를 풀기 위한 최소한의 아이디어만 떠올릴 수 있는 능력 요구\n",
    "* 정당성 분석  \n",
    "  : 단순히 가장 좋아 보이는 것을 반복적으로 선택해도 최적의 해를 구할 수 있는지 검토 필요\n",
    "* 최적의 해를 보장할 수 없음\n",
    "* 탐욕법으로 얻은 해가 최적의 해가 되는 상황에서 이를 추론할 수 있어야함"
   ],
   "cell_type": "markdown",
   "metadata": {}
  },
  {
   "source": [
    "### 1-2. 예제"
   ],
   "cell_type": "markdown",
   "metadata": {}
  },
  {
   "source": [
    "* 문제: 거스름돈\n",
    "* 과정: 가장 큰 화폐 단위부터 거슬러 줌\n",
    "* 정당성: 큰 단위가 항상 작은 단위의 배수이므로 작은 단위의 동전들을 종합해 다른 해가 나올 수 없기 때문"
   ],
   "cell_type": "markdown",
   "metadata": {}
  },
  {
   "cell_type": "code",
   "execution_count": 4,
   "metadata": {},
   "outputs": [
    {
     "output_type": "stream",
     "name": "stdout",
     "text": [
      "6\n"
     ]
    }
   ],
   "source": [
    "n = 1260\n",
    "count = 0\n",
    "# 큰 단위의 화폐부터 차례대로\n",
    "array = [500, 100, 50, 10]\n",
    "\n",
    "for coin in array:\n",
    "    count += n//coin # 몫\n",
    "    n %= coin        # 나머지\n",
    "\n",
    "print(count)"
   ]
  },
  {
   "source": [
    "* 시간 복잡도: O(k)\n",
    "* 화폐의 종류만큼 반복문 실행됨\n",
    "* 동전의 총 종류에만 영향 받음"
   ],
   "cell_type": "markdown",
   "metadata": {}
  },
  {
   "source": [
    "## 2. 문제"
   ],
   "cell_type": "markdown",
   "metadata": {}
  },
  {
   "source": [
    "### 2-1. 1이 될 때까지"
   ],
   "cell_type": "markdown",
   "metadata": {}
  },
  {
   "source": [
    "* 문제: N이 1이 될 때까지 N에서 1을 빼기 or K로 나누기 중 하나를 반복적으로 수행\n",
    "* 과정: 최대한 많이 나누기 수행\n",
    "* 정당성: K가 2 이상이면, K로 나누는 것이 1을 빼는 것보다 항상 빠르게 N을 줄일 수 있음"
   ],
   "cell_type": "markdown",
   "metadata": {}
  },
  {
   "cell_type": "code",
   "execution_count": 7,
   "metadata": {},
   "outputs": [
    {
     "output_type": "stream",
     "name": "stdout",
     "text": [
      "6\n"
     ]
    }
   ],
   "source": [
    "# 값 입력받은 후 정수로 변환\n",
    "n, k = map(int, input().split())\n",
    "\n",
    "result = 0\n",
    "\n",
    "while True:\n",
    "    # 구하고자 하는 값\n",
    "    # N이 K로 나누어 떨어지는 수\n",
    "    target = (n//k)*k\n",
    "    # 반복횟수\n",
    "    result += (n - target)\n",
    "    n = target\n",
    "    # N이 K보다 작을 때\n",
    "    if n < k:\n",
    "        break\n",
    "    # K로 나누기\n",
    "    result += 1\n",
    "    n //= k\n",
    "\n",
    "result += (n - 1)\n",
    "print(result)"
   ]
  },
  {
   "source": [
    "### 2-2. 곱하기 혹은 더하기"
   ],
   "cell_type": "markdown",
   "metadata": {}
  },
  {
   "source": [
    "* 문제: 숫자 사이에 'x' 혹은 '+' 연산자를 넣어 만들 수 있는 가장 큰 수 구하기\n",
    "* 가정: 모든 연산은 왼쪽에서부터 순서대로 이루어짐\n",
    "* 과정: 두 수 중 하나라도 1 이하인 경우 '+' 수행, 두 수 모두 2 이상인 경우 'x' 수행"
   ],
   "cell_type": "markdown",
   "metadata": {}
  },
  {
   "cell_type": "code",
   "execution_count": 9,
   "metadata": {},
   "outputs": [
    {
     "output_type": "stream",
     "name": "stdout",
     "text": [
      "3\n"
     ]
    }
   ],
   "source": [
    "data = input()\n",
    "\n",
    "result = int(data[0])\n",
    "\n",
    "for i in range(1, len(data)):\n",
    "    num = int(data[i])\n",
    "    if num<=1 or result<=1:\n",
    "        result += num\n",
    "    else:\n",
    "        result *= num\n",
    "\n",
    "print(result)"
   ]
  },
  {
   "source": [
    "### 2-3. 모험가 길드"
   ],
   "cell_type": "markdown",
   "metadata": {}
  },
  {
   "source": [
    "* 문제: 공포도 X인 모험가는 반드시 X명 이상으로 구성한 모험가 그룹에 참가해야하는 경우, 여행을 떠날 수 있는 그룹 수의 최댓값\n",
    "* 과정: 현재 그룹에 포함된 모험가 수 >= 현재 확인하고 있는 공포도 -> 그룹으로 설정\n",
    "* 정당성: 공포도가 오름차순으로 정렬되어 있음"
   ],
   "cell_type": "markdown",
   "metadata": {}
  },
  {
   "cell_type": "code",
   "execution_count": 12,
   "metadata": {},
   "outputs": [
    {
     "output_type": "stream",
     "name": "stdout",
     "text": [
      "1\n"
     ]
    }
   ],
   "source": [
    "n = int(input())\n",
    "data = list(map(int, input().split()))\n",
    "data.sort() # 오름차순 정렬\n",
    "\n",
    "result = 0  # 총 그룹 수\n",
    "count = 0   # 현재 그룹에 포함돈 모험가의 수\n",
    "\n",
    "for i in data:  # 공포도\n",
    "    count += 1  # 현재 그룹에 모험가 포함\n",
    "    if count >= i:  # 그룹 결성\n",
    "        result += 1 # 그룹 수 증가\n",
    "        count = 0   # 모험가 수 초기화\n",
    "\n",
    "print(result)"
   ]
  }
 ]
}