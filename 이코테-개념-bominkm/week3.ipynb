{
 "metadata": {
  "language_info": {
   "codemirror_mode": {
    "name": "ipython",
    "version": 3
   },
   "file_extension": ".py",
   "mimetype": "text/x-python",
   "name": "python",
   "nbconvert_exporter": "python",
   "pygments_lexer": "ipython3",
   "version": "3.8.5"
  },
  "orig_nbformat": 2,
  "kernelspec": {
   "name": "python385jvsc74a57bd0a08b232263a2c3586a8fb9be8156a4aaace43131629c72af5b236356470a6bed",
   "display_name": "Python 3.8.5 64-bit ('base': conda)"
  },
  "metadata": {
   "interpreter": {
    "hash": "a08b232263a2c3586a8fb9be8156a4aaace43131629c72af5b236356470a6bed"
   }
  }
 },
 "nbformat": 4,
 "nbformat_minor": 2,
 "cells": [
  {
   "source": [
    "# 구현: 시뮬레이션 및 완전 탐색"
   ],
   "cell_type": "markdown",
   "metadata": {}
  },
  {
   "source": [
    "* 유형: 2차원 공간인 **행렬**에서 **방향벡터**를 이용하여 이동하는 경우\n",
    "* 핵심: **반복문**을 사용하여 조건을 만족하도록 구현"
   ],
   "cell_type": "markdown",
   "metadata": {}
  },
  {
   "source": [
    "## 1. 개요"
   ],
   "cell_type": "markdown",
   "metadata": {}
  },
  {
   "source": [
    "### 1-1. 개념"
   ],
   "cell_type": "markdown",
   "metadata": {}
  },
  {
   "source": [
    "* 구현: 머릿속에 있는 알고리즘을 소스코드로 바꾸는 과정\n",
    "* 문제: 풀이를 떠올리는 것은 쉽지만 소스코드로 옮기기 어려운 문제\n",
    "* 핵심: 행렬, 방향 벡터 자주 활용됨\n",
    "* 예시\n",
    "  - 알고리즘은 간단한데 코드가 지나칠 만큼 길어지는 문제\n",
    "  - 실수 연산을 다루고, 특정 소수점 자리까지 출력해야 하는 문제\n",
    "  - 문자열을 특정한 기준에 따라 끊어 처리해야 하는 문제\n",
    "  - 적절한 라이브러리를 찾아서 사용해야 하는 문제 (ex. itertools: 순열 조합)"
   ],
   "cell_type": "markdown",
   "metadata": {}
  },
  {
   "source": [
    "### 1-2. 예제"
   ],
   "cell_type": "markdown",
   "metadata": {}
  },
  {
   "source": [
    "* 문제: 상하좌우\n",
    "* 설명: 여행가 A가 도착할 공간 찾기\n",
    "* 유형: 명령에 따라 개체를 차례대로 이동시키는 시뮬레이션 유형"
   ],
   "cell_type": "markdown",
   "metadata": {}
  },
  {
   "source": [
    "**Solution**"
   ],
   "cell_type": "markdown",
   "metadata": {}
  },
  {
   "cell_type": "code",
   "execution_count": 21,
   "metadata": {},
   "outputs": [
    {
     "output_type": "stream",
     "name": "stdout",
     "text": [
      "3 4\n"
     ]
    }
   ],
   "source": [
    "# N 입력 받기\n",
    "n = int(input())\n",
    "plans = input().split()\n",
    "x, y = 1, 1\n",
    "\n",
    "# L, R, U, D에 따른 이동 방향\n",
    "dx = [0, 0, -1, 1]\n",
    "dy = [-1, 1, 0, 0]\n",
    "move_types = ['L', 'R', 'U', 'D']\n",
    "\n",
    "# 이동계획 하나씩 확인하기\n",
    "for plan in plans:\n",
    "    # 이동 후 좌표 구하기\n",
    "    for i in range(len(move_types)):\n",
    "        if plan == move_types[i]:\n",
    "            nx = x + dx[i]\n",
    "            ny = y + dy[i]\n",
    "    # 공간을 벗어나는 경우 무시\n",
    "    if nx < 1 or ny < 1 or nx > n or ny > n :\n",
    "        continue\n",
    "    x, y = nx, ny\n",
    "\n",
    "print(x, y)"
   ]
  },
  {
   "source": [
    "**My solution**"
   ],
   "cell_type": "markdown",
   "metadata": {}
  },
  {
   "cell_type": "code",
   "execution_count": 19,
   "metadata": {},
   "outputs": [
    {
     "output_type": "stream",
     "name": "stdout",
     "text": [
      "1 2\n1 3\n1 4\n1 4\n2 4\n3 4\n3 4\n"
     ]
    }
   ],
   "source": [
    "n = int(input())\n",
    "ways = input().split()\n",
    "\n",
    "x, y = 1, 1\n",
    "direction = {'L': -1, 'R': 1, 'U': -1, 'D': 1}\n",
    "\n",
    "for way in ways:\n",
    "    # x축\n",
    "    if way in ['U', 'D']:\n",
    "        # 범위를 벗어나지 않는지 확인\n",
    "        if (x + direction[way] <= n) & (x + direction[way] >= 1):\n",
    "            x += direction[way]\n",
    "    # y축\n",
    "    else:\n",
    "        # 범위를 벗어나지 않는지 확인\n",
    "        if (y + direction[way] <= n) & (y + direction[way] >= 1):\n",
    "            y += direction[way]\n",
    "    print(x, y)\n",
    "\n",
    "print(x, y)"
   ]
  },
  {
   "source": [
    "* 기존의 사고방식과 x, y, 행, 열 반대임\n",
    "* 그래프 그려서 시뮬레이션하면서 확인할 것\n",
    "* 잘못된 경우 반복문 실행할 때마다 결과 출력하여 확인하기"
   ],
   "cell_type": "markdown",
   "metadata": {}
  },
  {
   "source": [
    "## 2. 문제"
   ],
   "cell_type": "markdown",
   "metadata": {}
  },
  {
   "source": [
    "### 2-1. 시각"
   ],
   "cell_type": "markdown",
   "metadata": {}
  },
  {
   "source": [
    "* 문제: 00시 00분 00초부터 N시 59분 59초까지의 모든 시각 중에서 3이 하나라도 포함되는 모든 경우의 수 구하기\n",
    "* 유형: 완전 탐색"
   ],
   "cell_type": "markdown",
   "metadata": {}
  },
  {
   "source": [
    "**Solution**"
   ],
   "cell_type": "markdown",
   "metadata": {}
  },
  {
   "cell_type": "code",
   "execution_count": 35,
   "metadata": {},
   "outputs": [
    {
     "output_type": "stream",
     "name": "stdout",
     "text": [
      "11475\n"
     ]
    }
   ],
   "source": [
    "h = int(input())\n",
    "\n",
    "count = 0\n",
    "for i in range(h+1):\n",
    "    for j in range(60):\n",
    "        for k in range(60):\n",
    "            # 매 시각 안에 '3'이 포함되어 있다면 카운트 증가\n",
    "            if '3' in str(i) + str(j) + str(k):\n",
    "                count += 1\n",
    "\n",
    "print(count)"
   ]
  },
  {
   "source": [
    "**My solution**"
   ],
   "cell_type": "markdown",
   "metadata": {}
  },
  {
   "cell_type": "code",
   "execution_count": 32,
   "metadata": {},
   "outputs": [
    {
     "output_type": "stream",
     "name": "stdout",
     "text": [
      "11475\n"
     ]
    }
   ],
   "source": [
    "n = int(input())\n",
    "count = 0\n",
    "\n",
    "for i in range(n+1):\n",
    "    if i == 3 or i == 13:\n",
    "       count += 3600 \n",
    "    else:\n",
    "        count += 1575\n",
    "\n",
    "print(count)"
   ]
  },
  {
   "source": [
    "* 초: 3초, 13초, 23초, 30~39초, 43초, 53초\n",
    "* 분: 3분, 13분, 23분, 30~39분, 43분, 53분\n",
    "* 시: 3시, 13시 60(분 단위) x 60(초 단위) = 3600/ 이외의 시간 15(분 단위) x 60(초 단위) + 45(분 단위) x 15(초 단위) = 1575"
   ],
   "cell_type": "markdown",
   "metadata": {}
  },
  {
   "source": [
    "### 2-2. 왕실의 나이트"
   ],
   "cell_type": "markdown",
   "metadata": {}
  },
  {
   "source": [
    "* 문제: 왕실 정원에서 나이트가 L자 형태로만 움직일 일 수 있을 때, 움직일 수 있는 경우의 수\n",
    "* 유형: 시뮬레이션, 완전 구현\n",
    "* 핵심: 8가지 방향에 대한 방향 벡터 정의"
   ],
   "cell_type": "markdown",
   "metadata": {}
  },
  {
   "source": [
    "**Solution**"
   ],
   "cell_type": "markdown",
   "metadata": {}
  },
  {
   "cell_type": "code",
   "execution_count": 45,
   "metadata": {},
   "outputs": [
    {
     "output_type": "stream",
     "name": "stdout",
     "text": [
      "2\n"
     ]
    }
   ],
   "source": [
    "# 현재 나이트의 위치 입력받기\n",
    "input_data = input()\n",
    "row = int(input_data[1])\n",
    "column = int(ord(input_data[0])) - int(ord('a')) + 1\n",
    "\n",
    "# 나이트가 이동할 수 있는 8가지 방향 정의\n",
    "steps = [(-2, -1), (-1, -2), (1, -2), (2, -1), (2, 1), (1, 2), (-1, 2), (-2, 1)]\n",
    "\n",
    "# 8가지 방향에 대하여 각 위치로 이동이 가능한지 확인\n",
    "result = 0\n",
    "for step in steps:\n",
    "    # 이동하고자 하는 위치 확인\n",
    "    next_row = row + step[0]\n",
    "    next_column = column + step[1]\n",
    "    # 해당 위치로 이동이 가능하다면 카운트 증가\n",
    "    if next_row >= 1 and next_row <= 8 and next_column >= 1 and next_column <= 8:\n",
    "        result += 1\n",
    "\n",
    "print(result)"
   ]
  },
  {
   "source": [
    "* 행, 열 나누고 가능한 8가지 방향에 대해 각각 더하기"
   ],
   "cell_type": "markdown",
   "metadata": {}
  },
  {
   "source": [
    "**My solution**"
   ],
   "cell_type": "markdown",
   "metadata": {}
  },
  {
   "cell_type": "code",
   "execution_count": 44,
   "metadata": {},
   "outputs": [
    {
     "output_type": "stream",
     "name": "stdout",
     "text": [
      "2\n"
     ]
    }
   ],
   "source": [
    "start = str(input())\n",
    "\n",
    "col = {'a': 1, 'b': 2, 'c': 3, 'd': 4, 'e': 5, 'f': 6, 'g': 7, 'h': 8}\n",
    "count = 0\n",
    "\n",
    "# x축\n",
    "if int(col[start[0]]) + 2 <= 8:\n",
    "    if int(start[1]) + 1 <=8:\n",
    "        count += 1\n",
    "    if int(start[1]) - 1 >=1:\n",
    "        count += 1\n",
    "if int(col[start[0]]) - 2 >= 1:\n",
    "    if int(start[1]) + 1 <=8:\n",
    "        count += 1\n",
    "    if int(start[1]) - 1 >=1:\n",
    "        count += 1\n",
    "# y축\n",
    "if int(start[1]) + 2 <= 8:\n",
    "    if int(col[start[0]]) + 1 <=8:\n",
    "        count += 1\n",
    "    if int(col[start[0]]) - 1 >=1:\n",
    "        count += 1\n",
    "if int(start[1]) - 2 >= 1:\n",
    "    if int(col[start[0]]) + 1 <=8:\n",
    "        count += 1\n",
    "    if int(col[start[0]]) - 1 >=1:\n",
    "        count += 1\n",
    "\n",
    "print(count)"
   ]
  },
  {
   "source": [
    "### 2-3. 문자열 재정렬"
   ],
   "cell_type": "markdown",
   "metadata": {}
  },
  {
   "source": [
    "* 문제: 알파벳 오름차순 정렬 + 숫자의 합\n",
    "* 유형: 구현\n",
    "* 핵심: 문자를 하나씩 확인하며 숫자, 알파벳 나누어 생각"
   ],
   "cell_type": "markdown",
   "metadata": {}
  },
  {
   "source": [
    "**Solution**"
   ],
   "cell_type": "markdown",
   "metadata": {}
  },
  {
   "cell_type": "code",
   "execution_count": 86,
   "metadata": {},
   "outputs": [
    {
     "output_type": "stream",
     "name": "stdout",
     "text": [
      "ABCKK13\n"
     ]
    }
   ],
   "source": [
    "data = input()\n",
    "result = []\n",
    "value = 0\n",
    "\n",
    "# 문자를 하나씩 확인\n",
    "for x in data:\n",
    "    # 알파벳인 경우\n",
    "    if x.isalpha():\n",
    "        result.append(x)\n",
    "    # 숫자인 경우\n",
    "    else:\n",
    "        value += int(x)\n",
    "\n",
    "# 알파벳 오름차순 정렬\n",
    "result.sort()\n",
    "\n",
    "# 숫자가 하나라도 존재하는 경우\n",
    "if value != 0:\n",
    "    result.append(str(value))\n",
    "\n",
    "# 최종 결과 출력\n",
    "print(''.join(result))"
   ]
  },
  {
   "source": [
    "* isalpha: 알파벳인지 확인하는 함수"
   ],
   "cell_type": "markdown",
   "metadata": {}
  },
  {
   "source": [
    "**My solution**"
   ],
   "cell_type": "markdown",
   "metadata": {}
  },
  {
   "cell_type": "code",
   "execution_count": 88,
   "metadata": {},
   "outputs": [
    {
     "output_type": "stream",
     "name": "stdout",
     "text": [
      "ABCKK13\n"
     ]
    }
   ],
   "source": [
    "# 원래 문제\n",
    "text = input()\n",
    "\n",
    "num = 0; txt = []\n",
    "result = None\n",
    "\n",
    "for i in range(len(text)):\n",
    "    # 숫자인 경우\n",
    "    if text[i] in ['0','1','2','3','4','5','6','7','8','9']:\n",
    "        num += int(text[i])\n",
    "    # 문자인 경우\n",
    "    else:\n",
    "        length = 0\n",
    "        txt.append(text[i])\n",
    "\n",
    "print(''.join(sorted(txt))+str(num))"
   ]
  },
  {
   "cell_type": "code",
   "execution_count": 85,
   "metadata": {},
   "outputs": [
    {
     "output_type": "stream",
     "name": "stdout",
     "text": [
      "ABCKK13\n"
     ]
    }
   ],
   "source": [
    "# 변형: 숫자가 붙어있으면 하나의 숫자라고 생각하는 경우\n",
    "text = input()\n",
    "\n",
    "num = []; txt = []\n",
    "length = 0\n",
    "result = None\n",
    "\n",
    "for i in range(len(text)):\n",
    "    # 숫자인 경우\n",
    "    if text[i] in ['0','1','2','3','4','5','6','7','8','9']:\n",
    "        # 연속적으로 숫자인 경우\n",
    "        if text[i-1] in ['0','1','2','3','4','5','6','7','8','9'] and i > 1:\n",
    "            length += 1\n",
    "            num[-1] = int(num[-1])*(10**length)\n",
    "        else:\n",
    "            num.append(int(text[i]))\n",
    "    # 문자인 경우\n",
    "    else:\n",
    "        length = 0\n",
    "        txt.append(text[i])\n",
    "\n",
    "print(''.join(sorted(txt))+str(sum(num)))"
   ]
  },
  {
   "source": [
    "* join: 문자열 리스트를 공백 없이 붙이는 함수"
   ],
   "cell_type": "markdown",
   "metadata": {}
  }
 ]
}