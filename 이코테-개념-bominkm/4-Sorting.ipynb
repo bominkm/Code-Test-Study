{
 "metadata": {
  "language_info": {
   "codemirror_mode": {
    "name": "ipython",
    "version": 3
   },
   "file_extension": ".py",
   "mimetype": "text/x-python",
   "name": "python",
   "nbconvert_exporter": "python",
   "pygments_lexer": "ipython3",
   "version": "3.8.5"
  },
  "orig_nbformat": 2,
  "kernelspec": {
   "name": "python385jvsc74a57bd0a08b232263a2c3586a8fb9be8156a4aaace43131629c72af5b236356470a6bed",
   "display_name": "Python 3.8.5 64-bit ('base': conda)"
  },
  "metadata": {
   "interpreter": {
    "hash": "a08b232263a2c3586a8fb9be8156a4aaace43131629c72af5b236356470a6bed"
   }
  }
 },
 "nbformat": 4,
 "nbformat_minor": 2,
 "cells": [
  {
   "source": [
    "# 정렬"
   ],
   "cell_type": "markdown",
   "metadata": {}
  },
  {
   "source": [
    "1. **선택 정렬**: 처리되지 않은 데이터 중 **가장 작은 데이터**를 맨 앞 데이터와 교체\n",
    "2. **삽입 정렬**: 처리되지 않은 데이터를 왼쪽의 데이터와 비교하여 **위치 선정 후 삽입**\n",
    "3. **퀵 정렬**: 기준 데이터 **피벗**보다 큰 데이터와 작은 데이터의 위치를 서로 바꾸는 방법/ **재귀**\n",
    "4. **계수 정렬**: 각 숫자의 **등장횟수** count"
   ],
   "cell_type": "markdown",
   "metadata": {}
  },
  {
   "source": [
    "## 1. 개념"
   ],
   "cell_type": "markdown",
   "metadata": {}
  },
  {
   "source": [
    "### 1-1. 선택 정렬"
   ],
   "cell_type": "markdown",
   "metadata": {}
  },
  {
   "source": [
    "* 정렬: 데이터를 특정한 기준에 따라 순서대로 나열\n",
    "* 선택 정렬: 처리되지 않은 데이터 중 가장 작은 데이터를 선택해 맨 앞에 있는 데이터와 바꾸는 것을 반복\n",
    "* 시간복잡도: $O(N^2)$\n",
    "    - 전체 연산 횟수: $N + (N-1) + (N-2) + ... + 2$\n",
    "    - 등차수열의 공식에 의해 $(N^2 + N - 2)/2$"
   ],
   "cell_type": "markdown",
   "metadata": {}
  },
  {
   "source": [
    "![](images/4-카드png)"
   ],
   "cell_type": "markdown",
   "metadata": {}
  },
  {
   "cell_type": "code",
   "execution_count": 1,
   "metadata": {},
   "outputs": [
    {
     "output_type": "stream",
     "name": "stdout",
     "text": [
      "[0, 1, 2, 3, 4, 5, 6, 7, 8, 9]\n"
     ]
    }
   ],
   "source": [
    "array = [7,5,9,0,3,1,6,2,4,8]\n",
    "\n",
    "for i in range(len(array)):\n",
    "    # 가장 작은 데이터\n",
    "    min_index = i\n",
    "    # 처리되지 않은 데이터\n",
    "    for j in range(i+1, len(array)):\n",
    "        # 가장 작은 값인지 비교\n",
    "        if array[min_index] > array[j]:\n",
    "            min_index = j\n",
    "    # 가장 작은 데이터 맨 앞으로 위치\n",
    "    array[i], array[min_index] = array[min_index], array[i]\n",
    "\n",
    "print(array)"
   ]
  },
  {
   "source": [
    "### 1-2. 삽입 정렬"
   ],
   "cell_type": "markdown",
   "metadata": {}
  },
  {
   "source": [
    "* 삽입 정렬\n",
    "    - 처리되지 않은 데이터를 하나씩 골라 적절한 위치에 삽입\n",
    "    - 왼쪽에 있는 데이터와 비교하였을 때, 데이터를 이전 값의 왼쪽 or 오른쪽에 삽입할지 결정\n",
    "* 시간복잡도\n",
    "    - $O(N^2)$: 반복문 2번 반복하므로\n",
    "    - $O(N)$: 오름차순 정렬 되어 있는 경우"
   ],
   "cell_type": "markdown",
   "metadata": {}
  },
  {
   "source": [
    "![](images/4-카드-선택.png)"
   ],
   "cell_type": "markdown",
   "metadata": {}
  },
  {
   "cell_type": "code",
   "execution_count": 2,
   "metadata": {},
   "outputs": [
    {
     "output_type": "stream",
     "name": "stdout",
     "text": [
      "[0, 1, 2, 3, 4, 5, 6, 7, 8, 9]\n"
     ]
    }
   ],
   "source": [
    "array = [7,5,9,0,3,1,6,2,4,8]\n",
    "\n",
    "for i in range(1, len(array)):\n",
    "    # 인데스 i부터 1까지 1씩 감소하며 반복\n",
    "    for j in range(i, 0, -1):\n",
    "        # 한 칸씩 왼쪽으로 이동\n",
    "        if array[j] < array[j-1]:\n",
    "            array[j], array[j-1] = array[j-1], array[j]\n",
    "        else:\n",
    "            break\n",
    "\n",
    "print(array)"
   ]
  },
  {
   "cell_type": "code",
   "execution_count": 8,
   "metadata": {},
   "outputs": [
    {
     "output_type": "stream",
     "name": "stdout",
     "text": [
      "1 1\n========================================\n2 2\n2 1\n========================================\n3 3\n3 2\n3 1\n========================================\n4 4\n4 3\n4 2\n4 1\n========================================\n"
     ]
    }
   ],
   "source": [
    "# 인덱스 i부터 왼쪽 데이터 탐색\n",
    "for i in range(1, 5):\n",
    "    for j in range(i, 0, -1):\n",
    "        print(i, j)\n",
    "    print('===='*10)"
   ]
  },
  {
   "source": [
    "### 1-3. 퀵 정렬"
   ],
   "cell_type": "markdown",
   "metadata": {}
  },
  {
   "source": [
    "* 퀵 정렬\n",
    "    - 기준 데이터를 설정하고 그 기준보다 큰 데이터와 작은 데이터의 위치를 서로 바꾸는 방법\n",
    "    - 첫 번째 데이터를 기준 데이터(Pivot)로 설정\n",
    "    - 분할 후 퀵 정렬 반복해야 하므로 재귀적으로 구현\n",
    "* 시간복잡도\n",
    "    - $O(NlogN)$: 분할이 절반에 가깝게 이루어진 경우\n",
    "    - $O(N^2)$: 한 쪽으로 편향된 분할이 이루어진 경우"
   ],
   "cell_type": "markdown",
   "metadata": {}
  },
  {
   "source": [
    "![](images/4-카드-퀵.png)"
   ],
   "cell_type": "markdown",
   "metadata": {}
  },
  {
   "cell_type": "code",
   "execution_count": 14,
   "metadata": {},
   "outputs": [
    {
     "output_type": "stream",
     "name": "stdout",
     "text": [
      "[0, 1, 2, 3, 4, 5, 6, 7, 8, 9]\n"
     ]
    }
   ],
   "source": [
    "array = [5,7,9,0,3,1,6,2,4,8]\n",
    "\n",
    "def quick_sort(array, start, end):\n",
    "    # 원소가 1개인 경우\n",
    "    if start >= end:\n",
    "        return\n",
    "\n",
    "    pivot = start     # 피벗\n",
    "    left = start + 1  # 맨 왼쪽 값\n",
    "    right = end       # 맨 오른쪽 값\n",
    "\n",
    "    # 분할\n",
    "    # 엇갈리는 경우 반복문 탈출\n",
    "    while left <= right:\n",
    "        # 인덱스 & 실제 값 비교\n",
    "        # 피벗보다 큰 데이터 찾을 때까지 반복\n",
    "        # 왼쪽에서부터 오른쪽으로 이동\n",
    "        while left <= end and array[left] <= array[pivot]:\n",
    "            left += 1\n",
    "        # 피벗보다 작은 데이터 찾을 때까지 반복\n",
    "        # 오른쪽에서부터 왼쪽으로 이동\n",
    "        while right > start and array[right] >= array[pivot]:\n",
    "            right -= 1\n",
    "        # 엇갈린 경우\n",
    "        if left > right:\n",
    "            # 작은 데이터와 피벗 값 교체\n",
    "            array[right], array[pivot] = array[pivot], array[right]\n",
    "        else:\n",
    "            # 작은 데이터와 큰 데이터 교체\n",
    "            array[left], array[right] = array[right], array[left]\n",
    "\n",
    "    # 분할 이후\n",
    "    quick_sort(array, start, right - 1) # 왼쪽 부분\n",
    "    quick_sort(array, right + 1, end)   # 오른쪽 부분\n",
    "\n",
    "quick_sort(array, 0, len(array)-1)\n",
    "print(array)"
   ]
  },
  {
   "cell_type": "code",
   "execution_count": 15,
   "metadata": {},
   "outputs": [
    {
     "output_type": "stream",
     "name": "stdout",
     "text": [
      "[0, 1, 2, 3, 4, 5, 6, 7, 8, 9]\n"
     ]
    }
   ],
   "source": [
    "# 리스트\n",
    "array = [5, 7, 9, 0, 3, 1, 6, 2, 4, 8]\n",
    "\n",
    "def quick_sort(array):\n",
    "    # 리스트가 하나 이하의 원소만을 담고 있다면 종료\n",
    "    if len(array) <= 1:\n",
    "        return array\n",
    "\n",
    "    pivot = array[0] # 피벗 = 첫 번째 원소\n",
    "    tail = array[1:] # 피벗을 제외한 리스트\n",
    "\n",
    "    # 분할된 왼쪽 부분: 피벗보다 작은 데이터\n",
    "    left_side = [x for x in tail if x <= pivot] \n",
    "    # 분할된 오른쪽 부분: 피벗보다 큰 데이터\n",
    "    right_side = [x for x in tail if x > pivot] \n",
    "\n",
    "    # 분할 이후 왼쪽 부분과 오른쪽 부분에서 각각 정렬을 수행하고, 전체 리스트를 반환\n",
    "    return quick_sort(left_side) + [pivot] + quick_sort(right_side)\n",
    "\n",
    "print(quick_sort(array))"
   ]
  },
  {
   "source": [
    "### 1-4. 계수 정렬"
   ],
   "cell_type": "markdown",
   "metadata": {}
  },
  {
   "source": [
    "* 계수 정렬: 데이터의 크기 범위가 제한되어 정수 형태로 표현할 수 있을 때\n",
    "* 시간복잡도: $O(N + K)$\n",
    "* 과정: 배열 초기화 -> 각 데이터 등장횟수 기록 -> 등장횟수만큼 반복하여 출력\n",
    "* 사용: 동일한 값을 가지는 데이터가 여러 개 등장할 때 효과적"
   ],
   "cell_type": "markdown",
   "metadata": {}
  },
  {
   "cell_type": "code",
   "execution_count": 16,
   "metadata": {},
   "outputs": [
    {
     "output_type": "stream",
     "name": "stdout",
     "text": [
      "0 0 1 1 2 2 3 4 5 5 6 7 8 9 9 "
     ]
    }
   ],
   "source": [
    "# 모든 원소의 값이 0보다 크거나 같다고 가정\n",
    "array = [7, 5, 9, 0, 3, 1, 6, 2, 9, 1, 4, 8, 0, 5, 2]\n",
    "# 배열 초기화\n",
    "count = [0] * (max(array) + 1)\n",
    "\n",
    "# 각 데이터 등장횟수 기록\n",
    "for i in range(len(array)):\n",
    "    count[array[i]] += 1 \n",
    "\n",
    "# 등장횟수만큼 반복하여 출력\n",
    "for i in range(len(count)): \n",
    "    # 띄어쓰기를 구분으로 등장한 횟수만큼 인덱스 출력\n",
    "    for j in range(count[i]):\n",
    "        print(i, end=' ') "
   ]
  },
  {
   "source": [
    "### 1-5. 비교"
   ],
   "cell_type": "markdown",
   "metadata": {}
  },
  {
   "source": [
    "![](images/4-정렬비교.png)"
   ],
   "cell_type": "markdown",
   "metadata": {}
  },
  {
   "source": [
    "## 2. 문제"
   ],
   "cell_type": "markdown",
   "metadata": {}
  },
  {
   "source": [
    "### 2-1. 두 배열의 원소 교체"
   ],
   "cell_type": "markdown",
   "metadata": {}
  },
  {
   "source": [
    "* 문제: 배열 A와 배열 B를 최대 K번 바꿔치기하여 배열 A의 모든 원소의 합이 최대가 되도록"
   ],
   "cell_type": "markdown",
   "metadata": {}
  },
  {
   "source": [
    "**Solution**"
   ],
   "cell_type": "markdown",
   "metadata": {}
  },
  {
   "cell_type": "code",
   "execution_count": null,
   "metadata": {},
   "outputs": [],
   "source": [
    "n, k = map(int, input().split())    # 배열 길이 N, 반복 횟수 K\n",
    "a = list(map(int, input().split())) # 배열 A\n",
    "b = list(map(int, input().split())) # 배열 B\n",
    "\n",
    "a.sort()             # 배열 A는 오름차순 정렬 수행\n",
    "b.sort(reverse=True) # 배열 B는 내림차순 정렬 수행\n",
    "\n",
    "# 첫 번째 인덱스부터 확인\n",
    "for i in range(k):\n",
    "    # A의 원소가 B의 원소보다 작은 경우\n",
    "    if a[i] < b[i]:\n",
    "        # 두 원소를 교체\n",
    "        a[i], b[i] = b[i], a[i]\n",
    "    # A의 원소가 B의 원소보다 크거나 같을 때, 반복문을 탈출\n",
    "    else: \n",
    "        break\n",
    "\n",
    "print(sum(a)) # 배열 A 모든 원소의 합"
   ]
  },
  {
   "source": [
    "**My Solution**"
   ],
   "cell_type": "markdown",
   "metadata": {}
  },
  {
   "cell_type": "code",
   "execution_count": 22,
   "metadata": {},
   "outputs": [],
   "source": [
    "def solution(n, k, a, b):\n",
    "    a.sort()\n",
    "    b.sort()\n",
    "\n",
    "    for i in range(k):\n",
    "        # 배열 A의 값이 배열 B의 값보다 커지는 경우\n",
    "        if a[i] > b[n-1-i]:\n",
    "            break\n",
    "        a[i] = b[n-1-i]\n",
    "    \n",
    "    return(sum(a))"
   ]
  },
  {
   "cell_type": "code",
   "execution_count": 23,
   "metadata": {},
   "outputs": [
    {
     "output_type": "execute_result",
     "data": {
      "text/plain": [
       "26"
      ]
     },
     "metadata": {},
     "execution_count": 23
    }
   ],
   "source": [
    "solution(5, 3, [1,2,5,4,3], [5,5,6,6,5])"
   ]
  }
 ]
}
