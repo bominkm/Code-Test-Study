{
 "metadata": {
  "language_info": {
   "codemirror_mode": {
    "name": "ipython",
    "version": 3
   },
   "file_extension": ".py",
   "mimetype": "text/x-python",
   "name": "python",
   "nbconvert_exporter": "python",
   "pygments_lexer": "ipython3",
   "version": "3.8.5"
  },
  "orig_nbformat": 2,
  "kernelspec": {
   "name": "python385jvsc74a57bd0a08b232263a2c3586a8fb9be8156a4aaace43131629c72af5b236356470a6bed",
   "display_name": "Python 3.8.5 64-bit ('base': conda)"
  },
  "metadata": {
   "interpreter": {
    "hash": "a08b232263a2c3586a8fb9be8156a4aaace43131629c72af5b236356470a6bed"
   }
  }
 },
 "nbformat": 4,
 "nbformat_minor": 2,
 "cells": [
  {
   "source": [
    "# 이진 탐색"
   ],
   "cell_type": "markdown",
   "metadata": {}
  },
  {
   "source": [
    "* **이진 탐색 함수** 구현\n",
    "    1. 중간점 지정 \n",
    "    2. 중간점이 찾고자 하는 값인 경우 -> 중간점 반환\n",
    "    3. 중간점보다 찾고자 하는 값이 작은 경우 -> 왼쪽으로 이동\n",
    "    4. 중간점보다 찾고자 하는 값이 큰 경우 -> 오른쪽으로 이동"
   ],
   "cell_type": "markdown",
   "metadata": {}
  },
  {
   "source": [
    "## 1. 개념"
   ],
   "cell_type": "markdown",
   "metadata": {}
  },
  {
   "source": [
    "### 1-1. 이진 탐색"
   ],
   "cell_type": "markdown",
   "metadata": {}
  },
  {
   "source": [
    "* 순차 탐색: 특정한 데이터를 찾기 위해 앞에서부터 데이터를 하나씩 확인하는 방법\n",
    "* 이진 탐색: 리스트에서 탐색 범위를 절반씩 좁혀가며 데이터를 탐색하는 방법\n",
    "* 시간복잡도\n",
    "    * $log{_2}N$: 단계마다 탐색 범위를 2로 나누기 때문"
   ],
   "cell_type": "markdown",
   "metadata": {}
  },
  {
   "source": [
    "![](images/이진탐색.png)"
   ],
   "cell_type": "markdown",
   "metadata": {}
  },
  {
   "cell_type": "code",
   "execution_count": 1,
   "metadata": {},
   "outputs": [
    {
     "output_type": "stream",
     "name": "stdout",
     "text": [
      "4\n"
     ]
    }
   ],
   "source": [
    "# 이진 탐색 소스코드 구현 (재귀 함수)\n",
    "def binary_search(array, target, start, end):\n",
    "    # 찾는 값이 존재하지 않는 경우\n",
    "    if start > end:\n",
    "        return None\n",
    "    # 중간점\n",
    "    mid = (start + end) // 2\n",
    "    # 찾은 경우 중간점 인덱스 반환\n",
    "    if array[mid] == target:\n",
    "        return mid\n",
    "    # 중간점의 값보다 찾고자 하는 값이 작은 경우 왼쪽 확인(-1)\n",
    "    elif array[mid] > target:\n",
    "        return binary_search(array, target, start, mid - 1)\n",
    "    # 중간점의 값보다 찾고자 하는 값이 큰 경우 오른쪽 확인(+1)\n",
    "    else:\n",
    "        return binary_search(array, target, mid + 1, end)\n",
    "\n",
    "# n(원소의 개수)과 target(찾고자 하는 값)을 입력 받기\n",
    "n, target = list(map(int, input().split()))\n",
    "# 전체 원소 입력 받기\n",
    "array = list(map(int, input().split()))\n",
    "\n",
    "# 이진 탐색 수행 결과 출력\n",
    "result = binary_search(array, target, 0, n - 1)\n",
    "if result == None:\n",
    "    print(\"원소가 존재하지 않습니다.\")\n",
    "else:\n",
    "    print(result + 1)"
   ]
  },
  {
   "source": [
    "### 1-2. 이진 탐색 라이브러리"
   ],
   "cell_type": "markdown",
   "metadata": {}
  },
  {
   "source": [
    "* bisect_left(a, x): 정렬된 순서를 유지하면서 배열 a에 x를 삽입할 가장 왼쪽 인덱스를 반환\n",
    "* bisect_right(a, x): 정렬된 순서를 유지하면서 배열 a에 x를 삽입할 가장 오른쪽 인덱스를 반환"
   ],
   "cell_type": "markdown",
   "metadata": {}
  },
  {
   "source": [
    "![](images/이진탐색-라이브러리.png)"
   ],
   "cell_type": "markdown",
   "metadata": {}
  },
  {
   "cell_type": "code",
   "execution_count": 2,
   "metadata": {},
   "outputs": [
    {
     "output_type": "stream",
     "name": "stdout",
     "text": [
      "2\n4\n"
     ]
    }
   ],
   "source": [
    "from bisect import bisect_left, bisect_right\n",
    "\n",
    "a = [1, 2, 4, 4, 8]\n",
    "x = 4\n",
    "\n",
    "print(bisect_left(a, x))\n",
    "print(bisect_right(a, x))"
   ]
  },
  {
   "cell_type": "code",
   "execution_count": 3,
   "metadata": {},
   "outputs": [
    {
     "output_type": "stream",
     "name": "stdout",
     "text": [
      "2\n6\n"
     ]
    }
   ],
   "source": [
    "from bisect import bisect_left, bisect_right\n",
    "\n",
    "def count_by_range(a, left_value, right_value):\n",
    "    right_index = bisect_right(a, right_value)\n",
    "    left_index = bisect_left(a, left_value)\n",
    "    return right_index - left_index\n",
    "\n",
    "a = [1, 2, 3, 3, 3, 3, 4, 4, 8, 9]\n",
    "\n",
    "# 값이 4인 데이터 출력\n",
    "print(count_by_range(a, 4, 4))\n",
    "\n",
    "# 값이 [-1, 3] 범위에 있는 데이터 개수 출력\n",
    "print(count_by_range(a, -1, 3))"
   ]
  },
  {
   "source": [
    "### 1-3. 파라메트릭 서치"
   ],
   "cell_type": "markdown",
   "metadata": {}
  },
  {
   "source": [
    "* 파라메트릭 서치\n",
    "    * 최적화 문제를 여러 번릐 결정 문제(ex. '예' or '아니오')로 바꾸어 해결하는 기법\n",
    "    * ex. 특정한 조건을 만족하는 가장 알맞은 값을 빠르게 찾는 문제\n",
    "    * 일반적으로 코딩 테스트에서 이진 탐색으로 해결 가능"
   ],
   "cell_type": "markdown",
   "metadata": {}
  },
  {
   "source": [
    "## 2. 문제"
   ],
   "cell_type": "markdown",
   "metadata": {}
  },
  {
   "source": [
    "### 2-1. 부품 찾기"
   ],
   "cell_type": "markdown",
   "metadata": {}
  },
  {
   "source": [
    "* 문제: 손님이 요청한 부품이 가게에 모두 있는지 확인"
   ],
   "cell_type": "markdown",
   "metadata": {}
  },
  {
   "source": [
    "**Solution**"
   ],
   "cell_type": "markdown",
   "metadata": {}
  },
  {
   "cell_type": "code",
   "execution_count": 5,
   "metadata": {},
   "outputs": [],
   "source": [
    "# 이진 탐색 소스코드 구현 (반복문)\n",
    "def binary_search(array, target, start, end):\n",
    "    while start <= end:\n",
    "        mid = (start + end) // 2\n",
    "        # 찾은 경우 중간점 인덱스 반환\n",
    "        if array[mid] == target:\n",
    "            return mid\n",
    "        # 중간점의 값보다 찾고자 하는 값이 작은 경우 왼쪽 확인\n",
    "        elif array[mid] > target:\n",
    "            end = mid - 1\n",
    "        # 중간점의 값보다 찾고자 하는 값이 작은 경우 오른쪽 확인\n",
    "        else:\n",
    "            start = mid + 1\n",
    "    return None\n",
    "\n",
    "def solution(n, array, m, x):\n",
    "    # 이진 탐색을 수행하기 위한 정렬\n",
    "    array.sort()\n",
    "\n",
    "    # 손님이 확인 요청한 부품 번호를 하나씩 확인\n",
    "    for i in x:\n",
    "        # 해당 부품이 존재하는지 확인\n",
    "        result = binary_search(array, i, 0, n - 1)\n",
    "        if result != None:\n",
    "            print('yes', end=' ')\n",
    "        else:\n",
    "            print('no', end=' ')"
   ]
  },
  {
   "cell_type": "code",
   "execution_count": 6,
   "metadata": {},
   "outputs": [
    {
     "output_type": "stream",
     "name": "stdout",
     "text": [
      "no yes yes "
     ]
    }
   ],
   "source": [
    "solution(5, [8,3,7,9,2], 3, [5,7,9])"
   ]
  },
  {
   "source": [
    "### 2-2. 떡볶이 떡 만들기"
   ],
   "cell_type": "markdown",
   "metadata": {}
  },
  {
   "source": [
    "* 문제: 떡볶이 떡이 절단기 높이만큼의 길이로 잘릴 때, 적어도 M 길이의 떡을 얻기 위해 설정할 수 있는 높이의 최댓값"
   ],
   "cell_type": "markdown",
   "metadata": {}
  },
  {
   "source": [
    "**Solution**"
   ],
   "cell_type": "markdown",
   "metadata": {}
  },
  {
   "cell_type": "code",
   "execution_count": null,
   "metadata": {},
   "outputs": [],
   "source": [
    "# 떡의 개수(N)와 요청한 떡의 길이(M)을 입력\n",
    "n, m = list(map(int, input().split(' ')))\n",
    "# 각 떡의 개별 높이 정보를 입력\n",
    "array = list(map(int, input().split()))\n",
    "\n",
    "# 이진 탐색을 위한 시작점과 끝점 설정\n",
    "start = 0\n",
    "end = max(array)\n",
    "\n",
    "# 이진 탐색 수행 (반복적)\n",
    "result = 0\n",
    "while(start <= end):\n",
    "    total = 0\n",
    "    mid = (start + end) // 2\n",
    "    for x in array:\n",
    "        # 잘랐을 때의 떡볶이 양 계산\n",
    "        if x > mid:\n",
    "            total += x - mid\n",
    "    # 떡볶이 양이 부족한 경우 더 많이 자르기 (오른쪽 부분 탐색)\n",
    "    if total < m:\n",
    "        end = mid - 1\n",
    "    # 떡볶이 양이 충분한 경우 덜 자르기 (왼쪽 부분 탐색)\n",
    "    else:\n",
    "        result = mid # 최대한 덜 잘랐을 때가 정답이므로, 여기에서 result에 기록\n",
    "        start = mid + 1\n",
    "\n",
    "# 정답 출력\n",
    "print(result)"
   ]
  }
 ]
}