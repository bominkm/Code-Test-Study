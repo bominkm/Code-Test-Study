{
 "metadata": {
  "language_info": {
   "codemirror_mode": {
    "name": "ipython",
    "version": 3
   },
   "file_extension": ".py",
   "mimetype": "text/x-python",
   "name": "python",
   "nbconvert_exporter": "python",
   "pygments_lexer": "ipython3",
   "version": "3.8.5"
  },
  "orig_nbformat": 2,
  "kernelspec": {
   "name": "python385jvsc74a57bd0a08b232263a2c3586a8fb9be8156a4aaace43131629c72af5b236356470a6bed",
   "display_name": "Python 3.8.5 64-bit ('base': conda)"
  },
  "metadata": {
   "interpreter": {
    "hash": "a08b232263a2c3586a8fb9be8156a4aaace43131629c72af5b236356470a6bed"
   }
  }
 },
 "nbformat": 4,
 "nbformat_minor": 2,
 "cells": [
  {
   "source": [
    "# 코딩테스트 출제경향 분석 및 파이썬 문법"
   ],
   "cell_type": "markdown",
   "metadata": {}
  },
  {
   "source": [
    "## 1. 코딩테스트 개요 및 출제 경향"
   ],
   "cell_type": "markdown",
   "metadata": {}
  },
  {
   "source": [
    "### 1-1. 개요"
   ],
   "cell_type": "markdown",
   "metadata": {}
  },
  {
   "source": [
    "**온라인 저지(Online Judge)**\n",
    "* 백준\n",
    "* 코드업: 초보자에게 추천\n",
    "* 프로그래머스: 인기 대기업\n",
    "* SW Expert Academy\n",
    "\n",
    "**프로그래밍 언어**\n",
    "* 파이썬: 유리함\n",
    "* C++\n",
    "* 자바\n",
    "\n",
    "**프로그래밍 언어**\n",
    "* 파이썬: 유리함\n",
    "* C++\n",
    "* 자바\n",
    "\n",
    "자신만의 소스코드 관리하기\n",
    "* 팀노트"
   ],
   "cell_type": "markdown",
   "metadata": {}
  },
  {
   "source": [
    "### 1-2. 최신 출제 경향"
   ],
   "cell_type": "markdown",
   "metadata": {}
  },
  {
   "source": [
    "* 대부분의 대기업(삼성전자, 카카오, 라인)\n",
    "* 2~5시간 가량의 시험시간\n",
    "* 출제빈도가 높은 알고리즘 유형\n",
    "  * 그리디\n",
    "  * 구현\n",
    "  *  DFS/BFS를 활용한 탐색"
   ],
   "cell_type": "markdown",
   "metadata": {}
  },
  {
   "source": [
    "![](/images/최신경향.png)"
   ],
   "cell_type": "markdown",
   "metadata": {}
  },
  {
   "source": [
    "* 삼성전자: DFS/BFS 많이 출제됨, 2문제 모두 맞춰야함\n",
    "* 카카오, 라인: 다양한 유형의 문제 출제됨"
   ],
   "cell_type": "markdown",
   "metadata": {}
  },
  {
   "source": [
    "## 2. 알고리즘 성능 평가"
   ],
   "cell_type": "markdown",
   "metadata": {}
  },
  {
   "source": [
    "## 2-1. 복잡도"
   ],
   "cell_type": "markdown",
   "metadata": {}
  },
  {
   "source": [
    "* 개념  \n",
    "1) 시간복잡도: 수행 시간   \n",
    "2) 공간복잡도: 메모리 사용량\n",
    "\n",
    "* 표기법  \n",
    "1) 빅오 표기법: 가장 빠르게 증가하는 항만 고려하는 표기법  ex. 2중 반복문 O(N^2)\n",
    "   \n",
    "![](images/복잡도.png)"
   ],
   "cell_type": "markdown",
   "metadata": {}
  },
  {
   "source": [
    "* 문제 해결 과정  \n",
    "1) 지문 읽기 및 컴퓨터적 사고  \n",
    "2) 요구사항(복잡도) 분석  \n",
    "3) 문제 해결을 위한 아이디어 찾기  \n",
    "4) 소스코드 설계 및 코딩  "
   ],
   "cell_type": "markdown",
   "metadata": {}
  },
  {
   "cell_type": "code",
   "execution_count": 1,
   "metadata": {},
   "outputs": [
    {
     "output_type": "stream",
     "name": "stdout",
     "text": [
      "time:  1.3828277587890625e-05\n"
     ]
    }
   ],
   "source": [
    "import time\n",
    "start_time = time.time()\n",
    "end_time = time.time()\n",
    "print('time: ', end_time - start_time)"
   ]
  },
  {
   "source": [
    "## 3. 파이썬 문법: 수 자료형"
   ],
   "cell_type": "markdown",
   "metadata": {}
  },
  {
   "source": [
    "* 정수형: 양의 정수, 음의 정수, 0\n",
    "* 실수형: 소수부가 0이거나 정수부가 0인 경우 생략할 수 있음\n",
    "* 지수표현\n",
    "  * 10의 지수부\n",
    "  * 최단 경로 알고리즘에서는 도달할 수 없는 노드에 대하여 최단거리를 무한(Inf)로 설정하기도 함"
   ],
   "cell_type": "markdown",
   "metadata": {}
  },
  {
   "cell_type": "code",
   "execution_count": 3,
   "metadata": {},
   "outputs": [
    {
     "output_type": "stream",
     "name": "stdout",
     "text": [
      "a:  5.0 , b:  -0.7\n"
     ]
    }
   ],
   "source": [
    "# 실수형\n",
    "a = 5.\n",
    "b = -.7\n",
    "print(\"a: \", a, \", b: \", b)"
   ]
  },
  {
   "cell_type": "code",
   "execution_count": 5,
   "metadata": {},
   "outputs": [
    {
     "output_type": "stream",
     "name": "stdout",
     "text": [
      "a:  752.5\n"
     ]
    }
   ],
   "source": [
    "# 지수표현\n",
    "a = 75.25e1\n",
    "print(\"a: \", a)"
   ]
  },
  {
   "source": [
    "* 실수형이 제대로 표현되지 않는 것을 방지하기 위해 round() 함수 사용\n",
    "* 나누기(/), 몫(//), 나머지(%), 거듭제곱(**)"
   ],
   "cell_type": "markdown",
   "metadata": {}
  },
  {
   "source": [
    "## 4. 파이썬 문법: 리스트"
   ],
   "cell_type": "markdown",
   "metadata": {}
  },
  {
   "source": [
    "* 리스트: 대괄호([]) 안에 원소를 넣어 초기화"
   ],
   "cell_type": "markdown",
   "metadata": {}
  },
  {
   "cell_type": "code",
   "execution_count": 8,
   "metadata": {},
   "outputs": [
    {
     "output_type": "stream",
     "name": "stdout",
     "text": [
      "a=  [0, 0, 0, 0, 0, 0, 0, 0, 0, 0]\n"
     ]
    }
   ],
   "source": [
    "n = 10\n",
    "a = [0]*n\n",
    "print('a = ', a)"
   ]
  },
  {
   "source": [
    "* 인덱싱\n",
    "* 슬라이싱: 대괄호 안에 콜론(:)을 넣어 시작 인덱스와 끝 인덱스 설정"
   ],
   "cell_type": "markdown",
   "metadata": {}
  },
  {
   "cell_type": "code",
   "execution_count": 10,
   "metadata": {},
   "outputs": [
    {
     "output_type": "execute_result",
     "data": {
      "text/plain": [
       "[0, 0, 0]"
      ]
     },
     "metadata": {},
     "execution_count": 10
    }
   ],
   "source": [
    "# 슬라이싱\n",
    "a[1:4]"
   ]
  },
  {
   "source": [
    "* 리스트 컴프리헨션: 대괄호 안에 조건문과 반복문을 적용하여 리스트 초기화"
   ],
   "cell_type": "markdown",
   "metadata": {}
  },
  {
   "cell_type": "code",
   "execution_count": 13,
   "metadata": {},
   "outputs": [
    {
     "output_type": "stream",
     "name": "stdout",
     "text": [
      "[0, 1, 2, 3, 4, 5, 6, 7, 8, 9]\n"
     ]
    }
   ],
   "source": [
    "array = [i for i in range(10)]\n",
    "print(array)"
   ]
  },
  {
   "cell_type": "code",
   "execution_count": 14,
   "metadata": {},
   "outputs": [
    {
     "output_type": "stream",
     "name": "stdout",
     "text": [
      "[1, 3, 5, 7, 9, 11, 13, 15, 17, 19]\n"
     ]
    }
   ],
   "source": [
    "# 0부터 19까지의 수 중에서 홀수만 포함하는 리스트\n",
    "array = [i for i in range(20) if i % 2 == 1]\n",
    "print(array)"
   ]
  },
  {
   "source": [
    "* 언더바(_): 반복을 수행하되 반복을 위한 변수의 값을 무시하고자 할 때"
   ],
   "cell_type": "markdown",
   "metadata": {}
  },
  {
   "cell_type": "code",
   "execution_count": 16,
   "metadata": {},
   "outputs": [
    {
     "output_type": "stream",
     "name": "stdout",
     "text": [
      "[[0, 0, 0], [0, 0, 0], [0, 0, 0], [0, 0, 0]]\n"
     ]
    }
   ],
   "source": [
    "# 2차원 리스트\n",
    "n = 4 # 행\n",
    "m = 3 # 열\n",
    "array = [[0]*m for _ in range(n)]\n",
    "print(array)"
   ]
  },
  {
   "source": [
    "## 5. 파이썬 문법: 문자열, 튜플"
   ],
   "cell_type": "markdown",
   "metadata": {}
  },
  {
   "source": [
    "* 튜플: 한 번 선언된 값을 변경할 수 없음\n",
    "  * 서로 다른 성질의 데이터를 묶어서 관리할 때\n",
    "  * 데이터의 나열을 해싱의 키 값으로 사용할 때\n",
    "  * 리스트보다 메모리를 효율적으로 사용해야 할 때"
   ],
   "cell_type": "markdown",
   "metadata": {}
  },
  {
   "cell_type": "code",
   "execution_count": 19,
   "metadata": {},
   "outputs": [
    {
     "output_type": "stream",
     "name": "stdout",
     "text": [
      "(1, 2, 3, 4, 5)\n"
     ]
    }
   ],
   "source": [
    "a = (1, 2, 3, 4, 5)\n",
    "print(a)"
   ]
  },
  {
   "source": [
    "## 6. 파이썬 문법: 사전, 집합"
   ],
   "cell_type": "markdown",
   "metadata": {}
  },
  {
   "source": [
    "* 사전 자료형: 변경 불가능한 자료형을 키로 사용\n",
    "  * keys(), values(): 원하는 값 가져오는 함수"
   ],
   "cell_type": "markdown",
   "metadata": {}
  },
  {
   "cell_type": "code",
   "execution_count": 21,
   "metadata": {},
   "outputs": [
    {
     "output_type": "stream",
     "name": "stdout",
     "text": [
      "{'사과': 'Apple', '바나나': 'Banana'}\n"
     ]
    }
   ],
   "source": [
    "data = dict()\n",
    "data['사과'] = 'Apple'\n",
    "data['바나나'] = 'Banana'\n",
    "print(data)"
   ]
  },
  {
   "cell_type": "code",
   "execution_count": 23,
   "metadata": {},
   "outputs": [
    {
     "output_type": "stream",
     "name": "stdout",
     "text": [
      "['사과', '바나나']\n"
     ]
    }
   ],
   "source": [
    "# 값을 사용하고자 할 때는 리스트로 변환 후 사용할 것\n",
    "key_list = list(data.keys())\n",
    "print(key_list)"
   ]
  },
  {
   "source": [
    "* 집합 자료형: 합집합, 교집합, 차집합"
   ],
   "cell_type": "markdown",
   "metadata": {}
  },
  {
   "cell_type": "code",
   "execution_count": 25,
   "metadata": {},
   "outputs": [
    {
     "output_type": "stream",
     "name": "stdout",
     "text": [
      "{1, 2, 3, 4, 5, 6, 7}\n"
     ]
    }
   ],
   "source": [
    "a = set([1, 2, 3, 4, 5])\n",
    "b = set([3, 4, 5, 6, 7])\n",
    "print(a|b)"
   ]
  },
  {
   "cell_type": "code",
   "execution_count": 28,
   "metadata": {},
   "outputs": [
    {
     "output_type": "stream",
     "name": "stdout",
     "text": [
      "{1, 2, 3, 4}\n{1, 2, 3, 4, 5, 6}\n"
     ]
    }
   ],
   "source": [
    "data = set([1, 2, 3])\n",
    "# 새로운 원소 추가\n",
    "data.add(4)\n",
    "print(data)\n",
    "ta = set([1, 2, 3])\n",
    "# 새로운 원소 추가\n",
    "data.add(4)\n",
    "print(data)\n",
    "# 새로운 원소 여러개 추가\n",
    "data.update([5, 6])\n",
    "print(data)"
   ]
  },
  {
   "source": [
    "## 7. 파이썬 문법: 기본 입출력"
   ],
   "cell_type": "markdown",
   "metadata": {}
  },
  {
   "source": [
    "자주 사용되는 표준 입력 방법\n",
    "* input(): 한 줄의 문자열을 입력 받는 함수\n",
    "* map(): 리스트의 모든 원소에 각각 특정한 함수를 적용할 때 사용"
   ],
   "cell_type": "markdown",
   "metadata": {}
  },
  {
   "cell_type": "code",
   "execution_count": 34,
   "metadata": {},
   "outputs": [
    {
     "output_type": "stream",
     "name": "stdout",
     "text": [
      "[95, 94, 93, 78, 24]\n"
     ]
    }
   ],
   "source": [
    "# 데이터 개수 입력\n",
    "n = int(input())\n",
    "# 각 데이터를 공백을 기준으로 구분하여 입력\n",
    "data = list(map(int, input().split()))\n",
    "data.sort(reverse = True)\n",
    "print(data)"
   ]
  },
  {
   "source": [
    "빠르게 입력 받기\n",
    "* readline(): line 별로 읽기\n",
    "* rstrip(): enter 기준으로 분리"
   ],
   "cell_type": "markdown",
   "metadata": {}
  },
  {
   "cell_type": "code",
   "execution_count": 36,
   "metadata": {},
   "outputs": [
    {
     "output_type": "stream",
     "name": "stdout",
     "text": [
      "\n"
     ]
    }
   ],
   "source": [
    "import sys\n",
    "data = sys.stdin.readline().rstrip()\n",
    "print(data)"
   ]
  },
  {
   "source": [
    "* f-string"
   ],
   "cell_type": "markdown",
   "metadata": {}
  },
  {
   "cell_type": "code",
   "execution_count": 37,
   "metadata": {},
   "outputs": [
    {
     "output_type": "stream",
     "name": "stdout",
     "text": [
      "정답은 7입니다.\n"
     ]
    }
   ],
   "source": [
    "answer = 7\n",
    "print(f\"정답은 {answer}입니다.\")"
   ]
  },
  {
   "source": [
    "## 8. 조건문"
   ],
   "cell_type": "markdown",
   "metadata": {}
  },
  {
   "source": [
    "* 조건문의 기본적인 형태: if ~ elif ~ else\n",
    "* 비교 연산자: 특정한 두 값 비교\n",
    "* 논리 연산자: 논리값 사이의 연산\n",
    "* 기타 연산자: in 연산자, not in 연산자\n",
    "* pass: 조건문 형태만 만들어 놓고 조건문을 처리하는 부분은 비워놓고 싶은 경우"
   ],
   "cell_type": "markdown",
   "metadata": {}
  },
  {
   "source": [
    "* 조건부 표현식"
   ],
   "cell_type": "markdown",
   "metadata": {}
  },
  {
   "cell_type": "code",
   "execution_count": 40,
   "metadata": {},
   "outputs": [
    {
     "output_type": "stream",
     "name": "stdout",
     "text": [
      "Success\n"
     ]
    }
   ],
   "source": [
    "# 조건부 간소화\n",
    "score = 85\n",
    "result = \"Success\" if score >= 80 else \"Fail\"\n",
    "print(result)"
   ]
  },
  {
   "source": [
    "## 9. 반복문"
   ],
   "cell_type": "markdown",
   "metadata": {}
  },
  {
   "source": [
    "* 무한루프: 끊임없이 반복되는 구문, 반복문을 탈출할 수 있는지 확인\n",
    "* for문: for 변수 in 리스트\n",
    "* continue: 남은 코드의 실행은 건너뛰고 다음 반복을 진행하고자 할 때\n",
    "* break: 반복문을 즉시 탈출하고자 할 때"
   ],
   "cell_type": "markdown",
   "metadata": {}
  },
  {
   "cell_type": "code",
   "execution_count": 44,
   "metadata": {},
   "outputs": [
    {
     "output_type": "stream",
     "name": "stdout",
     "text": [
      "1 번 학생은 합격입니다.\n5 번 학생은 합격입니다.\n"
     ]
    }
   ],
   "source": [
    "# 특정 번호의 학생 제외\n",
    "scores = [90, 85, 77, 65, 97]\n",
    "cheating_student_list = {2, 4}\n",
    "for i in range(5):\n",
    "    if i+1 in cheating_student_list:\n",
    "        continue\n",
    "    if scores[i] >= 80:\n",
    "        print(i+1, \"번 학생은 합격입니다.\")"
   ]
  },
  {
   "source": [
    "## 10. 함수와 람다 표현식"
   ],
   "cell_type": "markdown",
   "metadata": {}
  },
  {
   "source": [
    "### 10-1. 함수"
   ],
   "cell_type": "markdown",
   "metadata": {}
  },
  {
   "source": [
    "* 내장 함수: 파이썬이 기본적으로 제공하는 함수\n",
    "* 사용자 정의 함수: 개발자가 직접 정의하여 사용할 수 있는 함수\n",
    "* 매개변수: 함수 내부에서 사용하는 변수, 파라미터의 변수 직접 지정 가능\n",
    "* global 키워드: 함수 바깥에서 선언된 변수"
   ],
   "cell_type": "markdown",
   "metadata": {}
  },
  {
   "source": [
    "### 10-2. 람다 표현식"
   ],
   "cell_type": "markdown",
   "metadata": {}
  },
  {
   "source": [
    "* 람다 표현식: 함수를 간단하게 작성할 수 있음"
   ],
   "cell_type": "markdown",
   "metadata": {}
  },
  {
   "cell_type": "code",
   "execution_count": 45,
   "metadata": {},
   "outputs": [
    {
     "output_type": "stream",
     "name": "stdout",
     "text": [
      "[('이순신', 32), ('홍길동', 50), ('아무개', 74)]\n"
     ]
    }
   ],
   "source": [
    "array = [('홍길동', 50), ('이순신', 32), ('아무개', 74)]\n",
    "print(sorted(array, key = lambda x: x[1]))"
   ]
  },
  {
   "cell_type": "code",
   "execution_count": 47,
   "metadata": {},
   "outputs": [
    {
     "output_type": "stream",
     "name": "stdout",
     "text": [
      "[7, 9, 11, 13, 15]\n"
     ]
    }
   ],
   "source": [
    "list1 = [1, 2, 3, 4, 5]\n",
    "list2 = [6, 7, 8, 9, 10]\n",
    "result = map(lambda a, b: a + b, list1, list2)\n",
    "print(list(result))"
   ]
  },
  {
   "source": [
    "## 11. 표준 라이브러리"
   ],
   "cell_type": "markdown",
   "metadata": {}
  },
  {
   "source": [
    "* itertools: 순열과 조합 라이브러리\n",
    "* heapq: 힙(Heap) 자료구조, 우선순위 큐 기능\n",
    "* bisect: 이진탐색\n",
    "* collections: 덱(deque), 카운터(Counter) 등의 유용한 자료구조 포함\n",
    "* math: 팩토리얼, 제곱근 등의 수학적 기능"
   ],
   "cell_type": "markdown",
   "metadata": {}
  },
  {
   "cell_type": "code",
   "execution_count": 50,
   "metadata": {},
   "outputs": [
    {
     "output_type": "stream",
     "name": "stdout",
     "text": [
      "56\n"
     ]
    }
   ],
   "source": [
    "result = eval(\"(3+5)*7\")\n",
    "print(result)"
   ]
  },
  {
   "source": [
    "* 순열"
   ],
   "cell_type": "markdown",
   "metadata": {}
  },
  {
   "cell_type": "code",
   "execution_count": 52,
   "metadata": {},
   "outputs": [
    {
     "output_type": "stream",
     "name": "stdout",
     "text": [
      "[('A', 'B', 'C'), ('A', 'C', 'B'), ('B', 'A', 'C'), ('B', 'C', 'A'), ('C', 'A', 'B'), ('C', 'B', 'A')]\n"
     ]
    }
   ],
   "source": [
    "from itertools import permutations\n",
    "data = [\"A\", \"B\", \"C\"]\n",
    "result = list(permutations(data, 3))\n",
    "print(result)"
   ]
  },
  {
   "source": [
    "* 중복 순열"
   ],
   "cell_type": "markdown",
   "metadata": {}
  },
  {
   "cell_type": "code",
   "execution_count": 57,
   "metadata": {},
   "outputs": [
    {
     "output_type": "stream",
     "name": "stdout",
     "text": [
      "[('A', 'A'), ('A', 'B'), ('A', 'C'), ('B', 'A'), ('B', 'B'), ('B', 'C'), ('C', 'A'), ('C', 'B'), ('C', 'C')]\n"
     ]
    }
   ],
   "source": [
    "from itertools import product\n",
    "data = [\"A\", \"B\", \"C\"]\n",
    "result = list(product(data, repeat=2))\n",
    "print(result)"
   ]
  },
  {
   "source": [
    "* 조합"
   ],
   "cell_type": "markdown",
   "metadata": {}
  },
  {
   "cell_type": "code",
   "execution_count": 55,
   "metadata": {},
   "outputs": [
    {
     "output_type": "stream",
     "name": "stdout",
     "text": [
      "[('A', 'B'), ('A', 'C'), ('B', 'C')]\n"
     ]
    }
   ],
   "source": [
    "from itertools import combinations\n",
    "data = [\"A\", \"B\", \"C\"]\n",
    "result = list(combinations(data, 2))\n",
    "print(result)"
   ]
  },
  {
   "source": [
    "* 중복 조합"
   ],
   "cell_type": "markdown",
   "metadata": {}
  },
  {
   "cell_type": "code",
   "execution_count": 59,
   "metadata": {},
   "outputs": [
    {
     "output_type": "stream",
     "name": "stdout",
     "text": [
      "[('A', 'A'), ('A', 'B'), ('A', 'C'), ('B', 'B'), ('B', 'C'), ('C', 'C')]\n"
     ]
    }
   ],
   "source": [
    "from itertools import combinations_with_replacement\n",
    "data = [\"A\", \"B\", \"C\"]\n",
    "result = list(combinations_with_replacement(data, 2))\n",
    "print(result)"
   ]
  },
  {
   "source": [
    "* Counter: 등장횟수"
   ],
   "cell_type": "markdown",
   "metadata": {}
  },
  {
   "cell_type": "code",
   "execution_count": 61,
   "metadata": {},
   "outputs": [
    {
     "output_type": "stream",
     "name": "stdout",
     "text": [
      "3\n"
     ]
    }
   ],
   "source": [
    "from collections import Counter\n",
    "counter = Counter(['red', 'blue', 'red', 'green', 'blue', 'blue'])\n",
    "print(counter['blue'])"
   ]
  },
  {
   "source": [
    "* 최대공약수와 최소공배수"
   ],
   "cell_type": "markdown",
   "metadata": {}
  },
  {
   "cell_type": "code",
   "execution_count": 63,
   "metadata": {},
   "outputs": [],
   "source": [
    "import math\n",
    "def lcm(a, b):\n",
    "    return a*b//math.gcd(a, b)"
   ]
  },
  {
   "cell_type": "code",
   "execution_count": 66,
   "metadata": {},
   "outputs": [
    {
     "output_type": "stream",
     "name": "stdout",
     "text": [
      "최대공약수:  7\n최소공배수:  42\n"
     ]
    }
   ],
   "source": [
    "a = 21\n",
    "b = 14\n",
    "print(\"최대공약수: \", math.gcd(21, 14))\n",
    "print(\"최소공배수: \", lcm(21, 14))"
   ]
  }
 ]
}
