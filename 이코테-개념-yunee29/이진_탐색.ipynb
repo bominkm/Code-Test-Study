{
  "nbformat": 4,
  "nbformat_minor": 0,
  "metadata": {
    "colab": {
      "name": "이진 탐색.ipynb",
      "provenance": []
    },
    "kernelspec": {
      "name": "python3",
      "display_name": "Python 3"
    },
    "language_info": {
      "name": "python"
    }
  },
  "cells": [
    {
      "cell_type": "code",
      "metadata": {
        "id": "NjfqvfiH4JHb"
      },
      "source": [
        "# 재귀 함수로 구현\n",
        "def binary_search(array, target, start, end):\n",
        "  if start > end:\n",
        "    return None\n",
        "  mid = (start + end) // 2\n",
        "  # 찾은 경우 중간점 인덱스 반환\n",
        "  if array[mid] == target:\n",
        "    return mid\n",
        "  # 중간점의 값보다 찾고자 하는 값이 작은 경우 왼쪽 확인\n",
        "  elif array[mid] > target:\n",
        "    return binary_search(array, target, start, mid-1)\n",
        "  # 중간점의 값보다 찾고자 하는 값이 큰 경우 오른쪽 확인\n",
        "  else:\n",
        "    return binary_search(array, target, mid+1, end)\n",
        "\n",
        "\n",
        "# 반복문으로 구현\n",
        "def binary_search(array, target, start, end):\n",
        "  while start <= end:\n",
        "    mid = (start+end)//2\n",
        "    if array[mid] == target:\n",
        "      return mid\n",
        "    elif array[mid] > target:\n",
        "      end = mid - 1\n",
        "    else: \n",
        "      start = mid + 1\n",
        "  return None\n",
        "  "
      ],
      "execution_count": null,
      "outputs": []
    },
    {
      "cell_type": "code",
      "metadata": {
        "id": "vHPDIMxl5j_L"
      },
      "source": [
        "# 빠르게 입력\n",
        "import sys\n",
        "input_data = sys.stdin.readline().rstrip()"
      ],
      "execution_count": null,
      "outputs": []
    }
  ]
}