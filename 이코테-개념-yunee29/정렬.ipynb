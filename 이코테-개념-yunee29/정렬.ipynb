{
  "nbformat": 4,
  "nbformat_minor": 0,
  "metadata": {
    "colab": {
      "name": "정렬.ipynb",
      "provenance": []
    },
    "kernelspec": {
      "name": "python3",
      "display_name": "Python 3"
    },
    "language_info": {
      "name": "python"
    }
  },
  "cells": [
    {
      "cell_type": "markdown",
      "metadata": {
        "id": "dgxoFPx9iAKZ"
      },
      "source": [
        "정렬\n",
        "- 선택 정렬\n",
        "- 삽입 정렬\n",
        "- 퀵 정렬\n",
        "- 계수 정렬"
      ]
    },
    {
      "cell_type": "code",
      "metadata": {
        "colab": {
          "base_uri": "https://localhost:8080/"
        },
        "id": "89vL7yOYh0D4",
        "outputId": "c18b62bc-91df-4b53-d599-ba51ad93ea1c"
      },
      "source": [
        "# -- 선택 정렬 (매번 가장 작은 것을 선택) -- #\n",
        "# 비효율적, 하지만 소스코드 익숙해질 것\n",
        "\n",
        "array = [7,5,9,0,3,1,6,2,4,8]\n",
        "\n",
        "for i in range(len(array)):\n",
        "  min_index = i\n",
        "  for j in range(i+1, len(array)):\n",
        "    if array[min_index] > array[j]:\n",
        "      min_index = j\n",
        "  array[i], array[min_index] = array[min_index], array[i]\n",
        "\n",
        "\n",
        "print(array)\n",
        "\n",
        "# -- 삽입 정렬 (특정한 데이터를 적절한 위치에 삽입)\n",
        "\n",
        "for i in range(1, len(array)):\n",
        "  for j in range(i, 0, -1):\n",
        "    if array[j] < array[j-1]:\n",
        "      array[j], array[j-1] = array[j-1], array\n",
        "    else:\n",
        "      break\n",
        "\n",
        "print(array)\n",
        "\n",
        "# -- 퀵 정렬\n",
        "\n",
        "def quick_sort(array, start, end):\n",
        "  if start >= end:\n",
        "    return\n",
        "  pivot = start\n",
        "  left = start + 1\n",
        "  right = end\n",
        "  while left <= right:\n",
        "    # 피벗보다 큰 데이터를 찾을 때까지 반복 \n",
        "    while left <= end and array[left] <= array[pivot]:\n",
        "      left += 1\n",
        "    # 피벗보다 작은 데이터를 찾을 때까지 반복 \n",
        "    while right > start and array[right] >= array[pivot]:\n",
        "      right -= 1\n",
        "    if left > right: # 엇갈렸다면 작은 데이터와 피벗을 교체\n",
        "      array[right], array[pivot] = array[pivot], array[right]\n",
        "    else: # 엇갈리지 않았다면 작은 데이터와 큰 데이터를 교체 \n",
        "      array[left], array[right] = array[right], array[left]\n",
        "  # 분할 이후 왼쪽 부분과 오른쪽 부분에서 각각 정렬 수행\n",
        "  quick_sort(array, start, right-1)\n",
        "  quick_sort(array, right+1, end)\n",
        "\n",
        "quick_sort(array, 0, len(array)-1)\n",
        "print(array)\n",
        "\n",
        "def quick_sort(array):\n",
        "  if len(array) <= 1:\n",
        "    return array\n",
        "  \n",
        "  pivot = array[0] # 피벗\n",
        "  tail = array[1:] # 피벗을 제외한 리스트\n",
        "\n",
        "  left_side = [x for x in tail if x <= pivot]\n",
        "  right_side = [x for x in tail if x > pivot]\n",
        "\n",
        "  return quick_sort(left_side) + [pivot] + quick_sort(right_side)\n",
        "\n",
        "print(quick_sort(array))\n",
        "\n",
        "# -- 계수 정렬 (특정한 조건이 부합할때만 사용)\n",
        "count = [0]*(max(array)+1)\n",
        "\n",
        "for i in range(len(array)):\n",
        "  count[array[i]] += 1\n",
        "\n",
        "for i in range(len(count)):\n",
        "  for j in range(count[i]):\n",
        "    print(i, end='')"
      ],
      "execution_count": 8,
      "outputs": [
        {
          "output_type": "stream",
          "text": [
            "[0, 1, 2, 3, 4, 5, 6, 7, 8, 9]\n",
            "[0, 1, 2, 3, 4, 5, 6, 7, 8, 9]\n",
            "[0, 1, 2, 3, 4, 5, 6, 7, 8, 9]\n",
            "[0, 1, 2, 3, 4, 5, 6, 7, 8, 9]\n",
            "0123456789"
          ],
          "name": "stdout"
        }
      ]
    },
    {
      "cell_type": "markdown",
      "metadata": {
        "id": "MlfdiTGR6g1i"
      },
      "source": [
        "라이브러리"
      ]
    },
    {
      "cell_type": "code",
      "metadata": {
        "colab": {
          "base_uri": "https://localhost:8080/"
        },
        "id": "RRgOF4Hgw-LE",
        "outputId": "fcd23ae0-da57-4e80-b82f-4b3ef8e504cf"
      },
      "source": [
        "# sort\n",
        "array.sort()\n",
        "print(array)\n",
        "\n",
        "# dictionary\n",
        "array = [('바나나', 2), ('사과', 5), ('당근', 3)]\n",
        "\n",
        "def setting(data):\n",
        "  return data[1]\n",
        "\n",
        "result = sorted(array, key=setting)\n",
        "print(result)"
      ],
      "execution_count": 10,
      "outputs": [
        {
          "output_type": "stream",
          "text": [
            "[0, 1, 2, 3, 4, 5, 6, 7, 8, 9]\n",
            "[('바나나', 2), ('당근', 3), ('사과', 5)]\n"
          ],
          "name": "stdout"
        }
      ]
    }
  ]
}