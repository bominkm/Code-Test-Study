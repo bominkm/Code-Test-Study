{
  "nbformat": 4,
  "nbformat_minor": 0,
  "metadata": {
    "colab": {
      "name": "이코테 1.ipynb",
      "provenance": []
    },
    "kernelspec": {
      "name": "python3",
      "display_name": "Python 3"
    },
    "language_info": {
      "name": "python"
    }
  },
  "cells": [
    {
      "cell_type": "markdown",
      "metadata": {
        "id": "a0a8aPZ0IrtO"
      },
      "source": [
        "### 개발 환경\n",
        "- 온라인 개발 환경\n",
        "  - 리플릿\n",
        "- 자신만의 소스코드 (논의)\n",
        "  - 팀 노트 (https://github.com/ndb796/Python-Competitive-Programming-Team-Notes)\n"
      ]
    },
    {
      "cell_type": "markdown",
      "metadata": {
        "id": "I87OV9MqKQGs"
      },
      "source": [
        "### 알고리즘 성능 평가\n",
        "- 복잡도\n",
        "  - 시간 복잡도\n",
        "  - 공간 복잡도 "
      ]
    },
    {
      "cell_type": "markdown",
      "metadata": {
        "id": "qKUBAqkv37T_"
      },
      "source": [
        "- 시간 측정"
      ]
    },
    {
      "cell_type": "code",
      "metadata": {
        "colab": {
          "base_uri": "https://localhost:8080/",
          "height": 198
        },
        "id": "cob5rnewIoIk",
        "outputId": "df017a56-a485-46df-b0f2-989a80dd3bd1"
      },
      "source": [
        "import time\n",
        "start_time = time.time # 측정 시작\n",
        "'''\n",
        "프로그램 소스코드\n",
        "'''\n",
        "end_time = time.time() # 측정 종료\n",
        "print('time:', end_time - start_time)"
      ],
      "execution_count": null,
      "outputs": [
        {
          "output_type": "error",
          "ename": "TypeError",
          "evalue": "ignored",
          "traceback": [
            "\u001b[0;31m---------------------------------------------------------------------------\u001b[0m",
            "\u001b[0;31mTypeError\u001b[0m                                 Traceback (most recent call last)",
            "\u001b[0;32m<ipython-input-1-17839c2cf03c>\u001b[0m in \u001b[0;36m<module>\u001b[0;34m()\u001b[0m\n\u001b[1;32m      5\u001b[0m '''\n\u001b[1;32m      6\u001b[0m \u001b[0mend_time\u001b[0m \u001b[0;34m=\u001b[0m \u001b[0mtime\u001b[0m\u001b[0;34m.\u001b[0m\u001b[0mtime\u001b[0m\u001b[0;34m(\u001b[0m\u001b[0;34m)\u001b[0m \u001b[0;31m#측정 종료\u001b[0m\u001b[0;34m\u001b[0m\u001b[0;34m\u001b[0m\u001b[0m\n\u001b[0;32m----> 7\u001b[0;31m \u001b[0mprint\u001b[0m\u001b[0;34m(\u001b[0m\u001b[0;34m'time:'\u001b[0m\u001b[0;34m,\u001b[0m \u001b[0mend_time\u001b[0m \u001b[0;34m-\u001b[0m \u001b[0mstart_time\u001b[0m\u001b[0;34m)\u001b[0m\u001b[0;34m\u001b[0m\u001b[0;34m\u001b[0m\u001b[0m\n\u001b[0m",
            "\u001b[0;31mTypeError\u001b[0m: unsupported operand type(s) for -: 'float' and 'builtin_function_or_method'"
          ]
        }
      ]
    },
    {
      "cell_type": "markdown",
      "metadata": {
        "id": "u8_Ajqqs4j_M"
      },
      "source": [
        "### 자료형\n",
        "- 리스트 컴프리헨션"
      ]
    },
    {
      "cell_type": "code",
      "metadata": {
        "colab": {
          "base_uri": "https://localhost:8080/"
        },
        "id": "CU5wh7c94MWl",
        "outputId": "c004fd18-0f98-4894-a122-35f50e458e25"
      },
      "source": [
        "[i for i in range(20) if i%2 == 0]\n",
        "[[0]*3 for _ in range(2)] # 3*2크기의 리스트 "
      ],
      "execution_count": null,
      "outputs": [
        {
          "output_type": "execute_result",
          "data": {
            "text/plain": [
              "[[0, 0, 0], [0, 0, 0]]"
            ]
          },
          "metadata": {
            "tags": []
          },
          "execution_count": 5
        }
      ]
    },
    {
      "cell_type": "code",
      "metadata": {
        "colab": {
          "base_uri": "https://localhost:8080/"
        },
        "id": "sUcqUd4k8lvw",
        "outputId": "11c26982-7f4e-4907-cce2-8c4e8d8f5941"
      },
      "source": [
        "a = [1, 2, 3, 4, 5, 5, 5]\n",
        "remove_set = {3, 5}\n",
        "\n",
        "result = [i for i in a if i not in remove_set]\n",
        "result"
      ],
      "execution_count": null,
      "outputs": [
        {
          "output_type": "execute_result",
          "data": {
            "text/plain": [
              "[1, 2, 4]"
            ]
          },
          "metadata": {
            "tags": []
          },
          "execution_count": 10
        }
      ]
    },
    {
      "cell_type": "markdown",
      "metadata": {
        "id": "nfxSlw1MAE7k"
      },
      "source": [
        "- 튜플을 사용하면 좋은 경우\n",
        "  - 서로 다른 성질의 데이터를 묶어서 관리 (ex. 최단 경로 알고리즘: (비용, 노드 번호))\n",
        "  - 데이터 나열을 해싱의 키 값으로 사용해야 할 때\n",
        "  - 리스트보다 메모리를 효율적으로 사용해야 할 "
      ]
    },
    {
      "cell_type": "markdown",
      "metadata": {
        "id": "0sGxoi7LA1Tu"
      },
      "source": [
        "- 사전 자료형"
      ]
    },
    {
      "cell_type": "code",
      "metadata": {
        "id": "ZV6_KpOP_DNB"
      },
      "source": [
        "data = dict()\n",
        "if '사과' in data:\n",
        "  print('먹자')"
      ],
      "execution_count": null,
      "outputs": []
    },
    {
      "cell_type": "markdown",
      "metadata": {
        "id": "lNPHhZjoBnA_"
      },
      "source": [
        "- 집합 자료형\n"
      ]
    },
    {
      "cell_type": "code",
      "metadata": {
        "colab": {
          "base_uri": "https://localhost:8080/"
        },
        "id": "oEmP2DiLA9bD",
        "outputId": "3ca742aa-88fd-4a26-ed66-7e794f348191"
      },
      "source": [
        "data = set([1,2,3])\n",
        "data.update([5,6])\n",
        "data.remove(3)\n",
        "data"
      ],
      "execution_count": null,
      "outputs": [
        {
          "output_type": "execute_result",
          "data": {
            "text/plain": [
              "{1, 2, 5, 6}"
            ]
          },
          "metadata": {
            "tags": []
          },
          "execution_count": 12
        }
      ]
    },
    {
      "cell_type": "markdown",
      "metadata": {
        "id": "mCmVWGKxCBWo"
      },
      "source": [
        "### 기본 입출력"
      ]
    },
    {
      "cell_type": "code",
      "metadata": {
        "colab": {
          "base_uri": "https://localhost:8080/"
        },
        "id": "t73QhJ-9BxDT",
        "outputId": "d2a103a9-e790-4df3-e6b5-1c19d2aa1322"
      },
      "source": [
        " import sys\n",
        "\n",
        " data = sys.stdin.readline().rstrip()\n",
        " print(data)\n",
        " print(7, end=' ')"
      ],
      "execution_count": null,
      "outputs": [
        {
          "output_type": "stream",
          "text": [
            "\n",
            "7 "
          ],
          "name": "stdout"
        }
      ]
    },
    {
      "cell_type": "code",
      "metadata": {
        "colab": {
          "base_uri": "https://localhost:8080/"
        },
        "id": "oH2wybTNCxOD",
        "outputId": "317636e6-c3a7-4c9f-f3d1-c2c0b875fae1"
      },
      "source": [
        "answer = 7\n",
        "print(f'{answer}이지롱')"
      ],
      "execution_count": null,
      "outputs": [
        {
          "output_type": "stream",
          "text": [
            "7이지롱\n"
          ],
          "name": "stdout"
        }
      ]
    },
    {
      "cell_type": "markdown",
      "metadata": {
        "id": "xntfA57oDSy7"
      },
      "source": [
        "### 조건문"
      ]
    },
    {
      "cell_type": "code",
      "metadata": {
        "id": "Tdcv1at3DNKq"
      },
      "source": [
        " #result = 'Success' if score >=80 else 'Fail'"
      ],
      "execution_count": 3,
      "outputs": []
    },
    {
      "cell_type": "markdown",
      "metadata": {
        "id": "gFNyab_CUXoc"
      },
      "source": [
        "### 함수"
      ]
    },
    {
      "cell_type": "code",
      "metadata": {
        "id": "zhVrRVUyUXJq"
      },
      "source": [
        "a = 10\n",
        "def func():\n",
        "  global a # 바깥값 참조\n",
        "  return(a+1) "
      ],
      "execution_count": null,
      "outputs": []
    },
    {
      "cell_type": "code",
      "metadata": {
        "colab": {
          "base_uri": "https://localhost:8080/"
        },
        "id": "dt6DDqRZQ1S4",
        "outputId": "e7ae7c09-2e0b-46e3-f251-a46c2ea2cb8f"
      },
      "source": [
        "(lambda a, b: a+b)(7,3)\n",
        "\n",
        "array = [('홍길동', 50), ('이순신', 32)]\n",
        "print(sorted(array, key=lambda x: x[1]))"
      ],
      "execution_count": 5,
      "outputs": [
        {
          "output_type": "stream",
          "text": [
            "[('이순신', 32), ('홍길동', 50)]\n"
          ],
          "name": "stdout"
        }
      ]
    },
    {
      "cell_type": "code",
      "metadata": {
        "colab": {
          "base_uri": "https://localhost:8080/"
        },
        "id": "XVDULwz4VO4X",
        "outputId": "e130cb4d-4012-4b88-fe83-468ba39047d7"
      },
      "source": [
        " list1= [1, 2, 3, 4, 5]\n",
        " list2 = [6, 7, 8, 9, 10]\n",
        "\n",
        " result = map(lambda a, b: a+b, list1, list2)\n",
        " print(list(result))"
      ],
      "execution_count": 9,
      "outputs": [
        {
          "output_type": "stream",
          "text": [
            "[7, 9, 11, 13, 15]\n"
          ],
          "name": "stdout"
        }
      ]
    },
    {
      "cell_type": "markdown",
      "metadata": {
        "id": "EjjxRB0VWEvY"
      },
      "source": [
        "### 패키지\n",
        "- itertools: 반복되는 형태의 데이터를 처리하기 위한 유용한 기능\n",
        "  - 순열과 조합 라이브러리\n",
        "- heapq: 힙 자료구조를 제공\n",
        "  - 우선순위 큐 긴으을 구현하기 위해 사용\n",
        "- bisect: 이진탐색기능을 제공\n",
        "- collections: 덱, 카운터 등의 유용한 자료구조를 포함\n",
        "- math: 필수적인 수학적 기능을 제공"
      ]
    },
    {
      "cell_type": "code",
      "metadata": {
        "colab": {
          "base_uri": "https://localhost:8080/"
        },
        "id": "lSl8p7XAV6wr",
        "outputId": "ff2aecaa-8207-4dc9-9a29-4142f64cd742"
      },
      "source": [
        "eval('3+5') # 8\n",
        "sorted(array, key=lambda x: x[1], reverse=True)"
      ],
      "execution_count": 13,
      "outputs": [
        {
          "output_type": "execute_result",
          "data": {
            "text/plain": [
              "[('홍길동', 50), ('이순신', 32)]"
            ]
          },
          "metadata": {
            "tags": []
          },
          "execution_count": 13
        }
      ]
    },
    {
      "cell_type": "code",
      "metadata": {
        "colab": {
          "base_uri": "https://localhost:8080/"
        },
        "id": "ontmPzGDWzMO",
        "outputId": "9a8f60ba-c62e-4c6f-b600-f88371f20da2"
      },
      "source": [
        "# 순열과 조합\n",
        "from itertools import permutations\n",
        "\n",
        "data = ['A', 'B', 'C']\n",
        "list(permutations(data, 3))"
      ],
      "execution_count": 16,
      "outputs": [
        {
          "output_type": "execute_result",
          "data": {
            "text/plain": [
              "[('A', 'B', 'C'),\n",
              " ('A', 'C', 'B'),\n",
              " ('B', 'A', 'C'),\n",
              " ('B', 'C', 'A'),\n",
              " ('C', 'A', 'B'),\n",
              " ('C', 'B', 'A')]"
            ]
          },
          "metadata": {
            "tags": []
          },
          "execution_count": 16
        }
      ]
    },
    {
      "cell_type": "code",
      "metadata": {
        "colab": {
          "base_uri": "https://localhost:8080/"
        },
        "id": "WJSoTJydXZs0",
        "outputId": "16fdc51c-8ed9-4f3f-f088-8db8c0cad8d9"
      },
      "source": [
        "from itertools import combinations\n",
        "\n",
        "list(combinations(data, 2))"
      ],
      "execution_count": 18,
      "outputs": [
        {
          "output_type": "execute_result",
          "data": {
            "text/plain": [
              "[('A', 'B'), ('A', 'C'), ('B', 'C')]"
            ]
          },
          "metadata": {
            "tags": []
          },
          "execution_count": 18
        }
      ]
    },
    {
      "cell_type": "code",
      "metadata": {
        "id": "0XVs54JfXiBa"
      },
      "source": [
        "from itertools import product # 중복순열\n",
        "from itertools import combinations_with_replacement # 중복조합"
      ],
      "execution_count": 21,
      "outputs": []
    },
    {
      "cell_type": "code",
      "metadata": {
        "colab": {
          "base_uri": "https://localhost:8080/"
        },
        "id": "GPSwpOkvX1cd",
        "outputId": "fac11781-7b20-4a03-f761-745243ed0a10"
      },
      "source": [
        "# Counter\n",
        "from collections import Counter\n",
        "\n",
        "counter = Counter(['red', 'blue', 'red', 'green', 'blue', 'blue'])\n",
        "print(counter['red'])\n",
        "print(dict(counter))"
      ],
      "execution_count": 22,
      "outputs": [
        {
          "output_type": "stream",
          "text": [
            "2\n",
            "{'red': 2, 'blue': 3, 'green': 1}\n"
          ],
          "name": "stdout"
        }
      ]
    },
    {
      "cell_type": "code",
      "metadata": {
        "colab": {
          "base_uri": "https://localhost:8080/"
        },
        "id": "-yQnDY4pZR0r",
        "outputId": "2622a5ff-618c-429d-c841-525630a549ee"
      },
      "source": [
        "# 최대 공약수와 최소 공배수\n",
        "import math\n",
        "\n",
        "def lcm(a, b):\n",
        "  return a*b//math.gcd(a, b)\n",
        "\n",
        "a, b = 21, 14\n",
        "math.gcd(a,수b) # 최소공약\n",
        "lcm(a, b수 # 최소 공배수"
      ],
      "execution_count": 23,
      "outputs": [
        {
          "output_type": "execute_result",
          "data": {
            "text/plain": [
              "42"
            ]
          },
          "metadata": {
            "tags": []
          },
          "execution_count": 23
        }
      ]
    },
    {
      "cell_type": "code",
      "metadata": {
        "id": "TeUhn5fFZt8J"
      },
      "source": [
        ""
      ],
      "execution_count": null,
      "outputs": []
    }
  ]
}