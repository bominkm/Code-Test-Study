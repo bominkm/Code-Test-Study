{
 "cells": [
  {
   "cell_type": "markdown",
   "id": "elementary-edmonton",
   "metadata": {},
   "source": [
    "# Week4. 정렬  \n",
    "* 데이터를 특정한 기준에 따라서 순서대로 나열하는 것  \n",
    "* `선택 정렬`, `삽입 정렬`, `퀵 정렬`, `계수 정렬`   "
   ]
  },
  {
   "cell_type": "markdown",
   "id": "stable-publication",
   "metadata": {},
   "source": [
    "## 문제 유형  \n",
    "1. 정렬 라이브러리로 풀 수 있는 문제  \n",
    "2. 정렬 알고리즘의 원리에 대해 물어보는 문제 : 선택 정렬, 삽입 정렬, 퀵 정렬\n",
    "3. 더 빠른 정렬이 필요한 문제 : 퀵 정렬 기반의 기법으로는 풀 수 없고, 계수 정렬 등의 다른 정렬 알고리즘을 이용하거나 문제에서 기존에 알려진 알고리즘의 구조적인 개선을 거쳐야 풀 수 있음"
   ]
  },
  {
   "cell_type": "markdown",
   "id": "secondary-winning",
   "metadata": {},
   "source": [
    "## 선택 정렬  \n",
    "* 가장 작은 데이터를 선택해 맨 앞 데이터와 바꾸고, 그 다음 작은 데이터를 선택해 두번째 데이터와 바꾸기  \n",
    "* **매번 가장 작은 것을 선택**  \n",
    "* 시간복잡도 : $O(N^{2})$  \n",
    "* 선택 정렬은 기본 정렬 라이브러리를 포함한 다른 정렬 알고리즘과 비교했을 때 매우 비효율적  \n",
    "* 특정한 리스트에서 가장 작은 데이터를 찾는 일이 코딩 테스트에서 잦으므로, 선택 정렬 소스코드 형태에 익숙해질 필요가 있음  "
   ]
  },
  {
   "cell_type": "code",
   "execution_count": 1,
   "id": "narrow-brunswick",
   "metadata": {},
   "outputs": [
    {
     "name": "stdout",
     "output_type": "stream",
     "text": [
      "[0, 1, 2, 3, 4, 5, 6, 7, 8, 9]\n"
     ]
    }
   ],
   "source": [
    "array = [7, 5, 9, 0, 3, 1, 6, 2, 4, 8]\n",
    "\n",
    "for i in range(len(array)):\n",
    "    min_index = i # 가장 작은 원소의 인덱스\n",
    "    for j in range(i+1, len(array)):\n",
    "        if array[min_index] > array[j]:\n",
    "            min_index = j\n",
    "    array[i], array[min_index] = array[min_index], array[i] # 스와프\n",
    "    \n",
    "print(array)"
   ]
  },
  {
   "cell_type": "markdown",
   "id": "configured-hayes",
   "metadata": {},
   "source": [
    "## 삽입 정렬  \n",
    "* 정렬되어 있는 데이터 리스트에서 적절한 위치를 찾은 뒤에, 그 위치에 삽입된다  \n",
    "* **두 번째** 데이터부터 시작 (첫번째 데이터는 정렬되어있다고 생각하기 때문)  \n",
    "* 시간복잡도 : $O(N^{2})$  \n",
    "  * 선택 정렬과 동일한 복잡도를 가지나 현재 리스트의 데이터가 거의 정렬되어 있다면 매우 빠르게 동작 (최대 $O(N)$)  \n",
    "* 퀵 정렬과 비교하면 삽입 정렬이 비효율적이나, 정렬이 거의 되어 있는 상황에서는 퀵 정렬보다 더 강력"
   ]
  },
  {
   "cell_type": "code",
   "execution_count": 3,
   "id": "robust-thread",
   "metadata": {},
   "outputs": [
    {
     "name": "stdout",
     "output_type": "stream",
     "text": [
      "[0, 1, 2, 3, 4, 5, 6, 7, 8, 9]\n"
     ]
    }
   ],
   "source": [
    "array = [7, 5, 9, 0, 3, 1, 6, 2, 4, 8]\n",
    "\n",
    "for i in range(1, len(array)):\n",
    "    for j in range(i, 0, -1): # 인덱스 i부터 1까지 감소하며 반복하는 문법\n",
    "        if array[j] < array[j-1]:\n",
    "            array[j], array[j-1] = array[j-1], array[j]\n",
    "        else: # 자기보다 작은 데이터를 만나면 그 위치에서 멈춤\n",
    "            break\n",
    "            \n",
    "print(array)"
   ]
  },
  {
   "cell_type": "markdown",
   "id": "worldwide-triangle",
   "metadata": {},
   "source": [
    "## 퀵 정렬  \n",
    "* 기준을 설정한 다음 큰 수와 작은 수를 교환한 후 리스트를 반으로 나누는 방식  \n",
    "* 시간복잡도 ; $O(Nlog_{2}N)$\n",
    "  \n",
    "### 방법1\n",
    "* `피벗` 사용 : 큰 숫자와 작은 숫자를 교환할 때, 교환하기 위한 기준. 피벗은 미리 명시해야 함.  \n",
    "* 본 책에서는 `호어 분할 방식`을 기준으로 퀵 정렬이 설명됨  \n",
    "  * 호어 분할 방식 : 리스트에서 첫 번째 데이터를 피벗으로 정한다  \n",
    "  * 왼쪽에서부터 피벗보다 **큰** 데이터를 찾고, 오른쪽에서부터 피벗보다 **작은** 데이터를 찾는다. 그 다음 **큰 데이터와 작은 데이터를 교환**  \n",
    "  * 왼쪽에서부터 찾는 값과 오른쪽에서부터 찾는 값의 위치가 **서로 엇갈린 경우**, **작은 데이터와 피벗을 교환**  \n",
    "  이와 같은 작업을 **분할**, **파티션**이라고 함  \n",
    "  * 왼쪽, 오른쪽 리스트에서도 피벗을 설정하여 각각 동일한 방식으로 정렬을 수행 → **재귀함수**와 동작원리가 동일"
   ]
  },
  {
   "cell_type": "code",
   "execution_count": 4,
   "id": "generic-boulder",
   "metadata": {},
   "outputs": [
    {
     "name": "stdout",
     "output_type": "stream",
     "text": [
      "[0, 1, 2, 3, 4, 5, 6, 7, 8, 9]\n"
     ]
    }
   ],
   "source": [
    "array = [5, 7, 9, 0, 3, 1, 6, 2, 4, 8]\n",
    "\n",
    "def quick_sort(array, start, end):\n",
    "    if start >= end: # 원소가 1개인 경우 종료\n",
    "        return\n",
    "    pivot = start # 첫번째 원소를 피벗으로\n",
    "    left = start + 1\n",
    "    right = end\n",
    "    while left <= right:\n",
    "        # 피벗보다 큰 데이터를 찾을 때까지 반복\n",
    "        while left <= end and array[left] <= array[pivot]:\n",
    "            left += 1\n",
    "        # 피벗보다 작은 데이터를 찾을 때까지 반복\n",
    "        while right > start and array[right] >= array[pivot]:\n",
    "            right -= 1\n",
    "        if left > right: # 엇갈렸다면 작은 데이터와 피벗을 교체\n",
    "            array[right], array[pivot] = array[pivot], array[right]\n",
    "        else: # 엇갈리지 않았다면 작은 데이터와 큰 데이터를 교체\n",
    "            array[left], array[right] = array[right], array[left]\n",
    "    # 분할 이후 왼쪽 부분과 오른쪽 부분에서 각각 정렬 수행\n",
    "    quick_sort(array, start, right-1)\n",
    "    quick_sort(array, right+1, end)\n",
    "\n",
    "quick_sort(array, 0, len(array)-1)\n",
    "print(array)"
   ]
  },
  {
   "cell_type": "markdown",
   "id": "tropical-convertible",
   "metadata": {},
   "source": [
    "### 방법2  \n",
    "* 더 직관적이지만, 비교 연산 횟수가 증가하므로 조금 비효율적"
   ]
  },
  {
   "cell_type": "code",
   "execution_count": 5,
   "id": "critical-necklace",
   "metadata": {},
   "outputs": [
    {
     "name": "stdout",
     "output_type": "stream",
     "text": [
      "[0, 1, 2, 3, 4, 5, 6, 7, 8, 9]\n"
     ]
    }
   ],
   "source": [
    "array = [5, 7, 9, 0, 3, 1, 6, 2, 4, 8]\n",
    "\n",
    "def quick_sort(array):\n",
    "    # 리스트가 하나 이하의 원소만을 담고 있다면 종료\n",
    "    if len(array) <= 1:\n",
    "        return array\n",
    "\n",
    "    pivot = array[0] # 피벗은 첫번째 요소\n",
    "    tail = array[1:] # 피벗을 제외한 리스트\n",
    "    \n",
    "    left_side = [x for x in tail if x <= pivot] # 분할된 왼쪽 부분\n",
    "    right_side = [x for x in tail if x > pivot] # 분할된 오른쪽 부분\n",
    "    \n",
    "    # 분할 이후 왼쪽 부분과 오른쪽 부분에서 각각 정렬을 수행하고, 전체 리스트를 반환\n",
    "    return quick_sort(left_side) + [pivot] + quick_sort(right_side)\n",
    "\n",
    "print(quick_sort(array))"
   ]
  },
  {
   "cell_type": "markdown",
   "id": "objective-arrest",
   "metadata": {},
   "source": [
    "## 계수 정렬\n",
    "* 데이터의 크기 범위가 제한되어 **정수 형태**로 표현할 수 있을 때만 사용할 수 있지만 매우 빠른 정렬 알고리즘  \n",
    "* 가장 큰 데이터 - 가장 작은 데이터 + 1 크기의 리스트가 필요하기 때문에 가장 큰 데이터와 가장 작은 데이터의 차이가 100만을 넘지 않을 때 효과적  \n",
    "* 데이터의 크기가 한정되어 있고, 데이터의 크기가 많이 중복되어 있을수록 유리하며 항상 사용할 수는 없음\n",
    "* 앞서 3가지 방법들처럼 직접 데이터의 값을 비교한 뒤에 위치를 변경하며 정렬하는 방식(비교 기반)이 아님\n",
    "* 모든 데이터가 양의 정수일 때, 데이터 개수가 N이고 최댓값이 K라면 시간복잡도는 $O(N+K)$"
   ]
  },
  {
   "cell_type": "code",
   "execution_count": 6,
   "id": "abroad-status",
   "metadata": {},
   "outputs": [
    {
     "name": "stdout",
     "output_type": "stream",
     "text": [
      "0 0 1 1 2 2 3 4 5 5 6 7 8 9 9 "
     ]
    }
   ],
   "source": [
    "# 모든 원소의 값이 0보다 크거나 같다고 가정  \n",
    "array = [7, 5, 9, 0, 3, 1, 6, 2, 9, 1, 4, 8, 0, 5, 2]\n",
    "# 모든 범위를 포함하는 리스트 선언(모든 값은 0으로 초기화)\n",
    "count = [0] * (max(array)+1)\n",
    "\n",
    "for i in range(len(array)):\n",
    "    count[array[i]] += 1 # 각 데이터에 해당하는 인덱스의 값 증가\n",
    "    \n",
    "for i in range(len(count)):\n",
    "    for j in range(count[i]):\n",
    "        print(i, end = ' ' ) # 띄어쓰기를 구분으로 등장한 횟수만큼 인덱스 출력"
   ]
  },
  {
   "cell_type": "markdown",
   "id": "concerned-trader",
   "metadata": {},
   "source": [
    "## 파이썬 정렬 라이브러리"
   ]
  },
  {
   "cell_type": "markdown",
   "id": "mechanical-console",
   "metadata": {},
   "source": [
    "* `sorted`  \n",
    "  별도의 정렬된 개체 출력  \n",
    "* `sort`  \n",
    "  리스트 자체를 정렬  \n",
    "\n",
    "두 함수 모두 `key` 매개변수 사용 가능"
   ]
  },
  {
   "cell_type": "markdown",
   "id": "inner-bennett",
   "metadata": {},
   "source": [
    "## 실전 문제"
   ]
  },
  {
   "cell_type": "markdown",
   "id": "invalid-member",
   "metadata": {},
   "source": [
    "### 위에서 아래로  \n",
    "#### My code\n",
    "* 정답"
   ]
  },
  {
   "cell_type": "code",
   "execution_count": 7,
   "id": "fluid-dealer",
   "metadata": {},
   "outputs": [
    {
     "name": "stdout",
     "output_type": "stream",
     "text": [
      "3\n",
      "15\n",
      "27\n",
      "12\n",
      "27 15 12 "
     ]
    }
   ],
   "source": [
    "N = int(input())\n",
    "data = []\n",
    "\n",
    "for _ in range(N):\n",
    "    data.append(int(input()))  \n",
    "    \n",
    "res = sorted(data, reverse=True)\n",
    "for i in range(N):\n",
    "    print(res[i], end=' ')"
   ]
  },
  {
   "cell_type": "markdown",
   "id": "minor-funeral",
   "metadata": {},
   "source": [
    "### 성적이 낮은 순서대로 학생 출력하기  \n",
    "#### My code  \n",
    "* 오답  \n",
    "    * `sorted` 함수의 key 자리에 뭐가 들어가야 할지 헷갈렸다 → `lambda` !!!"
   ]
  },
  {
   "cell_type": "code",
   "execution_count": 18,
   "id": "tribal-stanford",
   "metadata": {},
   "outputs": [
    {
     "name": "stdout",
     "output_type": "stream",
     "text": [
      "2\n",
      "홍길동 95\n",
      "이순신 77\n",
      "홍길동 이순신 "
     ]
    }
   ],
   "source": [
    "N = int(input())\n",
    "data = {}\n",
    "\n",
    "for _ in range(N):\n",
    "    key, value = input().split(' ')\n",
    "    data[key] = int(value)\n",
    "\n",
    "def setting(data):\n",
    "    return data[1]\n",
    "    \n",
    "res = sorted(data, key=lambda data : data[1]) # 정답 참고함 \n",
    "\n",
    "for i in range(N):\n",
    "    print(res[i], end=' ')"
   ]
  },
  {
   "cell_type": "markdown",
   "id": "asian-bangkok",
   "metadata": {},
   "source": [
    "#### 예제 정답  \n",
    "   * dictionary 대신 tuple 씀 (큰 차이 없을듯)"
   ]
  },
  {
   "cell_type": "markdown",
   "id": "russian-utilization",
   "metadata": {},
   "source": [
    "### 두 배열의 원소 교체  \n",
    "#### My code  \n",
    "* 오답 : 무한 루프 "
   ]
  },
  {
   "cell_type": "code",
   "execution_count": 24,
   "id": "paperback-diabetes",
   "metadata": {},
   "outputs": [
    {
     "name": "stdout",
     "output_type": "stream",
     "text": [
      "5 3\n",
      "1 2 5 4 3\n",
      "5 5 6 6 5\n"
     ]
    },
    {
     "ename": "KeyboardInterrupt",
     "evalue": "",
     "output_type": "error",
     "traceback": [
      "\u001b[1;31m---------------------------------------------------------------------------\u001b[0m",
      "\u001b[1;31mKeyboardInterrupt\u001b[0m                         Traceback (most recent call last)",
      "\u001b[1;32m<ipython-input-24-c821e45ca056>\u001b[0m in \u001b[0;36m<module>\u001b[1;34m()\u001b[0m\n\u001b[0;32m     10\u001b[0m \u001b[1;32mfor\u001b[0m \u001b[0mi\u001b[0m \u001b[1;32min\u001b[0m \u001b[0mrange\u001b[0m\u001b[1;33m(\u001b[0m\u001b[0mN\u001b[0m\u001b[1;33m)\u001b[0m\u001b[1;33m:\u001b[0m\u001b[1;33m\u001b[0m\u001b[0m\n\u001b[0;32m     11\u001b[0m     \u001b[1;32mwhile\u001b[0m \u001b[0mcount\u001b[0m \u001b[1;33m<\u001b[0m \u001b[0mK\u001b[0m\u001b[1;33m:\u001b[0m\u001b[1;33m\u001b[0m\u001b[0m\n\u001b[1;32m---> 12\u001b[1;33m         \u001b[1;32mif\u001b[0m \u001b[0mA\u001b[0m\u001b[1;33m[\u001b[0m\u001b[0mi\u001b[0m\u001b[1;33m]\u001b[0m \u001b[1;33m<\u001b[0m \u001b[0mB\u001b[0m\u001b[1;33m[\u001b[0m\u001b[0mi\u001b[0m\u001b[1;33m]\u001b[0m\u001b[1;33m:\u001b[0m\u001b[1;33m\u001b[0m\u001b[0m\n\u001b[0m\u001b[0;32m     13\u001b[0m             \u001b[0mA\u001b[0m\u001b[1;33m[\u001b[0m\u001b[0mi\u001b[0m\u001b[1;33m]\u001b[0m\u001b[1;33m,\u001b[0m \u001b[0mB\u001b[0m\u001b[1;33m[\u001b[0m\u001b[0mi\u001b[0m\u001b[1;33m]\u001b[0m \u001b[1;33m=\u001b[0m \u001b[0mB\u001b[0m\u001b[1;33m[\u001b[0m\u001b[0mi\u001b[0m\u001b[1;33m]\u001b[0m\u001b[1;33m,\u001b[0m \u001b[0mA\u001b[0m\u001b[1;33m[\u001b[0m\u001b[0mi\u001b[0m\u001b[1;33m]\u001b[0m\u001b[1;33m\u001b[0m\u001b[0m\n\u001b[0;32m     14\u001b[0m             \u001b[0mcount\u001b[0m \u001b[1;33m+=\u001b[0m \u001b[1;36m1\u001b[0m\u001b[1;33m\u001b[0m\u001b[0m\n",
      "\u001b[1;31mKeyboardInterrupt\u001b[0m: "
     ]
    }
   ],
   "source": [
    "N, K = map(int, input().split(' '))\n",
    "\n",
    "A = list(map(int, input().split(' ')))\n",
    "B = list(map(int, input().split(' ')))\n",
    "\n",
    "A = sorted(A)\n",
    "B = sorted(B, reverse=True)\n",
    "\n",
    "count = 0\n",
    "for i in range(N):\n",
    "    while count < K:\n",
    "        if A[i] < B[i]:\n",
    "            A[i], B[i] = B[i], A[i]\n",
    "            count += 1\n",
    "\n",
    "print(max(A))"
   ]
  },
  {
   "cell_type": "markdown",
   "id": "viral-conversion",
   "metadata": {},
   "source": [
    "* 느낀 점  \n",
    "  * 문제 조건을 잘 보자! (최대 정수 얼마까지 들어갈 수 있는지)  \n",
    "  * 맞게 했다가 고쳤다가 틀림... 복잡하게 생각하지 말자!"
   ]
  },
  {
   "cell_type": "markdown",
   "id": "funny-siemens",
   "metadata": {},
   "source": [
    "#### 예제 정답"
   ]
  },
  {
   "cell_type": "code",
   "execution_count": 25,
   "id": "micro-salmon",
   "metadata": {},
   "outputs": [
    {
     "name": "stdout",
     "output_type": "stream",
     "text": [
      "5 3\n",
      "1 2 5 4 3\n",
      "5 5 6 6 5\n",
      "27\n"
     ]
    }
   ],
   "source": [
    "N, K = map(int, input().split(' '))\n",
    "\n",
    "A = list(map(int, input().split(' ')))\n",
    "B = list(map(int, input().split(' ')))\n",
    "\n",
    "A = sorted(A)\n",
    "B = sorted(B, reverse=True)\n",
    "\n",
    "for i in range(K):\n",
    "    for j in range(N):\n",
    "        if A[j] < B[j]:\n",
    "            A[j], B[j] = B[j], A[j]\n",
    "        else:\n",
    "            break\n",
    "            \n",
    "print(sum(A))"
   ]
  }
 ],
 "metadata": {
  "kernelspec": {
   "display_name": "Python 3",
   "language": "python",
   "name": "python3"
  },
  "language_info": {
   "codemirror_mode": {
    "name": "ipython",
    "version": 3
   },
   "file_extension": ".py",
   "mimetype": "text/x-python",
   "name": "python",
   "nbconvert_exporter": "python",
   "pygments_lexer": "ipython3",
   "version": "3.6.5"
  }
 },
 "nbformat": 4,
 "nbformat_minor": 5
}
