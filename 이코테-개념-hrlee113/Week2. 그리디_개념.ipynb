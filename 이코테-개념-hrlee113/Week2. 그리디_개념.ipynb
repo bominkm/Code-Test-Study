{
 "cells": [
  {
   "cell_type": "markdown",
   "metadata": {
    "id": "BP6MOfMCdcm_"
   },
   "source": [
    "# Week2. 그리디_개념"
   ]
  },
  {
   "cell_type": "markdown",
   "metadata": {},
   "source": [
    "## 그리디 알고리즘(탐욕법)"
   ]
  },
  {
   "cell_type": "markdown",
   "metadata": {},
   "source": [
    "* 현재 상황에서 지금 당장 좋은 것만 고르는 방법  \n",
    "* 정당성 분석이 중요 : 단순히 가장 좋아 보이는 것을 반복적으로 선택해도 최적의 해를 구할 수 있는지 검토해야함    \n",
    "* 탐욕적으로 얻은 해가 최적의 해가 되는 상황에서, 이를 추론할 수 있어야 풀리도록 출제함"
   ]
  },
  {
   "cell_type": "markdown",
   "metadata": {},
   "source": [
    "## 1번"
   ]
  },
  {
   "cell_type": "markdown",
   "metadata": {},
   "source": [
    "### 3-1. 거스름돈"
   ]
  },
  {
   "cell_type": "markdown",
   "metadata": {
    "id": "e9d1nK1TfDLF"
   },
   "source": [
    "#### Example answer"
   ]
  },
  {
   "cell_type": "code",
   "execution_count": 1,
   "metadata": {
    "colab": {
     "base_uri": "https://localhost:8080/"
    },
    "executionInfo": {
     "elapsed": 765,
     "status": "ok",
     "timestamp": 1616057004689,
     "user": {
      "displayName": "‎이혜린(자연과학대학 통계학과)",
      "photoUrl": "",
      "userId": "17465505332261896018"
     },
     "user_tz": -540
    },
    "id": "TMwmMqPrfEsJ",
    "outputId": "187c52bc-0863-499d-c12e-ba0890e211a9"
   },
   "outputs": [
    {
     "name": "stdout",
     "output_type": "stream",
     "text": [
      "6\n"
     ]
    }
   ],
   "source": [
    "n = 1260\n",
    "count = 0\n",
    "\n",
    "# 큰 단위의 화폐부터 차례대로 확인\n",
    "coins = [500, 100, 50, 10]\n",
    "\n",
    "for coin in coins:\n",
    "    count += n // coin # 해당 화폐로 거슬러 줄 수 있는 동전의 개수 세기\n",
    "    n %= coin\n",
    "\n",
    "print(count)"
   ]
  },
  {
   "cell_type": "markdown",
   "metadata": {},
   "source": [
    "시간복잡도 : $O(K)$  \n",
    "* K : 화폐의 종류  \n",
    "화폐의 종류만큼 반복문이 실행되기 때문"
   ]
  },
  {
   "cell_type": "markdown",
   "metadata": {
    "id": "fMz15qxsdikO"
   },
   "source": [
    "## 2번. 큰 수의 법칙"
   ]
  },
  {
   "cell_type": "markdown",
   "metadata": {
    "id": "orFOZXpsdZXh"
   },
   "source": [
    "#### My code"
   ]
  },
  {
   "cell_type": "code",
   "execution_count": 1,
   "metadata": {
    "colab": {
     "base_uri": "https://localhost:8080/"
    },
    "executionInfo": {
     "elapsed": 65125,
     "status": "ok",
     "timestamp": 1616056405581,
     "user": {
      "displayName": "‎이혜린(자연과학대학 통계학과)",
      "photoUrl": "",
      "userId": "17465505332261896018"
     },
     "user_tz": -540
    },
    "id": "l9SaGF6NdpMM",
    "outputId": "022ee9a4-37ad-4011-9ca5-de006aaa74ed"
   },
   "outputs": [
    {
     "name": "stdout",
     "output_type": "stream",
     "text": [
      "5 8 3\n",
      "2 4 5 4 6\n",
      "46\n"
     ]
    }
   ],
   "source": [
    "n, m, k = map(int, input().split())\n",
    "\n",
    "data = list(map(int, input().split()))\n",
    "data.sort()\n",
    "\n",
    "first = data[n-1]\n",
    "second = data[n-2]\n",
    "\n",
    "result = 0\n",
    "\n",
    "while True:\n",
    "    for i in range(k):\n",
    "        if m == 0:\n",
    "            break\n",
    "    result += first\n",
    "    m -= 1\n",
    "    if m == 0 :\n",
    "        break\n",
    "    result += second\n",
    "    m -= 1 \n",
    "\n",
    "print(result)"
   ]
  },
  {
   "cell_type": "markdown",
   "metadata": {
    "id": "5WFFti9seDQm"
   },
   "source": [
    "#### Example answer"
   ]
  },
  {
   "cell_type": "code",
   "execution_count": 6,
   "metadata": {
    "id": "Fb_D3PO7eNdu"
   },
   "outputs": [
    {
     "name": "stdout",
     "output_type": "stream",
     "text": [
      "5 8 3\n",
      "2 4 5 4 6\n",
      "46\n"
     ]
    }
   ],
   "source": [
    "n, m, k = map(int, input().split())\n",
    "\n",
    "data = list(map(int, input().split()))\n",
    "data.sort()\n",
    "\n",
    "first = data[-1]\n",
    "second = data[-2]\n",
    "\n",
    "count = int(m / (k + 1)) * k  # first가 더해지는 횟수\n",
    "count += m % (k + 1)\n",
    "\n",
    "result = 0\n",
    "result += first * count\n",
    "result += second * (m - count)\n",
    "\n",
    "print(result)"
   ]
  },
  {
   "cell_type": "markdown",
   "metadata": {
    "id": "Vtd9Ry3VeSHY"
   },
   "source": [
    "## 3번. 숫자 카드 게임"
   ]
  },
  {
   "cell_type": "markdown",
   "metadata": {
    "id": "lf9DHFuTeUxt"
   },
   "source": [
    "#### My code"
   ]
  },
  {
   "cell_type": "code",
   "execution_count": 3,
   "metadata": {
    "colab": {
     "base_uri": "https://localhost:8080/"
    },
    "executionInfo": {
     "elapsed": 10071,
     "status": "ok",
     "timestamp": 1616056548234,
     "user": {
      "displayName": "‎이혜린(자연과학대학 통계학과)",
      "photoUrl": "",
      "userId": "17465505332261896018"
     },
     "user_tz": -540
    },
    "id": "7i_ihVLjeWsJ",
    "outputId": "72a5ff51-4418-4f01-a288-08dd13f36ae0"
   },
   "outputs": [
    {
     "name": "stdout",
     "output_type": "stream",
     "text": [
      "2 4\n",
      "7 3 1 8\n",
      "3 3 3 4\n",
      "3\n"
     ]
    }
   ],
   "source": [
    "n, m = map(int, input().split())\n",
    "\n",
    "data = []\n",
    "for i in range(n):\n",
    "    row = list(map(int, input().split()))\n",
    "    data.append(row)\n",
    "\n",
    "print(max(list(map(min,data))))"
   ]
  },
  {
   "cell_type": "markdown",
   "metadata": {
    "id": "xR1qtt2veg71"
   },
   "source": [
    "#### Example answer"
   ]
  },
  {
   "cell_type": "code",
   "execution_count": null,
   "metadata": {
    "id": "5xrpHMXhei0u"
   },
   "outputs": [],
   "source": [
    "# Example1\n",
    "\n",
    "n, m = map(int, input().split())\n",
    "\n",
    "result = 0\n",
    "\n",
    "for i in range(n):\n",
    "    data = list(map(int, input().split()))\n",
    "    min_value = min(data)\n",
    "    result = max(result, min_value)\n",
    "\n",
    "print(result)"
   ]
  },
  {
   "cell_type": "code",
   "execution_count": null,
   "metadata": {
    "id": "ugUC6IKdeoLV"
   },
   "outputs": [],
   "source": [
    "# Example2\n",
    "\n",
    "n, m = map(int, input().split())\n",
    "\n",
    "result = 0\n",
    "\n",
    "for i in range(n):\n",
    "    data = list(map(int, input().split()))\n",
    "    min_value = 10001\n",
    "    for a in data:\n",
    "        min_value = min(min_value, a)\n",
    "        result = max(min_value, result)\n",
    "\n",
    "print(result)"
   ]
  },
  {
   "cell_type": "markdown",
   "metadata": {
    "id": "Q_kfLSxYerJP"
   },
   "source": [
    "## 4번. 1이 될 때까지"
   ]
  },
  {
   "cell_type": "markdown",
   "metadata": {},
   "source": [
    "* 주어진 N에 대하여 **최대한 많이 나누기**를 수행하면 됨!  \n",
    "* 2 이상의 수로 나누는 작업이 1을 빼는 작업보다 수를 훨씬 많이 줄일 수 있음~"
   ]
  },
  {
   "cell_type": "markdown",
   "metadata": {
    "id": "lBAQem5sev_H"
   },
   "source": [
    "#### My code : 틀림"
   ]
  },
  {
   "cell_type": "code",
   "execution_count": 5,
   "metadata": {
    "id": "BZR_yeAdeynt"
   },
   "outputs": [
    {
     "name": "stdout",
     "output_type": "stream",
     "text": [
      "25 5\n",
      "2\n"
     ]
    }
   ],
   "source": [
    "# 최솟값을 구해야한다는 조건을 고려하지 못함\n",
    "\n",
    "n, k = map(int, input().split())\n",
    "\n",
    "count = 0\n",
    "\n",
    "while n > 1:\n",
    "\n",
    "  if n % k == 0:\n",
    "    n = n / k\n",
    "    count += 1\n",
    "  \n",
    "  else:\n",
    "    n = n-1\n",
    "    count += 1\n",
    "\n",
    "print(count)"
   ]
  },
  {
   "cell_type": "markdown",
   "metadata": {
    "id": "0UoZT0H5e3tE"
   },
   "source": [
    "#### Example answer"
   ]
  },
  {
   "cell_type": "code",
   "execution_count": 3,
   "metadata": {
    "id": "keT969nRe5Cc"
   },
   "outputs": [
    {
     "name": "stdout",
     "output_type": "stream",
     "text": [
      "25 5\n",
      "2\n"
     ]
    }
   ],
   "source": [
    "n, k = map(int, input().split())\n",
    "\n",
    "count = 0\n",
    "\n",
    "while n >= k:\n",
    "\n",
    "    while n % k != 0:\n",
    "        n -= 1 # n이 k로 나누어 떨어질때까지 n에서 1을 차감\n",
    "        count += 1\n",
    "      \n",
    "    n = n / k\n",
    "    count += 1\n",
    "\n",
    "    \n",
    "while n > 1:\n",
    "    n -= 1\n",
    "    count += 1\n",
    "\n",
    "print(count)"
   ]
  },
  {
   "cell_type": "code",
   "execution_count": 4,
   "metadata": {
    "id": "MwGHP98Be7RA"
   },
   "outputs": [
    {
     "name": "stdout",
     "output_type": "stream",
     "text": [
      "25 5\n",
      "2\n"
     ]
    }
   ],
   "source": [
    "n, k = map(int, input().split())\n",
    "\n",
    "count = 0\n",
    "\n",
    "while True:\n",
    "\n",
    "    # (N==K로 나누어떨어지는 수)가 될 때까지 1씩 빼기\n",
    "    target = (n // k) * k \n",
    "    count += n - target # k로 나누어 떨어지지 않아서 1씩 빼야하는 횟수\n",
    "    n = target\n",
    "\n",
    "\n",
    "    # N이 K보다 작을 때(더 이상 나눌 수 없을 때) 반복문 탈출\n",
    "    if n < k:\n",
    "        break\n",
    "\n",
    "    # K로 나누기\n",
    "    count += 1\n",
    "    n //= k\n",
    "\n",
    "# 마지막으로 남은 수에 대하여 1씩 빼기\n",
    "count += n - 1\n",
    "print(count)"
   ]
  },
  {
   "cell_type": "markdown",
   "metadata": {},
   "source": [
    "이 문제의 경우, n과 k가 10만 이하의 정수로 조건이 걸려있기 때문에 이 방법으로 풀지 않아도 상관은 없으나, 만약 n과 k가 엄청나게 커진다면 이렇게 풀어야함  \n",
    "  \n",
    "* 시간복잡도 : $O(logN)$"
   ]
  },
  {
   "cell_type": "markdown",
   "metadata": {},
   "source": [
    "## + 곱하기 혹은 더하기 (강의 문제)\n",
    "  \n",
    "* 각 자리가 숫자로만 이루어진 문자열 S가 주어졌을 때  \n",
    "* 숫자 사이에 x 혹은 + 연산자를 넣어 결과적으로 만들어질 수 있는 가장 큰수를 구하는 프로그램을 작성하시오.  \n",
    "* 단, 계산 순서는 무조건 왼쪽에서 오른쪽으로..!!"
   ]
  },
  {
   "cell_type": "markdown",
   "metadata": {},
   "source": [
    "곱하기가 더 값을 크게 만들기 때문에, 두 수에 대하여 연산을 수행할 때 두 수 중에서 하나라도 1 이하인 경우에는 더하며, 두 수가 모두 2 이상인 경우에는 곱하면 정답"
   ]
  },
  {
   "cell_type": "markdown",
   "metadata": {},
   "source": [
    "#### My code"
   ]
  },
  {
   "cell_type": "code",
   "execution_count": 11,
   "metadata": {},
   "outputs": [
    {
     "name": "stdout",
     "output_type": "stream",
     "text": [
      "567\n",
      "210\n"
     ]
    }
   ],
   "source": [
    "n = input()\n",
    "res = int(n[0])\n",
    "\n",
    "for i in range(len(n)-1):\n",
    "    if int(n[i+1]) >= 2:\n",
    "        res = res * int(n[i+1])\n",
    "    else:\n",
    "        res = res + int(n[i+1])\n",
    "print(res)"
   ]
  },
  {
   "cell_type": "markdown",
   "metadata": {},
   "source": [
    "첫번째 수가 0일 경우를 고려하지 못함"
   ]
  },
  {
   "cell_type": "markdown",
   "metadata": {},
   "source": [
    "#### Example answer"
   ]
  },
  {
   "cell_type": "code",
   "execution_count": 14,
   "metadata": {},
   "outputs": [
    {
     "name": "stdout",
     "output_type": "stream",
     "text": [
      "02984\n",
      "23\n"
     ]
    }
   ],
   "source": [
    "data = input()\n",
    "\n",
    "result = int(data[0])\n",
    "\n",
    "for i in range(1, len(data)):\n",
    "    # 두 수 중에서 하나라도 0 또는 1일 경우, 곱하기 보다는 더하기 수행  \n",
    "    num = int(data[i])\n",
    "    if num <= 1 or res <= 1:\n",
    "        result += num\n",
    "    else:\n",
    "        result *= num\n",
    "        \n",
    "print(result)"
   ]
  },
  {
   "cell_type": "markdown",
   "metadata": {},
   "source": [
    "## + 모험가 길드 (강의 문제)"
   ]
  },
  {
   "cell_type": "markdown",
   "metadata": {},
   "source": [
    "* 한 마을에 모험가가 N명 있음  \n",
    "* N명의 모험가를 대상으로 공포도를 측정함   \n",
    "* 공포도가 X인 모험가는 반드시 X명 이상으로 구성한 모험가그룹에 참여해야 함  \n",
    "* N명의 모험가에 대한 정보가 주어졌을 때, 여행을 떠날 수 있는 그룹 수의 최댓값을 구하시오"
   ]
  },
  {
   "cell_type": "markdown",
   "metadata": {},
   "source": [
    "#### Idea  \n",
    "공포도를 오름차순 정렬한 후, 앞에서부터 공포도를 하나씩 확인하며 현재 그룹에 포함된 모험가의 수가 현재 확인하고 있는 공포도보다 크거나 같다면 이를 그룹으로 설정"
   ]
  },
  {
   "cell_type": "code",
   "execution_count": 15,
   "metadata": {},
   "outputs": [
    {
     "name": "stdout",
     "output_type": "stream",
     "text": [
      "5\n",
      "2 3 1 2 2\n",
      "1\n"
     ]
    }
   ],
   "source": [
    "n = int(input())\n",
    "data = list(map(int, input().split()))\n",
    "data.sort()\n",
    "\n",
    "result = 0 # 총 그룹의 수\n",
    "count = 0 # 현재 그룹에 포함된 모험가의 수  \n",
    "\n",
    "for i in data: # 공포도를 낮은 것부터 하나씩 확인\n",
    "    count += 1 # 현재 그룹에 해당 모험가를 포함시키기\n",
    "    if count > i: # 현재 그룹에 포함된 모험가의 수가, 현재의 공포도 이상이라면 그룹 결성\n",
    "        result += 1 # 총 그룹의 수 증가시키기\n",
    "        count = 0 # 현재그룹에 포함된 모험가의 수 초기화\n",
    "        \n",
    "print(result)"
   ]
  }
 ],
 "metadata": {
  "colab": {
   "authorship_tag": "ABX9TyMhP3UxbrAxmlCJcXjH9gVE",
   "name": "Chap3-Greedy.ipynb",
   "provenance": []
  },
  "kernelspec": {
   "display_name": "Python 3",
   "language": "python",
   "name": "python3"
  },
  "language_info": {
   "codemirror_mode": {
    "name": "ipython",
    "version": 3
   },
   "file_extension": ".py",
   "mimetype": "text/x-python",
   "name": "python",
   "nbconvert_exporter": "python",
   "pygments_lexer": "ipython3",
   "version": "3.6.5"
  }
 },
 "nbformat": 4,
 "nbformat_minor": 1
}
