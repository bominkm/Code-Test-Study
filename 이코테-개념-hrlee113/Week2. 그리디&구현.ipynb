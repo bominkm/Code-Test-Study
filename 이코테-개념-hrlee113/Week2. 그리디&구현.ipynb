{
 "cells": [
  {
   "cell_type": "markdown",
   "metadata": {
    "id": "BP6MOfMCdcm_"
   },
   "source": [
    "# Week2. 그리디 / 구현"
   ]
  },
  {
   "cell_type": "markdown",
   "metadata": {},
   "source": [
    "## 그리디 알고리즘(탐욕법)"
   ]
  },
  {
   "cell_type": "markdown",
   "metadata": {},
   "source": [
    "* 현재 상황에서 지금 당장 좋은 것만 고르는 방법  \n",
    "* 정당성 분석이 중요 : 단순히 가장 좋아 보이는 것을 반복적으로 선택해도 최적의 해를 구할 수 있는지 검토해야함    \n",
    "* 탐욕적으로 얻은 해가 최적의 해가 되는 상황에서, 이를 추론할 수 있어야 풀리도록 출제함"
   ]
  },
  {
   "cell_type": "markdown",
   "metadata": {
    "id": "Jtq3KNGce-j8"
   },
   "source": [
    "### Problem1. 거스름돈"
   ]
  },
  {
   "cell_type": "markdown",
   "metadata": {
    "id": "e9d1nK1TfDLF"
   },
   "source": [
    "#### Example answer"
   ]
  },
  {
   "cell_type": "code",
   "execution_count": 1,
   "metadata": {
    "colab": {
     "base_uri": "https://localhost:8080/"
    },
    "executionInfo": {
     "elapsed": 765,
     "status": "ok",
     "timestamp": 1616057004689,
     "user": {
      "displayName": "‎이혜린(자연과학대학 통계학과)",
      "photoUrl": "",
      "userId": "17465505332261896018"
     },
     "user_tz": -540
    },
    "id": "TMwmMqPrfEsJ",
    "outputId": "187c52bc-0863-499d-c12e-ba0890e211a9"
   },
   "outputs": [
    {
     "name": "stdout",
     "output_type": "stream",
     "text": [
      "6\n"
     ]
    }
   ],
   "source": [
    "n = 1260\n",
    "count = 0\n",
    "\n",
    "# 큰 단위의 화폐부터 차례대로 확인\n",
    "coins = [500, 100, 50, 10]\n",
    "\n",
    "for coin in coins:\n",
    "    count += n // coin # 해당 화폐로 거슬러 줄 수 있는 동전의 개수 세기\n",
    "    n %= coin\n",
    "\n",
    "print(count)"
   ]
  },
  {
   "cell_type": "markdown",
   "metadata": {},
   "source": [
    "시간복잡도 : $O(K)$  \n",
    "* K : 화폐의 종류  \n",
    "화폐의 종류만큼 반복문이 실행되기 때문"
   ]
  },
  {
   "cell_type": "markdown",
   "metadata": {
    "id": "fMz15qxsdikO"
   },
   "source": [
    "### Problem2. 큰 수의 법칙"
   ]
  },
  {
   "cell_type": "markdown",
   "metadata": {
    "id": "orFOZXpsdZXh"
   },
   "source": [
    "#### My code"
   ]
  },
  {
   "cell_type": "code",
   "execution_count": 1,
   "metadata": {
    "colab": {
     "base_uri": "https://localhost:8080/"
    },
    "executionInfo": {
     "elapsed": 65125,
     "status": "ok",
     "timestamp": 1616056405581,
     "user": {
      "displayName": "‎이혜린(자연과학대학 통계학과)",
      "photoUrl": "",
      "userId": "17465505332261896018"
     },
     "user_tz": -540
    },
    "id": "l9SaGF6NdpMM",
    "outputId": "022ee9a4-37ad-4011-9ca5-de006aaa74ed"
   },
   "outputs": [
    {
     "name": "stdout",
     "output_type": "stream",
     "text": [
      "5 8 3\n",
      "2 4 5 4 6\n",
      "46\n"
     ]
    }
   ],
   "source": [
    "n, m, k = map(int, input().split())\n",
    "\n",
    "data = list(map(int, input().split()))\n",
    "data.sort()\n",
    "\n",
    "first = data[n-1]\n",
    "second = data[n-2]\n",
    "\n",
    "result = 0\n",
    "\n",
    "while True:\n",
    "    for i in range(k):\n",
    "        if m == 0:\n",
    "            break\n",
    "    result += first\n",
    "    m -= 1\n",
    "    if m == 0 :\n",
    "        break\n",
    "    result += second\n",
    "    m -= 1 \n",
    "\n",
    "print(result)"
   ]
  },
  {
   "cell_type": "markdown",
   "metadata": {
    "id": "5WFFti9seDQm"
   },
   "source": [
    "#### Example answer"
   ]
  },
  {
   "cell_type": "code",
   "execution_count": 6,
   "metadata": {
    "id": "Fb_D3PO7eNdu"
   },
   "outputs": [
    {
     "name": "stdout",
     "output_type": "stream",
     "text": [
      "5 8 3\n",
      "2 4 5 4 6\n",
      "46\n"
     ]
    }
   ],
   "source": [
    "n, m, k = map(int, input().split())\n",
    "\n",
    "data = list(map(int, input().split()))\n",
    "data.sort()\n",
    "\n",
    "first = data[-1]\n",
    "second = data[-2]\n",
    "\n",
    "count = int(m / (k + 1)) * k  # first가 더해지는 횟수\n",
    "count += m % (k + 1)\n",
    "\n",
    "result = 0\n",
    "result += first * count\n",
    "result += second * (m - count)\n",
    "\n",
    "print(result)"
   ]
  },
  {
   "cell_type": "markdown",
   "metadata": {
    "id": "Vtd9Ry3VeSHY"
   },
   "source": [
    "### Problem3. 숫자 카드 게임"
   ]
  },
  {
   "cell_type": "markdown",
   "metadata": {
    "id": "lf9DHFuTeUxt"
   },
   "source": [
    "#### My code"
   ]
  },
  {
   "cell_type": "code",
   "execution_count": 3,
   "metadata": {
    "colab": {
     "base_uri": "https://localhost:8080/"
    },
    "executionInfo": {
     "elapsed": 10071,
     "status": "ok",
     "timestamp": 1616056548234,
     "user": {
      "displayName": "‎이혜린(자연과학대학 통계학과)",
      "photoUrl": "",
      "userId": "17465505332261896018"
     },
     "user_tz": -540
    },
    "id": "7i_ihVLjeWsJ",
    "outputId": "72a5ff51-4418-4f01-a288-08dd13f36ae0"
   },
   "outputs": [
    {
     "name": "stdout",
     "output_type": "stream",
     "text": [
      "2 4\n",
      "7 3 1 8\n",
      "3 3 3 4\n",
      "3\n"
     ]
    }
   ],
   "source": [
    "n, m = map(int, input().split())\n",
    "\n",
    "data = []\n",
    "for i in range(n):\n",
    "    row = list(map(int, input().split()))\n",
    "    data.append(row)\n",
    "\n",
    "print(max(list(map(min,data))))"
   ]
  },
  {
   "cell_type": "markdown",
   "metadata": {
    "id": "xR1qtt2veg71"
   },
   "source": [
    "#### Example answer"
   ]
  },
  {
   "cell_type": "code",
   "execution_count": null,
   "metadata": {
    "id": "5xrpHMXhei0u"
   },
   "outputs": [],
   "source": [
    "# Example1\n",
    "\n",
    "n, m = map(int, input().split())\n",
    "\n",
    "result = 0\n",
    "\n",
    "for i in range(n):\n",
    "    data = list(map(int, input().split()))\n",
    "    min_value = min(data)\n",
    "    result = max(result, min_value)\n",
    "\n",
    "print(result)"
   ]
  },
  {
   "cell_type": "code",
   "execution_count": null,
   "metadata": {
    "id": "ugUC6IKdeoLV"
   },
   "outputs": [],
   "source": [
    "# Example2\n",
    "\n",
    "n, m = map(int, input().split())\n",
    "\n",
    "result = 0\n",
    "\n",
    "for i in range(n):\n",
    "    data = list(map(int, input().split()))\n",
    "    min_value = 10001\n",
    "    for a in data:\n",
    "        min_value = min(min_value, a)\n",
    "        result = max(min_value, result)\n",
    "\n",
    "print(result)"
   ]
  },
  {
   "cell_type": "markdown",
   "metadata": {
    "id": "Q_kfLSxYerJP"
   },
   "source": [
    "### Problem4. 1이 될 때까지"
   ]
  },
  {
   "cell_type": "markdown",
   "metadata": {},
   "source": [
    "* 주어진 N에 대하여 **최대한 많이 나누기**를 수행하면 됨!  \n",
    "* 2 이상의 수로 나누는 작업이 1을 빼는 작업보다 수를 훨씬 많이 줄일 수 있음~"
   ]
  },
  {
   "cell_type": "markdown",
   "metadata": {
    "id": "lBAQem5sev_H"
   },
   "source": [
    "#### My code : 틀림"
   ]
  },
  {
   "cell_type": "code",
   "execution_count": 5,
   "metadata": {
    "id": "BZR_yeAdeynt"
   },
   "outputs": [
    {
     "name": "stdout",
     "output_type": "stream",
     "text": [
      "25 5\n",
      "2\n"
     ]
    }
   ],
   "source": [
    "# 최솟값을 구해야한다는 조건을 고려하지 못함\n",
    "\n",
    "n, k = map(int, input().split())\n",
    "\n",
    "count = 0\n",
    "\n",
    "while n > 1:\n",
    "\n",
    "  if n % k == 0:\n",
    "    n = n / k\n",
    "    count += 1\n",
    "  \n",
    "  else:\n",
    "    n = n-1\n",
    "    count += 1\n",
    "\n",
    "print(count)"
   ]
  },
  {
   "cell_type": "markdown",
   "metadata": {
    "id": "0UoZT0H5e3tE"
   },
   "source": [
    "#### Example answer"
   ]
  },
  {
   "cell_type": "code",
   "execution_count": 3,
   "metadata": {
    "id": "keT969nRe5Cc"
   },
   "outputs": [
    {
     "name": "stdout",
     "output_type": "stream",
     "text": [
      "25 5\n",
      "2\n"
     ]
    }
   ],
   "source": [
    "n, k = map(int, input().split())\n",
    "\n",
    "count = 0\n",
    "\n",
    "while n >= k:\n",
    "\n",
    "    while n % k != 0:\n",
    "        n -= 1 # n이 k로 나누어 떨어질때까지 n에서 1을 차감\n",
    "        count += 1\n",
    "      \n",
    "    n = n / k\n",
    "    count += 1\n",
    "\n",
    "    \n",
    "while n > 1:\n",
    "    n -= 1\n",
    "    count += 1\n",
    "\n",
    "print(count)"
   ]
  },
  {
   "cell_type": "code",
   "execution_count": 4,
   "metadata": {
    "id": "MwGHP98Be7RA"
   },
   "outputs": [
    {
     "name": "stdout",
     "output_type": "stream",
     "text": [
      "25 5\n",
      "2\n"
     ]
    }
   ],
   "source": [
    "n, k = map(int, input().split())\n",
    "\n",
    "count = 0\n",
    "\n",
    "while True:\n",
    "\n",
    "    # (N==K로 나누어떨어지는 수)가 될 때까지 1씩 빼기\n",
    "    target = (n // k) * k \n",
    "    count += n - target # k로 나누어 떨어지지 않아서 1씩 빼야하는 횟수\n",
    "    n = target\n",
    "\n",
    "\n",
    "    # N이 K보다 작을 때(더 이상 나눌 수 없을 때) 반복문 탈출\n",
    "    if n < k:\n",
    "        break\n",
    "\n",
    "    # K로 나누기\n",
    "    count += 1\n",
    "    n //= k\n",
    "\n",
    "# 마지막으로 남은 수에 대하여 1씩 빼기\n",
    "count += n - 1\n",
    "print(count)"
   ]
  },
  {
   "cell_type": "markdown",
   "metadata": {},
   "source": [
    "이 문제의 경우, n과 k가 10만 이하의 정수로 조건이 걸려있기 때문에 이 방법으로 풀지 않아도 상관은 없으나, 만약 n과 k가 엄청나게 커진다면 이렇게 풀어야함  \n",
    "  \n",
    "* 시간복잡도 : $O(logN)$"
   ]
  },
  {
   "cell_type": "markdown",
   "metadata": {},
   "source": [
    "### Problem5. 곱하기 혹은 더하기  \n",
    "  \n",
    "* 각 자리가 숫자로만 이루어진 문자열 S가 주어졌을 때  \n",
    "* 숫자 사이에 x 혹은 + 연산자를 넣어 결과적으로 만들어질 수 있는 가장 큰수를 구하는 프로그램을 작성하시오.  \n",
    "* 단, 계산 순서는 무조건 왼쪽에서 오른쪽으로..!!"
   ]
  },
  {
   "cell_type": "markdown",
   "metadata": {},
   "source": [
    "곱하기가 더 값을 크게 만들기 때문에, 두 수에 대하여 연산을 수행할 때 두 수 중에서 하나라도 1 이하인 경우에는 더하며, 두 수가 모두 2 이상인 경우에는 곱하면 정답"
   ]
  },
  {
   "cell_type": "markdown",
   "metadata": {},
   "source": [
    "#### My code"
   ]
  },
  {
   "cell_type": "code",
   "execution_count": 11,
   "metadata": {},
   "outputs": [
    {
     "name": "stdout",
     "output_type": "stream",
     "text": [
      "567\n",
      "210\n"
     ]
    }
   ],
   "source": [
    "n = input()\n",
    "res = int(n[0])\n",
    "\n",
    "for i in range(len(n)-1):\n",
    "    if int(n[i+1]) >= 2:\n",
    "        res = res * int(n[i+1])\n",
    "    else:\n",
    "        res = res + int(n[i+1])\n",
    "print(res)"
   ]
  },
  {
   "cell_type": "markdown",
   "metadata": {},
   "source": [
    "첫번째 수가 0일 경우를 고려하지 못함"
   ]
  },
  {
   "cell_type": "markdown",
   "metadata": {},
   "source": [
    "#### Example answer"
   ]
  },
  {
   "cell_type": "code",
   "execution_count": 14,
   "metadata": {},
   "outputs": [
    {
     "name": "stdout",
     "output_type": "stream",
     "text": [
      "02984\n",
      "23\n"
     ]
    }
   ],
   "source": [
    "data = input()\n",
    "\n",
    "result = int(data[0])\n",
    "\n",
    "for i in range(1, len(data)):\n",
    "    # 두 수 중에서 하나라도 0 또는 1일 경우, 곱하기 보다는 더하기 수행  \n",
    "    num = int(data[i])\n",
    "    if num <= 1 or res <= 1:\n",
    "        result += num\n",
    "    else:\n",
    "        result *= num\n",
    "        \n",
    "print(result)"
   ]
  },
  {
   "cell_type": "markdown",
   "metadata": {},
   "source": [
    "### Problem6. 모험가 길드 : 문제 설명"
   ]
  },
  {
   "cell_type": "markdown",
   "metadata": {},
   "source": [
    "* 한 마을에 모험가가 N명 있음  \n",
    "* N명의 모험가를 대상으로 공포도를 측정함   \n",
    "* 공포도가 X인 모험가는 반드시 X명 이상으로 구성한 모험가그룹에 참여해야 함  \n",
    "* N명의 모험가에 대한 정보가 주어졌을 때, 여행을 떠날 수 있는 그룹 수의 최댓값을 구하시오"
   ]
  },
  {
   "cell_type": "markdown",
   "metadata": {},
   "source": [
    "#### Idea  \n",
    "공포도를 오름차순 정렬한 후, 앞에서부터 공포도를 하나씩 확인하며 현재 그룹에 포함된 모험가의 수가 현재 확인하고 있는 공포도보다 크거나 같다면 이를 그룹으로 설정"
   ]
  },
  {
   "cell_type": "code",
   "execution_count": 15,
   "metadata": {},
   "outputs": [
    {
     "name": "stdout",
     "output_type": "stream",
     "text": [
      "5\n",
      "2 3 1 2 2\n",
      "1\n"
     ]
    }
   ],
   "source": [
    "n = int(input())\n",
    "data = list(map(int, input().split()))\n",
    "data.sort()\n",
    "\n",
    "result = 0 # 총 그룹의 수\n",
    "count = 0 # 현재 그룹에 포함된 모험가의 수  \n",
    "\n",
    "for i in data: # 공포도를 낮은 것부터 하나씩 확인\n",
    "    count += 1 # 현재 그룹에 해당 모험가를 포함시키기\n",
    "    if count > i: # 현재 그룹에 포함된 모험가의 수가, 현재의 공포도 이상이라면 그룹 결성\n",
    "        result += 1 # 총 그룹의 수 증가시키기\n",
    "        count = 0 # 현재그룹에 포함된 모험가의 수 초기화\n",
    "        \n",
    "print(result)"
   ]
  },
  {
   "cell_type": "markdown",
   "metadata": {},
   "source": [
    "## 구현  \n",
    "* 머릿속에 있는 알고리즘을 소스코드로 바꾸는 과정\n",
    "* 구현 : 완전탐색 + 시뮬레이션  \n",
    "  * 완전탐색 : 모든 경우의 수를 주저없이 다 계산하는 해결 방법  \n",
    "  * 시뮬레이션 : 문제에서 제시한 알고리즘을 한 단계씩 차례대로 직접 수행해야 하는 문제 유형\n",
    "* 예시  \n",
    "  * 알고리즘은 간단한데 코드가 지나칠 만큼 길어지는 문제  \n",
    "  * 실수 연산을 다루고, 특정 소수점 자리까지 출력해야 하는 문제  \n",
    "  * 문자열을 특정한 기준에 따라서 끊어 처리해야 하는 문제  \n",
    "  * 적절한 라이브러리를 찾아서 사용해야 하는 문제  "
   ]
  },
  {
   "cell_type": "markdown",
   "metadata": {},
   "source": [
    "* 일반적으로 알고리즘 문제에서의 2차원 공간은 **행렬**의 의미로 사용됨  \n",
    "* 시뮬레이션 및 완전 탐색 문제에서는 2차원 공간에서의 **방향 벡터**가 자주 활용됨  "
   ]
  },
  {
   "cell_type": "markdown",
   "metadata": {
    "id": "X0_WUxQg-EHG"
   },
   "source": [
    "### Problem1. 아이디어를 코드로 바꾸는 구현"
   ]
  },
  {
   "cell_type": "markdown",
   "metadata": {
    "id": "p7fBD-gpahMJ"
   },
   "source": [
    "#### Example1. 상하좌우  \n",
    "틀렸으니 외우자"
   ]
  },
  {
   "cell_type": "code",
   "execution_count": null,
   "metadata": {
    "colab": {
     "base_uri": "https://localhost:8080/"
    },
    "executionInfo": {
     "elapsed": 9685,
     "status": "ok",
     "timestamp": 1616203236093,
     "user": {
      "displayName": "‎이혜린(자연과학대학 통계학과)",
      "photoUrl": "",
      "userId": "17465505332261896018"
     },
     "user_tz": -540
    },
    "id": "wNgfe-69-nAR",
    "outputId": "7debb641-90bb-4e7d-93b0-95e65e09ebb4",
    "scrolled": true
   },
   "outputs": [
    {
     "name": "stdout",
     "output_type": "stream",
     "text": [
      "5\n",
      "R R R U D D\n",
      "3 4\n"
     ]
    }
   ],
   "source": [
    "n = int(input())\n",
    "x, y = 1, 1\n",
    "plans = input().split()\n",
    "\n",
    "# L, R, U, D 에 따른 이동방향 (point!!!)\n",
    "dx = [0, 0, -1, 1]\n",
    "dy = [-1, 1, 0, 0]\n",
    "move_types = ['L', 'R', 'U', 'D']\n",
    "\n",
    "# 이동 계획을 하나씩 확인\n",
    "for plan in plans:\n",
    "  # 이동 후 좌표 구하기\n",
    "  for i in range(len(move_types)):\n",
    "    if plan == move_types[i]:\n",
    "      nx = x + dx[i]\n",
    "      ny = y + dy[i]\n",
    "  # 공간을 벗어나는 경우 무시\n",
    "  if nx < 1 or ny < 1 or nx > n or ny > n:\n",
    "    continue\n",
    "  # 이동 수행\n",
    "  x, y = nx, ny\n",
    "  \n",
    "print(x, y)"
   ]
  },
  {
   "cell_type": "markdown",
   "metadata": {
    "id": "ZPrFOm1CtGSR"
   },
   "source": [
    "#### Example2. 시각  \n",
    "완전 탐색이라는 게 뭔지 새삼 와닿았던 문제"
   ]
  },
  {
   "cell_type": "code",
   "execution_count": null,
   "metadata": {
    "colab": {
     "base_uri": "https://localhost:8080/"
    },
    "executionInfo": {
     "elapsed": 3578,
     "status": "ok",
     "timestamp": 1616211160514,
     "user": {
      "displayName": "‎이혜린(자연과학대학 통계학과)",
      "photoUrl": "",
      "userId": "17465505332261896018"
     },
     "user_tz": -540
    },
    "id": "KEB75mf7pXgL",
    "outputId": "78dab3da-10c6-4720-e036-2a0ffdf918e2"
   },
   "outputs": [
    {
     "name": "stdout",
     "output_type": "stream",
     "text": [
      "5\n",
      "11475\n"
     ]
    }
   ],
   "source": [
    "#### Example answerN = int(input())\n",
    "str_1 = list(map(str, range(6)))\n",
    "str_2 = list(map(str, range(10)))\n",
    "res = 0\n",
    "\n",
    "for n in range(N+1):\n",
    "    count = 0\n",
    "    for i in str_1:\n",
    "        for j in str_2:\n",
    "            for k in str_1:\n",
    "                for l in str_2:\n",
    "                    time = i + j + k + l # 지금보니 굳이 십의자리 숫자, 일의자리 숫자로 나눠서 풀었네,,, 어차피 합치면 다 같은 형식의 문자열인데!\n",
    "                    if '3' in time:\n",
    "                        count += 1 \n",
    "    if '3' in str(n):\n",
    "        res += len(str_1) * len(str_2) * len(str_1) * len(str_2) # '시'에 3이 포함되는 경우 모든 분과 초의 조합마다 카운트 해야하므로...\n",
    "    else:\n",
    "        res += count\n",
    "\n",
    "print(res)"
   ]
  },
  {
   "cell_type": "markdown",
   "metadata": {
    "id": "pf-ldgpZshxs"
   },
   "source": [
    "#### Example answer"
   ]
  },
  {
   "cell_type": "code",
   "execution_count": null,
   "metadata": {
    "colab": {
     "base_uri": "https://localhost:8080/"
    },
    "executionInfo": {
     "elapsed": 2418,
     "status": "ok",
     "timestamp": 1616211370542,
     "user": {
      "displayName": "‎이혜린(자연과학대학 통계학과)",
      "photoUrl": "",
      "userId": "17465505332261896018"
     },
     "user_tz": -540
    },
    "id": "MnoTG0l_sxwe",
    "outputId": "71195260-09ef-4d59-c5dc-2b9cd50ea2bc"
   },
   "outputs": [
    {
     "name": "stdout",
     "output_type": "stream",
     "text": [
      "5\n",
      "11475\n"
     ]
    }
   ],
   "source": [
    "h = int(input())\n",
    "\n",
    "count = 0\n",
    "\n",
    "for i in range(h+1):\n",
    "    for j in range(60):\n",
    "        for k in range(60):\n",
    "            # 매 시각 안에 '3'이 포함되어 있다면 카운트 증가\n",
    "            if '3' in str(i) + str(j) + str(k):\n",
    "                count += 1\n",
    "\n",
    "print(count)"
   ]
  },
  {
   "cell_type": "markdown",
   "metadata": {
    "id": "2EjSecL7OEoX"
   },
   "source": [
    "### Problem2. 왕실의 나이트"
   ]
  },
  {
   "cell_type": "markdown",
   "metadata": {
    "id": "Yv_yccAF2JEb"
   },
   "source": [
    "#### My Code"
   ]
  },
  {
   "cell_type": "code",
   "execution_count": null,
   "metadata": {
    "colab": {
     "base_uri": "https://localhost:8080/"
    },
    "executionInfo": {
     "elapsed": 2713,
     "status": "ok",
     "timestamp": 1616213389984,
     "user": {
      "displayName": "‎이혜린(자연과학대학 통계학과)",
      "photoUrl": "",
      "userId": "17465505332261896018"
     },
     "user_tz": -540
    },
    "id": "CgoNXGP3w_AS",
    "outputId": "b43d352e-458e-44c7-91d8-de8a53aa6381"
   },
   "outputs": [
    {
     "name": "stdout",
     "output_type": "stream",
     "text": [
      "a1\n",
      "2\n"
     ]
    }
   ],
   "source": [
    "pos = input()\n",
    "row = ['a', 'b', 'c', 'd', 'e', 'f', 'g', 'h']\n",
    "\n",
    "x, y = row.index(pos[0])+1, int(pos[1])\n",
    "count = 0\n",
    "\n",
    "dx = [-2, -2, 2, 2, -1, 1, -1, 1] # 좌표 위에서 움직여야 하는 문제의 경우 움직일 수 있는 case를 dx, dy로 표현하기\n",
    "dy = [-1, 1, -1, 1, -2, -2, 2, 2]\n",
    "\n",
    "for i in range(8):\n",
    "    nx = x + dx[i]\n",
    "    ny = y + dy[i]\n",
    "    count += 1\n",
    "\n",
    "    if nx < 1 or ny < 1 or nx > 8 or ny > 8:\n",
    "        count -= 1\n",
    "\n",
    "print(count)"
   ]
  },
  {
   "cell_type": "markdown",
   "metadata": {
    "id": "mgBksdA_2ful"
   },
   "source": [
    "#### Example Answer"
   ]
  },
  {
   "cell_type": "code",
   "execution_count": null,
   "metadata": {
    "colab": {
     "base_uri": "https://localhost:8080/"
    },
    "executionInfo": {
     "elapsed": 4101,
     "status": "ok",
     "timestamp": 1616214094637,
     "user": {
      "displayName": "‎이혜린(자연과학대학 통계학과)",
      "photoUrl": "",
      "userId": "17465505332261896018"
     },
     "user_tz": -540
    },
    "id": "-0OSf-ut2k5f",
    "outputId": "8a7e0d33-6d9c-4874-f7d9-97786570eb8f"
   },
   "outputs": [
    {
     "name": "stdout",
     "output_type": "stream",
     "text": [
      "a3\n",
      "4\n"
     ]
    }
   ],
   "source": [
    "input_data = input()\n",
    "row = int(input_data[1])\n",
    "column = int(ord(input_data[0])) - int(ord('a')) + 1 # 여기가 다르네 ...\n",
    "\n",
    "steps = [(-2, -1), (-1, -2), (1, -2), (2, -1), (2, 1), (1, 2), (-1, 2), (-2, 1)]\n",
    "\n",
    "result = 0\n",
    "for step in steps:\n",
    "    next_row = row + step[0]\n",
    "    next_column = column + step[1]\n",
    "\n",
    "    if next_row >= 1 and next_row <= 8 and next_column >= 1 and next_column <= 8:\n",
    "        result += 1\n",
    "\n",
    "print(result)"
   ]
  },
  {
   "cell_type": "markdown",
   "metadata": {},
   "source": [
    "## Problem3. 문자열 재정렬  \n",
    "* 알파벳 대문자와 숫자로 구성된 문자열이 입력  \n",
    "* 모든 알파벳을 오름차순으로 정렬하여 이어서 출력한 뒤, 그 뒤에 모든 숫자를 더한 값을 이어서 출력"
   ]
  },
  {
   "cell_type": "code",
   "execution_count": 18,
   "metadata": {},
   "outputs": [
    {
     "name": "stdout",
     "output_type": "stream",
     "text": [
      "K1KA5CB7\n",
      "ABCKK13\n"
     ]
    }
   ],
   "source": [
    "data = input()\n",
    "result = []\n",
    "value = 0\n",
    "\n",
    "for x in data:\n",
    "    if x.isalpha():\n",
    "        result.append(x)\n",
    "    else:\n",
    "        value += int(x)\n",
    "        \n",
    "result.sort()\n",
    "\n",
    "if value > 0:\n",
    "    result.append(str(value))\n",
    "    \n",
    "print(''.join(result))"
   ]
  },
  {
   "cell_type": "markdown",
   "metadata": {
    "id": "Q3g6tjbM3pjT"
   },
   "source": [
    "## Problem4. 게임 개발"
   ]
  },
  {
   "cell_type": "markdown",
   "metadata": {
    "id": "Q3g6tjbM3pjT"
   },
   "source": [
    "전형적인 시뮬레이션 문제라고 한다 사용되는 기술이 어려운 것은 아니나 긴 문제를 읽고 이해하는 것이 중요한 문제...   \n",
    "근데 틀림 ㅠ  \n",
    "삼성에서도 자주 나오는 문제라고 하니 꼭꼭 외우기..."
   ]
  },
  {
   "cell_type": "code",
   "execution_count": null,
   "metadata": {
    "colab": {
     "base_uri": "https://localhost:8080/"
    },
    "executionInfo": {
     "elapsed": 20405,
     "status": "ok",
     "timestamp": 1616222904275,
     "user": {
      "displayName": "‎이혜린(자연과학대학 통계학과)",
      "photoUrl": "",
      "userId": "17465505332261896018"
     },
     "user_tz": -540
    },
    "id": "nT7jzPhZM9AN",
    "outputId": "88478ebd-a932-4461-fe44-e928e8679076"
   },
   "outputs": [
    {
     "name": "stdout",
     "output_type": "stream",
     "text": [
      "4 4\n",
      "1 1 0\n",
      "1 1 1 1\n",
      "1 0 0 1\n",
      "1 1 0 1\n",
      "1 1 1 1\n",
      "3\n"
     ]
    }
   ],
   "source": [
    "n, m = map(int, input().split())\n",
    "\n",
    "d = [[0] * m for _ in range(n)]\n",
    "x, y, direction = map(int, input().split())\n",
    "d[x][y] = 1 # 현재 좌표 방문 처리\n",
    "\n",
    "# 전체 맵 정보를 입력받기\n",
    "array = []\n",
    "for i in range(n):\n",
    "    array.append(list(map(int, input().split())))\n",
    "\n",
    "# direction\n",
    "dx = [-1, 0, 1, 0]\n",
    "dy = [0, 1, 0, -1]\n",
    "\n",
    "# 왼쪽으로 회전\n",
    "def turn_left():\n",
    "    global direction\n",
    "    direction -= 1\n",
    "    if direction == -1 :\n",
    "        direction = 3\n",
    "\n",
    "# 시뮬레이션 시작\n",
    "count = 1\n",
    "turn_time = 0\n",
    "while True:\n",
    "    turn_left()\n",
    "    nx = x + dx[direction]\n",
    "    ny = y + dy[direction]\n",
    "    # 회전한 이후 정면에 가보지 않은 칸이 존재하는 경우 이동\n",
    "    if d[nx][ny] == 0 and array[nx][ny] == 0:\n",
    "        d[nx][ny] = 1\n",
    "        x = nx\n",
    "        y = ny\n",
    "        count += 1\n",
    "        turn_time = 0\n",
    "        continue\n",
    "    # 회전한 이후 정면에 가보지 않은 칸이 없거나 바다인 경우\n",
    "    else:\n",
    "        turn_time += 1\n",
    "    # 네 방향 모두 갈 수 없는 경우\n",
    "    if turn_time == 4:\n",
    "        nx = x - dx[direction]\n",
    "        ny = y - dy[direction]\n",
    "        # 뒤로 갈수 있다면 이동하기\n",
    "        if array[nx][ny] == 0:\n",
    "            x = nx\n",
    "            y = ny\n",
    "        else:\n",
    "            break\n",
    "        turn_time = 0\n",
    "\n",
    "print(count)"
   ]
  }
 ],
 "metadata": {
  "colab": {
   "authorship_tag": "ABX9TyMhP3UxbrAxmlCJcXjH9gVE",
   "name": "Chap3-Greedy.ipynb",
   "provenance": []
  },
  "kernelspec": {
   "display_name": "Python 3",
   "language": "python",
   "name": "python3"
  },
  "language_info": {
   "codemirror_mode": {
    "name": "ipython",
    "version": 3
   },
   "file_extension": ".py",
   "mimetype": "text/x-python",
   "name": "python",
   "nbconvert_exporter": "python",
   "pygments_lexer": "ipython3",
   "version": "3.6.5"
  }
 },
 "nbformat": 4,
 "nbformat_minor": 1
}
