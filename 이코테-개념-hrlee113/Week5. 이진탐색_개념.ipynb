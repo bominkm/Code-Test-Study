{
 "cells": [
  {
   "cell_type": "markdown",
   "id": "controversial-parish",
   "metadata": {},
   "source": [
    "# Week5. 이진탐색"
   ]
  },
  {
   "cell_type": "markdown",
   "id": "artificial-illinois",
   "metadata": {},
   "source": [
    "## 1. 순차탐색  \n",
    "* 리스트 안에 있는 특정한 데이터를 찾기 위해 앞에서부터 데이터를 하나씩 차례대로 (순차적으로) 확인하는 방법  \n",
    "* **정렬되지 않은 리스트**에서 데이터를 찾을 때 사용  \n",
    "* `count` 메소드를 이용할 때도 내부에서는 순차 탐색이 수행됨  \n",
    "* 데이터 정렬 여부와 관계없이 가장 앞의 원소부터 하나씩 확인 → 시간복잡도 $O(N)$"
   ]
  },
  {
   "cell_type": "code",
   "execution_count": 1,
   "id": "wireless-abraham",
   "metadata": {},
   "outputs": [
    {
     "name": "stdout",
     "output_type": "stream",
     "text": [
      "생성할 원소 개수를 입력한 다음 한 칸 띄고 찾을 문자열을 입력하세요.\n",
      "5 Dongbin\n",
      "앞서 적은 원소 개수만큼 문자열을 입력하세요. 구분은 띄어쓰기 한 칸으로 합니다.\n",
      "bbomin hrlee Dongbin yunee\n",
      "3\n"
     ]
    }
   ],
   "source": [
    "def sequential_search(n, target, array):\n",
    "    # 각 원소를 하나씩 확인하며\n",
    "    for i in range(n):\n",
    "        # 현재의 원소가 찾고자 하는 원소와 동일한 경우\n",
    "        if array[i] == target:\n",
    "            return i+1 # 현재의 위치 반환\n",
    "\n",
    "print('생성할 원소 개수를 입력한 다음 한 칸 띄고 찾을 문자열을 입력하세요.')\n",
    "input_data = input().split()\n",
    "n = int(input_data[0]) # 원소의 개수\n",
    "target = input_data[1] # 찾고자 하는 문자열\n",
    "\n",
    "print('앞서 적은 원소 개수만큼 문자열을 입력하세요. 구분은 띄어쓰기 한 칸으로 합니다.')\n",
    "array = input().split()\n",
    "\n",
    "# 순차 탐색 수행 결과 출력\n",
    "print(sequential_search(n, target, array))"
   ]
  },
  {
   "cell_type": "markdown",
   "id": "swiss-position",
   "metadata": {},
   "source": [
    "## 2. 이진탐색 : 반으로 쪼개면서 탐색하기  \n",
    "* **배열 내부의 데이터가 정렬되어 있어야만 사용가능**한 알고리즘  \n",
    "* 데이터가 이미 정렬되어 있다면 매우 빠르게 데이터를 찾을 수 있음  \n",
    "* 탐색 범위를 절반씩 좁혀가며 데이터를 탐색  "
   ]
  },
  {
   "cell_type": "markdown",
   "id": "separated-thanksgiving",
   "metadata": {},
   "source": [
    "* 사용 변수 : `시작점`, `끝점`, `중간점`  \n",
    "* 찾으려는 데이터와 중간점 위치에 있는 데이터를 반복적으로 비교해서 원하는 데이터를 찾음  \n",
    "* 시간 복잡도 : $O(logN)$"
   ]
  },
  {
   "cell_type": "markdown",
   "id": "bulgarian-berry",
   "metadata": {},
   "source": [
    "### 구현방법1 : 재귀함수"
   ]
  },
  {
   "cell_type": "code",
   "execution_count": 2,
   "id": "respective-cooperative",
   "metadata": {},
   "outputs": [
    {
     "name": "stdout",
     "output_type": "stream",
     "text": [
      "10 7\n",
      "1 3 5 7 11 13 15 17 19\n",
      "4\n"
     ]
    }
   ],
   "source": [
    "# 이진 탐색 소스코드 구현 (재귀 함수)\n",
    "def binary_search(array, target, start, end):\n",
    "    if start > end:\n",
    "        return None\n",
    "    mid = (start + end) // 2\n",
    "    # 찾은 경우 중간점 인덱스 반환\n",
    "    if array[mid] == target:\n",
    "        return mid\n",
    "    # 중간점의 값보다 찾고자 하는 값이 작은 경우 왼쪽 확인\n",
    "    elif array[mid] > target:\n",
    "        return binary_search(array, target, start, mid-1)\n",
    "    # 중간점의 값보다 찾고자 하는 값이 큰 경우 오른쪽 확인\n",
    "    else:\n",
    "        return binary_search(array, target, mid+1, end)\n",
    "    \n",
    "# n(원소의 개수)과 target(찾고자 하는 문자열)을 입력받기\n",
    "n, target = list(map(int, input().split()))\n",
    "# 전체 원소 입력받기\n",
    "array = list(map(int, input().split()))\n",
    "\n",
    "# 이진 탐색 수행 결과 출력\n",
    "result = binary_search(array, target, 0, n-1)\n",
    "if result == None:\n",
    "    print('원소가 존재하지 않습니다')\n",
    "else:\n",
    "    print(result+1)"
   ]
  },
  {
   "cell_type": "code",
   "execution_count": 3,
   "id": "competent-linux",
   "metadata": {},
   "outputs": [
    {
     "name": "stdout",
     "output_type": "stream",
     "text": [
      "10 7\n",
      "1 3 5 6 9 11 13 15 17 19\n",
      "원소가 존재하지 않습니다\n"
     ]
    }
   ],
   "source": [
    "# n(원소의 개수)과 target(찾고자 하는 문자열)을 입력받기\n",
    "n, target = list(map(int, input().split()))\n",
    "# 전체 원소 입력받기\n",
    "array = list(map(int, input().split()))\n",
    "\n",
    "# 이진 탐색 수행 결과 출력\n",
    "result = binary_search(array, target, 0, n-1)\n",
    "if result == None:\n",
    "    print('원소가 존재하지 않습니다')\n",
    "else:\n",
    "    print(result+1)"
   ]
  },
  {
   "cell_type": "markdown",
   "id": "supposed-transaction",
   "metadata": {},
   "source": [
    "### 구현방법2 : 반복문"
   ]
  },
  {
   "cell_type": "code",
   "execution_count": 4,
   "id": "bizarre-right",
   "metadata": {},
   "outputs": [
    {
     "name": "stdout",
     "output_type": "stream",
     "text": [
      "10 7\n",
      "1 3 5 6 9 11 13 15 17 19\n",
      "원소가 존재하지 않습니다\n"
     ]
    }
   ],
   "source": [
    "def binary_search(array, target, start, end):\n",
    "    while start <= end:\n",
    "        mid = (start + end) // 2\n",
    "        # 찾은 경우 중간점 인덱스 반환\n",
    "        if array[mid] == target:\n",
    "            return mid\n",
    "        # 중간점의 값보다 찾고자 하는 값이 작은 경우 왼쪽 확인\n",
    "        elif array[mid] > target:\n",
    "            end = mid - 1\n",
    "        # 중간점의 값보다 찾고자 하는 값이 큰 경우 오른쪽 확인\n",
    "        else:\n",
    "            start = mid + 1\n",
    "    return None\n",
    "\n",
    "# n(원소의 개수)과 target(찾고자 하는 문자열)을 입력받기\n",
    "n, target = list(map(int, input().split()))\n",
    "# 전체 원소 입력받기\n",
    "array = list(map(int, input().split()))\n",
    "\n",
    "# 이진 탐색 수행 결과 출력\n",
    "result = binary_search(array, target, 0, n-1)\n",
    "if result == None:\n",
    "    print('원소가 존재하지 않습니다')\n",
    "else:\n",
    "    print(result+1)"
   ]
  },
  {
   "cell_type": "markdown",
   "id": "fifty-folder",
   "metadata": {},
   "source": [
    "###  유의할 점"
   ]
  },
  {
   "cell_type": "markdown",
   "id": "above-gender",
   "metadata": {},
   "source": [
    "* 탐색 범위가 **2000**이 넘어가면 이진 탐색으로 접근해보기  "
   ]
  },
  {
   "cell_type": "markdown",
   "id": "breathing-tanzania",
   "metadata": {},
   "source": [
    "## 3. 트리 자료구조  \n",
    "* 파일 시스템 같은 계층적이고 정렬된 데이터를 다루기 적합"
   ]
  },
  {
   "cell_type": "markdown",
   "id": "double-allah",
   "metadata": {},
   "source": [
    "### 이진 탐색 트리  \n",
    "* 부모 노드보다 왼쪽 자식 노드가 작음  \n",
    "* 부모 노드보다 오른쪽 자식 노드가 큼  \n",
    "* `왼쪽 자식 노드 < 부모 노드 < 오른쪽 자식 노드`"
   ]
  },
  {
   "cell_type": "markdown",
   "id": "respiratory-november",
   "metadata": {},
   "source": [
    "### 이진 탐색 문제 특징  \n",
    "* 입력 데이터가 많고, 탐색 범위가 넓음  \n",
    "* 이 때 `input()`을 사용하면 런타임 에러.. \n",
    "* **sys 라이브러리의 `readline()`** 이용하기"
   ]
  },
  {
   "cell_type": "code",
   "execution_count": 6,
   "id": "supported-suspect",
   "metadata": {},
   "outputs": [
    {
     "name": "stdout",
     "output_type": "stream",
     "text": [
      "\n"
     ]
    }
   ],
   "source": [
    "import sys\n",
    "\n",
    "# 하나의 문자열 데이터 입력받기  \n",
    "input_data = sys.stdin.readline().rstrip()\n",
    "\n",
    "# 입력받은 문자열 그대로 출력  \n",
    "print(input_data)"
   ]
  },
  {
   "cell_type": "markdown",
   "id": "limited-interview",
   "metadata": {},
   "source": [
    "`rstrip` 필수 : 줄바꿈 기호로 \\n 사용되므로, 공백 문자를 지워야 함"
   ]
  },
  {
   "cell_type": "markdown",
   "id": "greek-essex",
   "metadata": {},
   "source": [
    "## 4. 예제"
   ]
  },
  {
   "cell_type": "markdown",
   "id": "welsh-riding",
   "metadata": {},
   "source": [
    "### 부품 찾기"
   ]
  },
  {
   "cell_type": "markdown",
   "id": "apart-collapse",
   "metadata": {},
   "source": [
    "#### My code"
   ]
  },
  {
   "cell_type": "code",
   "execution_count": 2,
   "id": "smooth-southeast",
   "metadata": {},
   "outputs": [
    {
     "name": "stdout",
     "output_type": "stream",
     "text": [
      "5\n",
      "8 3 7 9 2\n",
      "3\n",
      "5 7 9\n",
      "['no', 'yes', 'yes']\n"
     ]
    }
   ],
   "source": [
    "# 물품 리스트\n",
    "N = int(input())\n",
    "n_list = list(map(int, input().split(' ')))\n",
    "\n",
    "# 확인이 필요한 물품\n",
    "M = int(input())\n",
    "m_list = list(map(int, input().split(' ')))\n",
    "\n",
    "res = []\n",
    "for m in range(M):\n",
    "    target = m_list[m]\n",
    "    score = 0\n",
    "    for n in range(N):\n",
    "        if target == n_list[n]:\n",
    "            score += 1 # target이 n_list 중 하나와 같으면 score += 1\n",
    "    if score == 1:\n",
    "        res.append('yes')\n",
    "    else: # score == 0\n",
    "        res.append('no')\n",
    "print(res)"
   ]
  },
  {
   "cell_type": "markdown",
   "id": "quiet-minimum",
   "metadata": {},
   "source": [
    "#### 예시 : 이진 탐색"
   ]
  },
  {
   "cell_type": "code",
   "execution_count": 5,
   "id": "changing-claim",
   "metadata": {},
   "outputs": [
    {
     "name": "stdout",
     "output_type": "stream",
     "text": [
      "5\n",
      "8 3 7 9 2\n",
      "3\n",
      "5 7 9\n",
      "no yes yes "
     ]
    }
   ],
   "source": [
    "def binary_search(array, target, start, end):\n",
    "    while start <= end:\n",
    "        mid = (start + end) // 2\n",
    "        # 찾은 경우 중간점 인덱스 반환\n",
    "        if array[mid] == target:\n",
    "            return mid\n",
    "        # 중간점의 값보다 찾고자 하는 값이 작은 경우 왼쪽 확인\n",
    "        elif array[mid] > target:\n",
    "            end = mid - 1\n",
    "        # 중간점의 값보다 찾고자 하는 값이 큰 경우 오른쪽 확인\n",
    "        else:\n",
    "            start = mid + 1\n",
    "    return None\n",
    "\n",
    "# 물품 리스트\n",
    "N = int(input())\n",
    "n_list = list(map(int, input().split(' ')))\n",
    "n_list.sort() # 이진 탐색 수행을 위해 사전에 정렬 수행\n",
    "\n",
    "# 확인이 필요한 물품\n",
    "M = int(input())\n",
    "m_list = list(map(int, input().split(' ')))\n",
    "\n",
    "for i in m_list:\n",
    "    # 해당 부품이 존재하는지 확인\n",
    "    result = binary_search(n_list, i, 0, N-1)\n",
    "    if result != None:\n",
    "        print('yes', end=' ')\n",
    "    else:\n",
    "        print('no', end = ' ')"
   ]
  },
  {
   "cell_type": "markdown",
   "id": "awful-belly",
   "metadata": {},
   "source": [
    "#### 예시 : 계수 정렬  \n",
    "* 모든 원소의 번호를 포함할 수 있는 크기의 리스트를 만든 후\n",
    "* 리스트의 인덱스에 직접 접근하여 특정한 번호의 부품이 매장에 존재하는지 확인"
   ]
  },
  {
   "cell_type": "code",
   "execution_count": 6,
   "id": "silver-donor",
   "metadata": {},
   "outputs": [
    {
     "name": "stdout",
     "output_type": "stream",
     "text": [
      "5\n",
      "8 3 7 9 2\n",
      "3\n",
      "5 7 9\n",
      "no yes yes "
     ]
    }
   ],
   "source": [
    "# N(가게의 부품 개수)을 입력받기\n",
    "N = int(input())\n",
    "array = [0] * 100001\n",
    "\n",
    "# 가게에 있는 전체 부품 번호를 입력받아서 기록\n",
    "for i in input().split():\n",
    "    array[int(i)] = 1\n",
    "\n",
    "# M(손님이 확인요청한 부품개수)을 입력받기\n",
    "m = int(input())\n",
    "# 손님이 확인요청한 전체 부품번호를 공백으로 구분하여 입력\n",
    "x = list(map(int, input().split()))\n",
    "\n",
    "# 손님이 확인요청한 부품번호를 하나씩 확인\n",
    "for i in x:\n",
    "    # 해당 부품이 존재하는지 확인\n",
    "    if array[i] == 1:\n",
    "        print('yes', end=' ')\n",
    "    else:\n",
    "        print('no', end=' ')"
   ]
  },
  {
   "cell_type": "markdown",
   "id": "scenic-halifax",
   "metadata": {},
   "source": [
    "#### 예제 : 집합 자료형"
   ]
  },
  {
   "cell_type": "code",
   "execution_count": 8,
   "id": "descending-ministry",
   "metadata": {},
   "outputs": [
    {
     "name": "stdout",
     "output_type": "stream",
     "text": [
      "5\n",
      "8 3 7 9 2\n",
      "3\n",
      "5 7 9\n",
      "no yes yes "
     ]
    }
   ],
   "source": [
    "# N(가게의 부품 개수)을 입력받기\n",
    "N = int(input())\n",
    "array = set(map(int, input().split()))\n",
    "\n",
    "# M(손님이 확인요청한 부품개수)을 입력받기\n",
    "m = int(input())\n",
    "# 손님이 확인요청한 전체 부품번호를 공백으로 구분하여 입력\n",
    "x = list(map(int, input().split()))\n",
    "\n",
    "# 손님이 확인요청한 부품번호를 하나씩 확인\n",
    "for i in x:\n",
    "    # 해당 부품이 존재하는지 확인\n",
    "    if i in array:\n",
    "        print('yes', end=' ')\n",
    "    else:\n",
    "        print('no', end=' ')"
   ]
  },
  {
   "cell_type": "markdown",
   "id": "affiliated-badge",
   "metadata": {},
   "source": [
    "### 떡볶이 떡 만들기  \n",
    "* 전형적인 이진 탐색 문제  \n",
    "* **파라메트릭 서치 문제** : 최적화 문제를 결정 문제로 바꾸어 해결하는 기법 → 보통 이진탐색 이용  \n",
    "  `원하는 조건을 만족하는 가장 알맞은 값을 찾는 문제`  "
   ]
  },
  {
   "cell_type": "code",
   "execution_count": 10,
   "id": "meaning-investor",
   "metadata": {},
   "outputs": [
    {
     "name": "stdout",
     "output_type": "stream",
     "text": [
      "4 6\n",
      "19 15 10 17\n",
      "16\n"
     ]
    }
   ],
   "source": [
    "N, M = map(int, input().split(' '))\n",
    "array = list(map(int, input().split()))\n",
    "\n",
    "# 이진 탐색을 위한 시작점과 끝점 설정\n",
    "start = 0\n",
    "end = max(array)\n",
    "\n",
    "# 이진 탐색 수행 (반복적)\n",
    "result = 0\n",
    "while (start <= end):\n",
    "    total = 0\n",
    "    mid = (start + end) // 2\n",
    "    for x in array:\n",
    "        # 잘랐을 때의 떡의 양 계산\n",
    "        if x > mid:\n",
    "            total += x-mid\n",
    "    \n",
    "    # 떡의 양이 부족한 경우 더 많이 자르기 (왼쪽 부분 탐색)\n",
    "    if total < m:\n",
    "        end = mid - 1\n",
    "    # 떡의 양이 충분한 경우 덜 자르기 (오른쪽 부분 탐색)\n",
    "    else:\n",
    "        result = mid # 최대한 덜 잘랐을 때가 정답이므로, 여기에서 result에 기록\n",
    "        start = mid + 1\n",
    "        \n",
    "# 정답 출력\n",
    "print(result)"
   ]
  }
 ],
 "metadata": {
  "kernelspec": {
   "display_name": "tensorflow2_py36",
   "language": "python",
   "name": "tensorflow2_py36"
  },
  "language_info": {
   "codemirror_mode": {
    "name": "ipython",
    "version": 3
   },
   "file_extension": ".py",
   "mimetype": "text/x-python",
   "name": "python",
   "nbconvert_exporter": "python",
   "pygments_lexer": "ipython3",
   "version": "3.6.12"
  }
 },
 "nbformat": 4,
 "nbformat_minor": 5
}
