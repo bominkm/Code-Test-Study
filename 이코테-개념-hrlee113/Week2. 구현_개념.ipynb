{
 "cells": [
  {
   "cell_type": "markdown",
   "id": "decent-wings",
   "metadata": {},
   "source": [
    "# Week2. 구현_개념"
   ]
  },
  {
   "cell_type": "markdown",
   "id": "analyzed-attitude",
   "metadata": {},
   "source": [
    "## 구현  \n",
    "* 머릿속에 있는 알고리즘을 소스코드로 바꾸는 과정\n",
    "* 구현 : 완전탐색 + 시뮬레이션  \n",
    "  * 완전탐색 : 모든 경우의 수를 주저없이 다 계산하는 해결 방법  \n",
    "  * 시뮬레이션 : 문제에서 제시한 알고리즘을 한 단계씩 차례대로 직접 수행해야 하는 문제 유형\n",
    "* 예시  \n",
    "  * 알고리즘은 간단한데 코드가 지나칠 만큼 길어지는 문제  \n",
    "  * 실수 연산을 다루고, 특정 소수점 자리까지 출력해야 하는 문제  \n",
    "  * 문자열을 특정한 기준에 따라서 끊어 처리해야 하는 문제  \n",
    "  * 적절한 라이브러리를 찾아서 사용해야 하는 문제  "
   ]
  },
  {
   "cell_type": "markdown",
   "id": "treated-cheese",
   "metadata": {},
   "source": [
    "* 일반적으로 알고리즘 문제에서의 2차원 공간은 **행렬**의 의미로 사용됨  "
   ]
  },
  {
   "cell_type": "code",
   "execution_count": 1,
   "id": "computational-hospital",
   "metadata": {},
   "outputs": [
    {
     "name": "stdout",
     "output_type": "stream",
     "text": [
      "( 0 , 0 ) ( 0 , 1 ) ( 0 , 2 ) ( 0 , 3 ) ( 0 , 4 ) \n",
      "( 1 , 0 ) ( 1 , 1 ) ( 1 , 2 ) ( 1 , 3 ) ( 1 , 4 ) \n",
      "( 2 , 0 ) ( 2 , 1 ) ( 2 , 2 ) ( 2 , 3 ) ( 2 , 4 ) \n",
      "( 3 , 0 ) ( 3 , 1 ) ( 3 , 2 ) ( 3 , 3 ) ( 3 , 4 ) \n",
      "( 4 , 0 ) ( 4 , 1 ) ( 4 , 2 ) ( 4 , 3 ) ( 4 , 4 ) \n"
     ]
    }
   ],
   "source": [
    "for i in range(5):\n",
    "    for j in range(5):\n",
    "        print('(', i, ',', j, ')', end=' ') # 띄어쓰기 후 다시 print loop\n",
    "    print()"
   ]
  },
  {
   "cell_type": "markdown",
   "id": "interim-spokesman",
   "metadata": {},
   "source": [
    "* 시뮬레이션 및 완전 탐색 문제에서는 2차원 공간에서의 **방향 벡터**가 자주 활용됨"
   ]
  },
  {
   "cell_type": "code",
   "execution_count": 2,
   "id": "missing-limit",
   "metadata": {},
   "outputs": [
    {
     "name": "stdout",
     "output_type": "stream",
     "text": [
      "2 3\n",
      "1 2\n",
      "2 1\n",
      "3 2\n"
     ]
    }
   ],
   "source": [
    "# 동, 북, 서, 남\n",
    "dx = [0, -1, 0, 1]\n",
    "dy = [1, 0, -1, 0]\n",
    "\n",
    "# 현재 위치\n",
    "x, y = 2, 2\n",
    "\n",
    "for i in range(4):\n",
    "    # 다음 위치\n",
    "    nx = x + dx[i]\n",
    "    ny = y + dy[i]\n",
    "    print(nx, ny)"
   ]
  },
  {
   "cell_type": "markdown",
   "id": "dietary-dragon",
   "metadata": {},
   "source": [
    "## 1번  \n",
    "### 4-1. 상하좌우  \n",
    "* 틀렸으니 외우자  \n",
    "* 일련의 명령에 따라서 개체를 차례대로 이동시킨다는 점에서 **시뮬레이션 유형**으로도 분류되며 구현의 대표 유형  \n",
    "* 다만, 교재나 문제 풀이 사이트에 따라서 다르게 일컬을 수 있으므로, 코딩 테스트에서의 시뮬레이션 유형, 구현 유형, 완전 탐색 유형은 서로 유사한 점이 많다는 정도로만 기억하기"
   ]
  },
  {
   "cell_type": "code",
   "execution_count": 3,
   "id": "continuous-workplace",
   "metadata": {},
   "outputs": [
    {
     "name": "stdout",
     "output_type": "stream",
     "text": [
      "5\n",
      "R R R U D D\n",
      "3 4\n"
     ]
    }
   ],
   "source": [
    "n = int(input())\n",
    "x, y = 1, 1\n",
    "plans = input().split()\n",
    "\n",
    "# L, R, U, D 에 따른 이동방향 (point!!!)\n",
    "dx = [0, 0, -1, 1]\n",
    "dy = [-1, 1, 0, 0]\n",
    "move_types = ['L', 'R', 'U', 'D']\n",
    "\n",
    "# 이동 계획을 하나씩 확인\n",
    "for plan in plans:\n",
    "  # 이동 후 좌표 구하기\n",
    "  for i in range(len(move_types)):\n",
    "    if plan == move_types[i]:\n",
    "        nx = x + dx[i]\n",
    "        ny = y + dy[i]\n",
    "  # 공간을 벗어나는 경우 무시\n",
    "  if nx < 1 or ny < 1 or nx > n or ny > n:\n",
    "    continue\n",
    "  # 이동 수행\n",
    "  x, y = nx, ny\n",
    "  \n",
    "print(x, y)"
   ]
  },
  {
   "cell_type": "markdown",
   "id": "affiliated-hayes",
   "metadata": {},
   "source": [
    "### 4-2. 시각  \n",
    "* 가능한 모든 시각의 경우를 하나씩 모두 세서 풀 수 있는 문제  \n",
    "* 하루는 86400초이므로 모든 경우도86400가지  \n",
    "* 단순히 시각을 1씩 증가시키면서 3이 하나라도 포함되어있는지 확인  \n",
    "* **완전 탐색** 유형 (가능한 경우의 수를 모두 검사해보는 탐색 방법)"
   ]
  },
  {
   "cell_type": "markdown",
   "id": "immune-lawyer",
   "metadata": {},
   "source": [
    "#### My code"
   ]
  },
  {
   "cell_type": "code",
   "execution_count": 5,
   "id": "velvet-distributor",
   "metadata": {},
   "outputs": [
    {
     "name": "stdout",
     "output_type": "stream",
     "text": [
      "5\n",
      "11475\n"
     ]
    }
   ],
   "source": [
    "N = int(input())\n",
    "str_1 = list(map(str, range(6)))\n",
    "str_2 = list(map(str, range(10)))\n",
    "res = 0\n",
    "\n",
    "for n in range(N+1):\n",
    "    count = 0\n",
    "    for i in str_1:\n",
    "        for j in str_2:\n",
    "            for k in str_1:\n",
    "                for l in str_2:\n",
    "                    time = i + j + k + l # 지금보니 굳이 십의자리 숫자, 일의자리 숫자로 나눠서 풀었네,,, 어차피 합치면 다 같은 형식의 문자열인데!\n",
    "                    if '3' in time:\n",
    "                        count += 1 \n",
    "    if '3' in str(n):\n",
    "        res += len(str_1) * len(str_2) * len(str_1) * len(str_2) # '시'에 3이 포함되는 경우 모든 분과 초의 조합마다 카운트 해야하므로...\n",
    "    else:\n",
    "        res += count\n",
    "\n",
    "print(res)"
   ]
  },
  {
   "cell_type": "markdown",
   "id": "optical-general",
   "metadata": {},
   "source": [
    "#### Example Answer"
   ]
  },
  {
   "cell_type": "code",
   "execution_count": 6,
   "id": "mighty-corrections",
   "metadata": {},
   "outputs": [
    {
     "name": "stdout",
     "output_type": "stream",
     "text": [
      "5\n",
      "11475\n"
     ]
    }
   ],
   "source": [
    "h = int(input())\n",
    "\n",
    "count = 0\n",
    "\n",
    "for i in range(h+1):\n",
    "    for j in range(60):\n",
    "        for k in range(60):\n",
    "            # 매 시각 안에 '3'이 포함되어 있다면 카운트 증가\n",
    "            if '3' in str(i) + str(j) + str(k):\n",
    "                count += 1\n",
    "\n",
    "print(count)"
   ]
  },
  {
   "cell_type": "markdown",
   "id": "empty-sacrifice",
   "metadata": {},
   "source": [
    "## 2번. 왕실의 나이트  \n",
    "* 요구사항대로 충실히 구현하면 되는 문제  \n",
    "* 나이트의 8가지 경로를 하나씩 확인하며 각 위치로 이동이 가능한지 확인  \n",
    "  * 리스트를 이용하여 8가지 방향에 대한 방향 벡터를 정의"
   ]
  },
  {
   "cell_type": "markdown",
   "id": "collectible-enterprise",
   "metadata": {},
   "source": [
    "#### My code"
   ]
  },
  {
   "cell_type": "code",
   "execution_count": 7,
   "id": "innocent-marking",
   "metadata": {},
   "outputs": [
    {
     "name": "stdout",
     "output_type": "stream",
     "text": [
      "a1\n",
      "2\n"
     ]
    }
   ],
   "source": [
    "pos = input()\n",
    "row = ['a', 'b', 'c', 'd', 'e', 'f', 'g', 'h']\n",
    "\n",
    "x, y = row.index(pos[0])+1, int(pos[1])\n",
    "count = 0\n",
    "\n",
    "dx = [-2, -2, 2, 2, -1, 1, -1, 1] # 좌표 위에서 움직여야 하는 문제의 경우 움직일 수 있는 case를 dx, dy로 표현하기\n",
    "dy = [-1, 1, -1, 1, -2, -2, 2, 2]\n",
    "\n",
    "for i in range(8):\n",
    "    nx = x + dx[i]\n",
    "    ny = y + dy[i]\n",
    "    count += 1\n",
    "\n",
    "    if nx < 1 or ny < 1 or nx > 8 or ny > 8:\n",
    "        count -= 1\n",
    "\n",
    "print(count)"
   ]
  },
  {
   "cell_type": "markdown",
   "id": "twenty-durham",
   "metadata": {},
   "source": [
    "#### Example Answer"
   ]
  },
  {
   "cell_type": "code",
   "execution_count": 8,
   "id": "olympic-convergence",
   "metadata": {},
   "outputs": [
    {
     "name": "stdout",
     "output_type": "stream",
     "text": [
      "a1\n",
      "2\n"
     ]
    }
   ],
   "source": [
    "input_data = input()\n",
    "row = int(input_data[1])\n",
    "column = int(ord(input_data[0])) - int(ord('a')) + 1 # 여기가 다르네 ...\n",
    "\n",
    "steps = [(-2, -1), (-1, -2), (1, -2), (2, -1), (2, 1), (1, 2), (-1, 2), (-2, 1)]\n",
    "\n",
    "result = 0\n",
    "for step in steps:\n",
    "    next_row = row + step[0]\n",
    "    next_column = column + step[1]\n",
    "\n",
    "    if next_row >= 1 and next_row <= 8 and next_column >= 1 and next_column <= 8:\n",
    "        result += 1\n",
    "\n",
    "print(result)"
   ]
  },
  {
   "cell_type": "markdown",
   "id": "possible-forest",
   "metadata": {},
   "source": [
    "## 3번. 게임 개발  \n",
    "* 전형적인 시뮬레이션 문제\n",
    "* 사용되는 기술이 어려운 것은 아니나 긴 문제를 읽고 이해하는 것이 중요한 문제\n",
    "* 삼성에서도 자주 나오는 문제라고 하니 꼭꼭 외우기"
   ]
  },
  {
   "cell_type": "code",
   "execution_count": 9,
   "id": "classical-modeling",
   "metadata": {},
   "outputs": [
    {
     "name": "stdout",
     "output_type": "stream",
     "text": [
      "4 4\n",
      "1 1 0\n",
      "1 1 1 1\n",
      "1 0 0 1\n",
      "1 1 0 1\n",
      "1 1 1 1\n",
      "3\n"
     ]
    }
   ],
   "source": [
    "n, m = map(int, input().split())\n",
    "\n",
    "d = [[0] * m for _ in range(n)]\n",
    "x, y, direction = map(int, input().split())\n",
    "d[x][y] = 1 # 현재 좌표 방문 처리\n",
    "\n",
    "# 전체 맵 정보를 입력받기\n",
    "array = []\n",
    "for i in range(n):\n",
    "    array.append(list(map(int, input().split())))\n",
    "\n",
    "# direction\n",
    "dx = [-1, 0, 1, 0]\n",
    "dy = [0, 1, 0, -1]\n",
    "\n",
    "# 왼쪽으로 회전\n",
    "def turn_left():\n",
    "    global direction\n",
    "    direction -= 1\n",
    "    if direction == -1 :\n",
    "        direction = 3\n",
    "\n",
    "# 시뮬레이션 시작\n",
    "count = 1\n",
    "turn_time = 0\n",
    "while True:\n",
    "    turn_left()\n",
    "    nx = x + dx[direction]\n",
    "    ny = y + dy[direction]\n",
    "    # 회전한 이후 정면에 가보지 않은 칸이 존재하는 경우 이동\n",
    "    if d[nx][ny] == 0 and array[nx][ny] == 0:\n",
    "        d[nx][ny] = 1\n",
    "        x = nx\n",
    "        y = ny\n",
    "        count += 1\n",
    "        turn_time = 0\n",
    "        continue\n",
    "    # 회전한 이후 정면에 가보지 않은 칸이 없거나 바다인 경우\n",
    "    else:\n",
    "        turn_time += 1\n",
    "    # 네 방향 모두 갈 수 없는 경우\n",
    "    if turn_time == 4:\n",
    "        nx = x - dx[direction]\n",
    "        ny = y - dy[direction]\n",
    "        # 뒤로 갈수 있다면 이동하기\n",
    "        if array[nx][ny] == 0:\n",
    "            x = nx\n",
    "            y = ny\n",
    "        else:\n",
    "            break\n",
    "        turn_time = 0\n",
    "\n",
    "print(count)"
   ]
  }
 ],
 "metadata": {
  "kernelspec": {
   "display_name": "Python 3",
   "language": "python",
   "name": "python3"
  },
  "language_info": {
   "codemirror_mode": {
    "name": "ipython",
    "version": 3
   },
   "file_extension": ".py",
   "mimetype": "text/x-python",
   "name": "python",
   "nbconvert_exporter": "python",
   "pygments_lexer": "ipython3",
   "version": "3.6.5"
  }
 },
 "nbformat": 4,
 "nbformat_minor": 5
}
