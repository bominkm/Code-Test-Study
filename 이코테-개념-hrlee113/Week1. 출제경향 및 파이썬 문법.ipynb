{
 "cells": [
  {
   "cell_type": "markdown",
   "id": "powerful-label",
   "metadata": {},
   "source": [
    "# Week1. 출제 경향 / 파이썬 문법"
   ]
  },
  {
   "cell_type": "markdown",
   "id": "future-officer",
   "metadata": {},
   "source": [
    "## 출제 경향"
   ]
  },
  {
   "cell_type": "markdown",
   "id": "broken-scholar",
   "metadata": {},
   "source": [
    "* 시간 : 2 - 5시간  \n",
    "* 가장 출제 빈도가 높은 알고리즘 유형  \n",
    "  * 그리디  \n",
    "  * 구현  \n",
    "  * DFS / BFS를 이용한 탐색"
   ]
  },
  {
   "cell_type": "markdown",
   "id": "expired-happiness",
   "metadata": {},
   "source": [
    "## 알고리즘 설계 Tip"
   ]
  },
  {
   "cell_type": "markdown",
   "id": "sapphire-swiss",
   "metadata": {},
   "source": [
    "* `pypy`로 제출이 가능하다면 해당 형식으로 제출  \n",
    "* 코딩 테스트 문제에서 시간제한은 통상 **1 - 5초**  \n",
    "* 문제에서 가장 먼저 확인해야 하는 것은 **시간제한(수행시간 요구사항)**  \n",
    "  * 시간제한이 1초인 문제의 경우  \n",
    "    * N < 500 : 시간 복잡도 $O(N_{3})$  \n",
    "    * 500 < N < 2,000 : 시간 복잡도 $O(N_{2})$  \n",
    "    * 2,000 < N < 100,000 : 시간 복잡도 $O(NlogN)$  \n",
    "    * 100,000 < N < 10,000,000 : 시간 복잡도 $O(N)$  "
   ]
  },
  {
   "cell_type": "markdown",
   "id": "becoming-product",
   "metadata": {},
   "source": [
    "## 알고리즘 문제 해결 과정  \n",
    "1. 지문 읽기 및 컴퓨터적 사고  \n",
    "2. **요구사항(복잡도) 분석**  \n",
    "3. 문제 해결을 위한 **아이디어** 찾기 (핵심 아이디어 캐치가 중요)  \n",
    "4. 소스코드 설계 및 코딩  \n",
    "  \n",
    "문제를 온전히 이해하고, 어떤 식으로 코드를 짤지 구체적으로 생각한 후에 설계를 시작하는 것이 좋음"
   ]
  },
  {
   "cell_type": "markdown",
   "id": "auburn-static",
   "metadata": {},
   "source": [
    "#### 수행시간 측정 코드"
   ]
  },
  {
   "cell_type": "code",
   "execution_count": 2,
   "id": "furnished-physiology",
   "metadata": {},
   "outputs": [
    {
     "name": "stdout",
     "output_type": "stream",
     "text": [
      "time :  0.0\n"
     ]
    }
   ],
   "source": [
    "import time\n",
    "start_time = time.time()\n",
    "\n",
    "end_time = time.time()\n",
    "print('time : ', end_time - start_time)"
   ]
  },
  {
   "cell_type": "markdown",
   "id": "sticky-ballot",
   "metadata": {},
   "source": [
    "## 자료형"
   ]
  },
  {
   "cell_type": "markdown",
   "id": "bigger-floating",
   "metadata": {},
   "source": [
    "#### 정수형  \n",
    "#### 실수형  \n",
    "최단 경로 알고리즘에서는 도달할 수 없는 노드에 대하여 최단 거리를 무한(INF)로 설정하기도 함"
   ]
  },
  {
   "cell_type": "markdown",
   "id": "numerous-muscle",
   "metadata": {},
   "source": [
    "* 0 생략 가능"
   ]
  },
  {
   "cell_type": "code",
   "execution_count": 3,
   "id": "breathing-newfoundland",
   "metadata": {},
   "outputs": [
    {
     "name": "stdout",
     "output_type": "stream",
     "text": [
      "0.7\n",
      "7.0\n"
     ]
    }
   ],
   "source": [
    "a = .7\n",
    "b = 7.\n",
    "print(a)\n",
    "print(b)"
   ]
  },
  {
   "cell_type": "markdown",
   "id": "northern-hometown",
   "metadata": {},
   "source": [
    "* 지수 표현 방식 사용시 -> 실수형 데이터"
   ]
  },
  {
   "cell_type": "code",
   "execution_count": 4,
   "id": "controversial-marketplace",
   "metadata": {},
   "outputs": [
    {
     "name": "stdout",
     "output_type": "stream",
     "text": [
      "113000000000.0\n"
     ]
    }
   ],
   "source": [
    "a = 113e9\n",
    "print(a)"
   ]
  },
  {
   "cell_type": "markdown",
   "id": "immune-planning",
   "metadata": {},
   "source": [
    "* 컴퓨터는 2진 체계이기 때문에 실수 계산 결과가 정확하지 않을 수 있음 → `round`함수 사용"
   ]
  },
  {
   "cell_type": "code",
   "execution_count": 5,
   "id": "interim-orientation",
   "metadata": {},
   "outputs": [
    {
     "name": "stdout",
     "output_type": "stream",
     "text": [
      "0.8999999999999999\n",
      "False\n"
     ]
    }
   ],
   "source": [
    "a = 0.3 + 0.6\n",
    "print(a)\n",
    "if a == 0.9:\n",
    "    print(True)\n",
    "else:\n",
    "    print(False)"
   ]
  },
  {
   "cell_type": "code",
   "execution_count": 7,
   "id": "compatible-chambers",
   "metadata": {},
   "outputs": [
    {
     "name": "stdout",
     "output_type": "stream",
     "text": [
      "0.9\n"
     ]
    }
   ],
   "source": [
    "print(round(a,1)) # round 사용을 통해 정확히 표현"
   ]
  },
  {
   "cell_type": "markdown",
   "id": "interim-internet",
   "metadata": {},
   "source": [
    "* 나누기 연산 `/`을 사용할 때 주의해서 사용 → 결과값이 실수형이기 때문"
   ]
  },
  {
   "cell_type": "code",
   "execution_count": 8,
   "id": "upper-christian",
   "metadata": {},
   "outputs": [
    {
     "name": "stdout",
     "output_type": "stream",
     "text": [
      "3.0\n",
      "1\n",
      "2\n"
     ]
    }
   ],
   "source": [
    "print(3 / 1) # 실수\n",
    "print(5 % 2) # 나머지\n",
    "print(5 // 2) # 몫"
   ]
  },
  {
   "cell_type": "markdown",
   "id": "meaningful-origin",
   "metadata": {},
   "source": [
    "#### 리스트 (= 배열, 테이블)"
   ]
  },
  {
   "cell_type": "markdown",
   "id": "civic-bachelor",
   "metadata": {},
   "source": [
    "* 리스트 컴프리헨션  \n",
    "리스트 초기화 방법 중 하나"
   ]
  },
  {
   "cell_type": "code",
   "execution_count": 1,
   "id": "plastic-cursor",
   "metadata": {},
   "outputs": [
    {
     "name": "stdout",
     "output_type": "stream",
     "text": [
      "[1, 3, 5, 7, 9, 11, 13, 15, 17, 19]\n",
      "[1, 3, 5, 7, 9, 11, 13, 15, 17, 19]\n"
     ]
    }
   ],
   "source": [
    "# 일반적인 코드 \n",
    "array = []\n",
    "for i in range(20):\n",
    "    if i % 2 == 1:\n",
    "        array.append(i)\n",
    "print(array)\n",
    "\n",
    "# 리스트 컴프리헨션\n",
    "array = [i for i in range(20) if i%2==1]\n",
    "print(array)"
   ]
  },
  {
   "cell_type": "code",
   "execution_count": 6,
   "id": "amateur-thesaurus",
   "metadata": {},
   "outputs": [
    {
     "name": "stdout",
     "output_type": "stream",
     "text": [
      "[[0, 0, 0, 0], [0, 0, 0, 0], [0, 0, 0, 0], [0, 0, 0, 0], [0, 0, 0, 0]]\n",
      "[[0, 0, 0, 0], [0, 5, 0, 0], [0, 0, 0, 0], [0, 0, 0, 0], [0, 0, 0, 0]]\n"
     ]
    }
   ],
   "source": [
    "# 2차원 리스트를 한번에 초기화할 때 유용\n",
    "\n",
    "m = 4; n = 5\n",
    "array = [[0]*m for _ in range(n)]\n",
    "print(array)\n",
    "array[1][1] = 5\n",
    "print(array)"
   ]
  },
  {
   "cell_type": "code",
   "execution_count": 7,
   "id": "italic-thanksgiving",
   "metadata": {},
   "outputs": [
    {
     "name": "stdout",
     "output_type": "stream",
     "text": [
      "[[0, 0, 0, 0], [0, 0, 0, 0], [0, 0, 0, 0], [0, 0, 0, 0], [0, 0, 0, 0]]\n",
      "[[0, 5, 0, 0], [0, 5, 0, 0], [0, 5, 0, 0], [0, 5, 0, 0], [0, 5, 0, 0]]\n"
     ]
    }
   ],
   "source": [
    "# 오답\n",
    "m = 4; n = 5\n",
    "array = [[0] * m] * n # 전체 리스트 안에 포함된 각 리스트가 모두 같은 객체로 인식됨\n",
    "print(array)\n",
    "array[1][1] = 5\n",
    "print(array) # 값이 모든 행에 대하여 바뀜"
   ]
  },
  {
   "cell_type": "markdown",
   "id": "centered-farming",
   "metadata": {},
   "source": [
    "* 언더바  \n",
    "반복을 수행하되 반복을 위한 변수 값을 무시하고자 할 때 언더바 `_` 를 자주 사용한다"
   ]
  },
  {
   "cell_type": "code",
   "execution_count": 8,
   "id": "different-birth",
   "metadata": {},
   "outputs": [
    {
     "name": "stdout",
     "output_type": "stream",
     "text": [
      "Hello\n",
      "Hello\n",
      "Hello\n",
      "Hello\n",
      "Hello\n"
     ]
    }
   ],
   "source": [
    "for _ in range(5):\n",
    "    print('Hello') "
   ]
  },
  {
   "cell_type": "markdown",
   "id": "geological-bobby",
   "metadata": {},
   "source": [
    "* 리스트 관련 메소드"
   ]
  },
  {
   "cell_type": "code",
   "execution_count": 10,
   "id": "peripheral-springfield",
   "metadata": {},
   "outputs": [
    {
     "name": "stdout",
     "output_type": "stream",
     "text": [
      "기본 리스트 :  [1, 4, 3]\n",
      "삽입 :  [1, 4, 3, 2]\n",
      "오름차순 정렬 :  [1, 2, 3, 4]\n",
      "내림차순 정렬 :  [4, 3, 2, 1]\n"
     ]
    }
   ],
   "source": [
    "a = [1, 4, 3]\n",
    "print('기본 리스트 : ', a)\n",
    "\n",
    "a.append(2)\n",
    "print('삽입 : ', a)\n",
    "\n",
    "a.sort()\n",
    "print('오름차순 정렬 : ', a)\n",
    "\n",
    "a.sort(reverse=True)\n",
    "print('내림차순 정렬 : ', a)"
   ]
  },
  {
   "cell_type": "code",
   "execution_count": 11,
   "id": "noted-bracelet",
   "metadata": {},
   "outputs": [
    {
     "name": "stdout",
     "output_type": "stream",
     "text": [
      "원소 뒤집기 :  [1, 2, 3, 4]\n",
      "인덱스 2에 3 추가 :  [1, 2, 3, 3, 4]\n",
      "값이 3인 데이터 개수 :  2\n",
      "값이 1인 데이터 삭제 :  [2, 3, 3, 4]\n"
     ]
    }
   ],
   "source": [
    "a.reverse()\n",
    "print('원소 뒤집기 : ', a)\n",
    "\n",
    "a.insert(2, 3)\n",
    "print('인덱스 2에 3 추가 : ', a)\n",
    "\n",
    "print('값이 3인 데이터 개수 : ', a.count(3))\n",
    "\n",
    "a.remove(1)\n",
    "print('값이 1인 데이터 삭제 : ', a)"
   ]
  },
  {
   "cell_type": "code",
   "execution_count": 12,
   "id": "furnished-herald",
   "metadata": {},
   "outputs": [
    {
     "name": "stdout",
     "output_type": "stream",
     "text": [
      "[1, 2, 4]\n"
     ]
    }
   ],
   "source": [
    "# 특정 값을 가지는 원소를 모두 제거\n",
    "\n",
    "a = [1, 2, 3, 4, 5, 5, 5]\n",
    "remove_set = {3, 5}\n",
    "\n",
    "result = [i for i in a if i not in remove_set]\n",
    "print(result)"
   ]
  },
  {
   "cell_type": "markdown",
   "id": "undefined-bloom",
   "metadata": {},
   "source": [
    "#### 문자열"
   ]
  },
  {
   "cell_type": "markdown",
   "id": "viral-blackjack",
   "metadata": {},
   "source": [
    "* 초기화 시에는 `\"`, `'` 이용  \n",
    "* 전체 문자열을 큰따옴표로 구성하는 경우, 내부적으로 작은따옴표를 포함할 수 있음  \n",
    "* 전체 문자열을 작은따옴표로 구성하는 경우, 내부적으로 큰따옴표를 포함할 수 있음  \n",
    "* 백슬래시 `\\` 를 사용하면 마음대로 큰, 작은따옴표 사용가능"
   ]
  },
  {
   "cell_type": "code",
   "execution_count": 16,
   "id": "progressive-grace",
   "metadata": {},
   "outputs": [
    {
     "name": "stdout",
     "output_type": "stream",
     "text": [
      "Don't you know \"Python\"?\n"
     ]
    }
   ],
   "source": [
    "data = \"Don't you know \\\"Python\\\"?\"\n",
    "print(data)"
   ]
  },
  {
   "cell_type": "markdown",
   "id": "frozen-authority",
   "metadata": {},
   "source": [
    "## 튜플"
   ]
  },
  {
   "cell_type": "markdown",
   "id": "metric-vietnamese",
   "metadata": {},
   "source": [
    "* 리스트와 유사하나 다음과 같은 문법적 차이가 있음  \n",
    "* 튜플은 한 번 선언된 값을 변경할 수 없다  \n",
    "* 소괄호 () 이용  \n",
    "* 튜플은 리스트에 비해 상대적으로 공간 효율적(적은 양의 메모리)"
   ]
  },
  {
   "cell_type": "code",
   "execution_count": 17,
   "id": "acceptable-shareware",
   "metadata": {},
   "outputs": [
    {
     "name": "stdout",
     "output_type": "stream",
     "text": [
      "(1, 2, 3, 4)\n"
     ]
    },
    {
     "ename": "TypeError",
     "evalue": "'tuple' object does not support item assignment",
     "output_type": "error",
     "traceback": [
      "\u001b[1;31m---------------------------------------------------------------------------\u001b[0m",
      "\u001b[1;31mTypeError\u001b[0m                                 Traceback (most recent call last)",
      "\u001b[1;32m<ipython-input-17-fa3b14a6dfc1>\u001b[0m in \u001b[0;36m<module>\u001b[1;34m()\u001b[0m\n\u001b[0;32m      2\u001b[0m \u001b[0mprint\u001b[0m\u001b[1;33m(\u001b[0m\u001b[0ma\u001b[0m\u001b[1;33m)\u001b[0m\u001b[1;33m\u001b[0m\u001b[0m\n\u001b[0;32m      3\u001b[0m \u001b[1;33m\u001b[0m\u001b[0m\n\u001b[1;32m----> 4\u001b[1;33m \u001b[0ma\u001b[0m\u001b[1;33m[\u001b[0m\u001b[1;36m2\u001b[0m\u001b[1;33m]\u001b[0m \u001b[1;33m=\u001b[0m \u001b[1;36m7\u001b[0m\u001b[1;33m\u001b[0m\u001b[0m\n\u001b[0m",
      "\u001b[1;31mTypeError\u001b[0m: 'tuple' object does not support item assignment"
     ]
    }
   ],
   "source": [
    "a = (1, 2, 3, 4)\n",
    "print(a)\n",
    "\n",
    "a[2] = 7  # 값 변경 안됨"
   ]
  },
  {
   "cell_type": "markdown",
   "id": "endangered-sacramento",
   "metadata": {},
   "source": [
    "튜플을 사용하면 좋은 경우는 다음과 같다.  \n",
    "* 서로 다른 성질의 데이터를 묶어서 관리해야 할 때  \n",
    "  * 최단 경로 알고리즘 → (비용, 노드 번호) 형태로 사용  \n",
    "* 데이터의 나열을 해싱(Hashing)의 키 값으로 사용해야 할 때  \n",
    "  * 튜플은 변경이 불가능하므로 리스트와 다르게 키 값으로 사용될 수 있음  \n",
    "* 리스트보다 메모리를 효율적으로 사용해야 할 때"
   ]
  },
  {
   "cell_type": "markdown",
   "id": "alert-protocol",
   "metadata": {},
   "source": [
    "#### 사전 자료형"
   ]
  },
  {
   "cell_type": "markdown",
   "id": "immune-application",
   "metadata": {},
   "source": [
    "* 키(key)와 값(value)의 쌍을 데이터로 가지는 자료형  \n",
    "  * 리스트와 튜플이 값을 순차적으로 저장하는 것과 다름  \n",
    "* 키와 값의 쌍을 데이터로 가지며, 원하는 **변경 불가능한 자료형**을 키로 사용  \n",
    "* 사전 자료형은 해시 테이블을 이용하므로 데이터의 조회 및 수정에 있어서 $O(1)$ 시간에 처리 가능 "
   ]
  },
  {
   "cell_type": "code",
   "execution_count": 18,
   "id": "proof-camping",
   "metadata": {},
   "outputs": [
    {
     "name": "stdout",
     "output_type": "stream",
     "text": [
      "['홍길동']\n"
     ]
    }
   ],
   "source": [
    "a = dict()\n",
    "a['홍길동'] = 97\n",
    "print(list(a.keys()))"
   ]
  },
  {
   "cell_type": "markdown",
   "id": "unsigned-reynolds",
   "metadata": {},
   "source": [
    "#### 집합 자료형  \n",
    "* 중복을 허용하지 않음  \n",
    "* 순서가 없음  \n",
    "* 리스트 혹은 문자열을 이용하여 초기화 가능  \n",
    "  * 이 때 `set()`함수 사용  \n",
    "* 혹은 중괄호 `{}` 사용해서도 초기화 가능  \n",
    "* 데이텉의 조회 및 수정에 있어서 $O(1)$ 시간에 처리 가능"
   ]
  },
  {
   "cell_type": "code",
   "execution_count": 19,
   "id": "facial-press",
   "metadata": {},
   "outputs": [
    {
     "name": "stdout",
     "output_type": "stream",
     "text": [
      "{1, 2, 3, 4, 5}\n",
      "{1, 2, 3, 4, 5}\n"
     ]
    }
   ],
   "source": [
    "data = set([1,1,2,3,4,4,5])\n",
    "print(data)\n",
    "\n",
    "data = {1, 1, 2, 3, 4, 4, 5}\n",
    "print(data)"
   ]
  },
  {
   "cell_type": "code",
   "execution_count": 20,
   "id": "frozen-integral",
   "metadata": {},
   "outputs": [
    {
     "name": "stdout",
     "output_type": "stream",
     "text": [
      "{1, 2, 3, 4}\n",
      "{1, 2, 3, 4, 5, 6}\n",
      "{1, 2, 4, 5, 6}\n"
     ]
    }
   ],
   "source": [
    "data = set([1,2,3])\n",
    "\n",
    "data.add(4)\n",
    "print(data)\n",
    "\n",
    "data.update([5,6])\n",
    "print(data)\n",
    "\n",
    "data.remove(3)\n",
    "print(data)"
   ]
  },
  {
   "cell_type": "markdown",
   "id": "front-input",
   "metadata": {},
   "source": [
    "사전 자료형과 집합 자료형은 별도의 순서가 없기 때문에 인덱싱으로 값을 얻을 수 없다.  \n",
    "사전의 키 혹은 집합의 원소를 이용해 $O(1)$의 속도로 출력됨"
   ]
  },
  {
   "cell_type": "markdown",
   "id": "protective-lawyer",
   "metadata": {},
   "source": [
    "#### 입력"
   ]
  },
  {
   "cell_type": "code",
   "execution_count": null,
   "id": "faced-record",
   "metadata": {},
   "outputs": [],
   "source": [
    "data = list(map(int, input().split()))\n",
    "\n",
    "n, m = map(int, input().split())"
   ]
  },
  {
   "cell_type": "markdown",
   "id": "afraid-walter",
   "metadata": {},
   "source": [
    "* 빠르게 입력 받기"
   ]
  },
  {
   "cell_type": "code",
   "execution_count": 21,
   "id": "seven-parks",
   "metadata": {},
   "outputs": [
    {
     "name": "stdout",
     "output_type": "stream",
     "text": [
      "\n"
     ]
    }
   ],
   "source": [
    "import sys\n",
    "\n",
    "# 문자열 입력 받기\n",
    "data = sys.stdin.readline().rstrip()\n",
    "print(data)"
   ]
  },
  {
   "cell_type": "markdown",
   "id": "architectural-brain",
   "metadata": {},
   "source": [
    "#### 출력  \n",
    "* print는 기본적으로 줄바꿈을 수행하므로 원치 않는 경우 `end`속성 이용"
   ]
  },
  {
   "cell_type": "code",
   "execution_count": 22,
   "id": "vulnerable-politics",
   "metadata": {},
   "outputs": [
    {
     "name": "stdout",
     "output_type": "stream",
     "text": [
      "1 2\n",
      "7 8 "
     ]
    }
   ],
   "source": [
    "a = 1\n",
    "b = 2\n",
    "print(a, b)\n",
    "print(7, end=' ')\n",
    "print(8, end=' ')"
   ]
  },
  {
   "cell_type": "markdown",
   "id": "hollow-penalty",
   "metadata": {},
   "source": [
    "* f-string"
   ]
  },
  {
   "cell_type": "code",
   "execution_count": 25,
   "id": "awful-knitting",
   "metadata": {},
   "outputs": [
    {
     "name": "stdout",
     "output_type": "stream",
     "text": [
      "정답은 7입니다.\n"
     ]
    }
   ],
   "source": [
    "answer=7\n",
    "print(f\"정답은 {answer}입니다.\")"
   ]
  },
  {
   "cell_type": "markdown",
   "id": "rotary-textbook",
   "metadata": {},
   "source": [
    "#### 조건문  \n",
    "* if elif else"
   ]
  },
  {
   "cell_type": "markdown",
   "id": "wanted-wonder",
   "metadata": {},
   "source": [
    "* 간소화"
   ]
  },
  {
   "cell_type": "code",
   "execution_count": 28,
   "id": "commercial-blake",
   "metadata": {},
   "outputs": [
    {
     "data": {
      "text/plain": [
       "'success'"
      ]
     },
     "execution_count": 28,
     "metadata": {},
     "output_type": "execute_result"
    }
   ],
   "source": [
    "score = 85\n",
    "\n",
    "if score >= 80 : result='success'\n",
    "else: result = 'fail'\n",
    "result"
   ]
  },
  {
   "cell_type": "code",
   "execution_count": 29,
   "id": "sweet-pixel",
   "metadata": {},
   "outputs": [
    {
     "data": {
      "text/plain": [
       "'success'"
      ]
     },
     "execution_count": 29,
     "metadata": {},
     "output_type": "execute_result"
    }
   ],
   "source": [
    "score = 85\n",
    "\n",
    "result = 'success' if score >= 80 else 'fail'\n",
    "result"
   ]
  },
  {
   "cell_type": "markdown",
   "id": "therapeutic-yahoo",
   "metadata": {},
   "source": [
    "#### 비교 연산자"
   ]
  },
  {
   "cell_type": "code",
   "execution_count": 30,
   "id": "unable-supply",
   "metadata": {},
   "outputs": [
    {
     "name": "stdout",
     "output_type": "stream",
     "text": [
      "x는 0이상 20미만의 수입니다.\n"
     ]
    }
   ],
   "source": [
    "x = 15\n",
    "if x > 0 and x < 20: # 전형적인 코드 작성법\n",
    "    print('x는 0이상 20미만의 수입니다.')"
   ]
  },
  {
   "cell_type": "code",
   "execution_count": 31,
   "id": "fifty-agriculture",
   "metadata": {},
   "outputs": [
    {
     "name": "stdout",
     "output_type": "stream",
     "text": [
      "x는 0이상 20미만의 수입니다.\n"
     ]
    }
   ],
   "source": [
    "x = 15\n",
    "if 0 < x < 20: # 일반 부등식 처럼 가능\n",
    "    print('x는 0이상 20미만의 수입니다.')"
   ]
  },
  {
   "cell_type": "markdown",
   "id": "smart-decision",
   "metadata": {},
   "source": [
    "#### 기타 연산자  \n",
    "* 다수의 데이터를 담는 자료형을 위해 `in` `not in`  \n",
    "* 아무것도 처리하고 싶지 않을 때 `pass`"
   ]
  },
  {
   "cell_type": "code",
   "execution_count": 26,
   "id": "institutional-petite",
   "metadata": {},
   "outputs": [],
   "source": [
    "score = 85\n",
    "\n",
    "if score >= 80:\n",
    "    pass\n",
    "else:\n",
    "    print('성적이 80점 미만입니다.')"
   ]
  },
  {
   "cell_type": "markdown",
   "id": "about-measurement",
   "metadata": {},
   "source": [
    "#### 반복문  \n",
    "* `while` `for`  \n",
    "* for문이 더 간결한 경우가 많음"
   ]
  },
  {
   "cell_type": "markdown",
   "id": "recorded-status",
   "metadata": {},
   "source": [
    "* 무한루프  \n",
    "  * 코딩 테스트에서 무한 루프를 구현할 일은 거의 없긴 함"
   ]
  },
  {
   "cell_type": "code",
   "execution_count": null,
   "id": "cooked-rendering",
   "metadata": {},
   "outputs": [],
   "source": [
    "x = 10\n",
    "\n",
    "while x>5:\n",
    "    print(x)"
   ]
  },
  {
   "cell_type": "markdown",
   "id": "adequate-activation",
   "metadata": {},
   "source": [
    "* continue  \n",
    "반복문에서 남은 코드의 실행을 건너뛰고, 다음 반복을 진행하고자 할 때 사용  "
   ]
  },
  {
   "cell_type": "code",
   "execution_count": 32,
   "id": "retired-animal",
   "metadata": {},
   "outputs": [
    {
     "name": "stdout",
     "output_type": "stream",
     "text": [
      "25\n"
     ]
    }
   ],
   "source": [
    "result = 0\n",
    "for i in range(1, 10):\n",
    "    if i % 2 == 0:\n",
    "        continue\n",
    "    result += i\n",
    "    \n",
    "print(result)"
   ]
  },
  {
   "cell_type": "markdown",
   "id": "presidential-siemens",
   "metadata": {},
   "source": [
    "* break  \n",
    "반복문을 즉시 탈출하고자 할 때"
   ]
  },
  {
   "cell_type": "code",
   "execution_count": 33,
   "id": "constant-springer",
   "metadata": {},
   "outputs": [
    {
     "name": "stdout",
     "output_type": "stream",
     "text": [
      "현재 i 값 :  1\n",
      "현재 i 값 :  2\n",
      "현재 i 값 :  3\n",
      "현재 i 값 :  4\n",
      "현재 i 값 :  5\n"
     ]
    }
   ],
   "source": [
    "i = 1\n",
    "\n",
    "while True : # 무조건 반복문이 실행되게 만듦\n",
    "    print('현재 i 값 : ', i)\n",
    "    if i == 5:\n",
    "        break\n",
    "    i += 1"
   ]
  },
  {
   "cell_type": "markdown",
   "id": "collective-arrival",
   "metadata": {},
   "source": [
    "* 중첩된 반복문"
   ]
  },
  {
   "cell_type": "code",
   "execution_count": 34,
   "id": "micro-decade",
   "metadata": {},
   "outputs": [
    {
     "name": "stdout",
     "output_type": "stream",
     "text": [
      "2 X 1 = 2\n",
      "2 X 2 = 4\n",
      "2 X 3 = 6\n",
      "2 X 4 = 8\n",
      "2 X 5 = 10\n",
      "2 X 6 = 12\n",
      "2 X 7 = 14\n",
      "2 X 8 = 16\n",
      "2 X 9 = 18\n",
      "\n",
      "3 X 1 = 3\n",
      "3 X 2 = 6\n",
      "3 X 3 = 9\n",
      "3 X 4 = 12\n",
      "3 X 5 = 15\n",
      "3 X 6 = 18\n",
      "3 X 7 = 21\n",
      "3 X 8 = 24\n",
      "3 X 9 = 27\n",
      "\n",
      "4 X 1 = 4\n",
      "4 X 2 = 8\n",
      "4 X 3 = 12\n",
      "4 X 4 = 16\n",
      "4 X 5 = 20\n",
      "4 X 6 = 24\n",
      "4 X 7 = 28\n",
      "4 X 8 = 32\n",
      "4 X 9 = 36\n",
      "\n",
      "5 X 1 = 5\n",
      "5 X 2 = 10\n",
      "5 X 3 = 15\n",
      "5 X 4 = 20\n",
      "5 X 5 = 25\n",
      "5 X 6 = 30\n",
      "5 X 7 = 35\n",
      "5 X 8 = 40\n",
      "5 X 9 = 45\n",
      "\n",
      "6 X 1 = 6\n",
      "6 X 2 = 12\n",
      "6 X 3 = 18\n",
      "6 X 4 = 24\n",
      "6 X 5 = 30\n",
      "6 X 6 = 36\n",
      "6 X 7 = 42\n",
      "6 X 8 = 48\n",
      "6 X 9 = 54\n",
      "\n",
      "7 X 1 = 7\n",
      "7 X 2 = 14\n",
      "7 X 3 = 21\n",
      "7 X 4 = 28\n",
      "7 X 5 = 35\n",
      "7 X 6 = 42\n",
      "7 X 7 = 49\n",
      "7 X 8 = 56\n",
      "7 X 9 = 63\n",
      "\n",
      "8 X 1 = 8\n",
      "8 X 2 = 16\n",
      "8 X 3 = 24\n",
      "8 X 4 = 32\n",
      "8 X 5 = 40\n",
      "8 X 6 = 48\n",
      "8 X 7 = 56\n",
      "8 X 8 = 64\n",
      "8 X 9 = 72\n",
      "\n",
      "9 X 1 = 9\n",
      "9 X 2 = 18\n",
      "9 X 3 = 27\n",
      "9 X 4 = 36\n",
      "9 X 5 = 45\n",
      "9 X 6 = 54\n",
      "9 X 7 = 63\n",
      "9 X 8 = 72\n",
      "9 X 9 = 81\n",
      "\n"
     ]
    }
   ],
   "source": [
    "for i in range(2, 10):\n",
    "    for j in range(1, 10):\n",
    "        print(i, 'X', j, '=', i*j)\n",
    "    print()"
   ]
  },
  {
   "cell_type": "markdown",
   "id": "automated-sugar",
   "metadata": {},
   "source": [
    "#### 함수"
   ]
  },
  {
   "cell_type": "markdown",
   "id": "ahead-economy",
   "metadata": {},
   "source": [
    "* `global`  \n",
    "global 키워드로 변수를 지정하면 해당 함수에서는 지역 변수를 만들지 않고, 함수 바깥에 선언된 변수를 바로 참조하게 됩니다."
   ]
  },
  {
   "cell_type": "code",
   "execution_count": 36,
   "id": "controversial-trauma",
   "metadata": {},
   "outputs": [
    {
     "name": "stdout",
     "output_type": "stream",
     "text": [
      "10\n"
     ]
    }
   ],
   "source": [
    "a = 0\n",
    "def func():\n",
    "    global a\n",
    "    a += 1\n",
    "    \n",
    "for i in range(10):\n",
    "    func()\n",
    "    \n",
    "print(a)"
   ]
  },
  {
   "cell_type": "markdown",
   "id": "broad-plastic",
   "metadata": {},
   "source": [
    "* 람다 표현식"
   ]
  },
  {
   "cell_type": "code",
   "execution_count": 38,
   "id": "sized-demonstration",
   "metadata": {},
   "outputs": [
    {
     "name": "stdout",
     "output_type": "stream",
     "text": [
      "[('이순신', 32), ('홍길동', 50)]\n",
      "[('이순신', 32), ('홍길동', 50)]\n"
     ]
    }
   ],
   "source": [
    "#내장 함수에서 사용\n",
    "array = [('홍길동', 50), ('이순신', 32)]\n",
    "\n",
    "def my_key(x):\n",
    "    return x[1]\n",
    "\n",
    "print(sorted(array, key=my_key))\n",
    "print(sorted(array, key=lambda x : x[1]))"
   ]
  },
  {
   "cell_type": "code",
   "execution_count": 40,
   "id": "southeast-difference",
   "metadata": {},
   "outputs": [
    {
     "name": "stdout",
     "output_type": "stream",
     "text": [
      "[7, 9, 11, 13, 15]\n"
     ]
    }
   ],
   "source": [
    "# 여러개의 리스트에 적용\n",
    "list1 = [1,2,3,4,5]\n",
    "list2 = [6,7,8,9,10]\n",
    "\n",
    "result = map(lambda a, b : a+b, list1, list2)\n",
    "print(list(result))"
   ]
  },
  {
   "cell_type": "markdown",
   "id": "defined-guinea",
   "metadata": {},
   "source": [
    "#### 실전에서 유용한 표준 라이브러리"
   ]
  },
  {
   "cell_type": "markdown",
   "id": "overall-breath",
   "metadata": {},
   "source": [
    "* itertools : 순열, 조합  \n",
    "* heapq : 힙(Heap) 자료구조 제공  \n",
    "  * 일반적으로 우선순위 큐 기능을 구현하기 위해 사용됨  \n",
    "* bisect : 이진탐색 기능 제공  \n",
    "* collections : 덱(deque), 카운터(Counter) 등의 자료구조 제공  \n",
    "* math : 수학적 기능 제공 / 팩토리얼, 제곱근, 최대공약수(GCD), 삼각함수, 파이(pi) 등"
   ]
  },
  {
   "cell_type": "markdown",
   "id": "proper-share",
   "metadata": {},
   "source": [
    "내장함수"
   ]
  },
  {
   "cell_type": "code",
   "execution_count": 41,
   "id": "minute-pursuit",
   "metadata": {},
   "outputs": [
    {
     "name": "stdout",
     "output_type": "stream",
     "text": [
      "56\n"
     ]
    }
   ],
   "source": [
    "# 내장함수\n",
    "\n",
    "result = eval('(3+5)*7')\n",
    "print(result)"
   ]
  },
  {
   "cell_type": "markdown",
   "id": "preliminary-rochester",
   "metadata": {},
   "source": [
    "itertools"
   ]
  },
  {
   "cell_type": "code",
   "execution_count": 42,
   "id": "controlled-height",
   "metadata": {},
   "outputs": [
    {
     "name": "stdout",
     "output_type": "stream",
     "text": [
      "[('a', 'b', 'c'), ('a', 'c', 'b'), ('b', 'a', 'c'), ('b', 'c', 'a'), ('c', 'a', 'b'), ('c', 'b', 'a')]\n"
     ]
    }
   ],
   "source": [
    "# 순열\n",
    "from itertools import permutations\n",
    "\n",
    "data = ['a', 'b', 'c']\n",
    "result = list(permutations(data,3))\n",
    "print(result)"
   ]
  },
  {
   "cell_type": "code",
   "execution_count": 44,
   "id": "responsible-organization",
   "metadata": {},
   "outputs": [
    {
     "name": "stdout",
     "output_type": "stream",
     "text": [
      "[('a', 'b', 'c')]\n"
     ]
    }
   ],
   "source": [
    "# 조합\n",
    "from itertools import combinations\n",
    "\n",
    "data = ['a', 'b', 'c']\n",
    "result = list(combinations(data,3))\n",
    "print(result)"
   ]
  },
  {
   "cell_type": "code",
   "execution_count": 45,
   "id": "documentary-appearance",
   "metadata": {},
   "outputs": [
    {
     "name": "stdout",
     "output_type": "stream",
     "text": [
      "[('a', 'a'), ('a', 'b'), ('a', 'c'), ('b', 'a'), ('b', 'b'), ('b', 'c'), ('c', 'a'), ('c', 'b'), ('c', 'c')]\n"
     ]
    }
   ],
   "source": [
    "# 중복 순열\n",
    "from itertools import product\n",
    "\n",
    "data = ['a', 'b', 'c']\n",
    "result = list(product(data, repeat=2)) # 2개를 뽑는 모둔 순열 구하기 (중복 허용)\n",
    "print(result)"
   ]
  },
  {
   "cell_type": "code",
   "execution_count": 46,
   "id": "injured-wrong",
   "metadata": {},
   "outputs": [
    {
     "name": "stdout",
     "output_type": "stream",
     "text": [
      "[('a', 'a'), ('a', 'b'), ('a', 'c'), ('b', 'b'), ('b', 'c'), ('c', 'c')]\n"
     ]
    }
   ],
   "source": [
    "# 중복 조합\n",
    "from itertools import combinations_with_replacement\n",
    "\n",
    "data = ['a', 'b', 'c']\n",
    "result = list(combinations_with_replacement(data, 2)) # 2개를 뽑는 모둔 조합 구하기 (중복 허용)\n",
    "print(result)"
   ]
  },
  {
   "cell_type": "markdown",
   "id": "fallen-vinyl",
   "metadata": {},
   "source": [
    "counter"
   ]
  },
  {
   "cell_type": "code",
   "execution_count": 1,
   "id": "indoor-banner",
   "metadata": {},
   "outputs": [
    {
     "name": "stdout",
     "output_type": "stream",
     "text": [
      "3\n",
      "{'red': 2, 'blue': 3, 'green': 1}\n"
     ]
    }
   ],
   "source": [
    "# 내부 원소가 몇번씩 등장했는지\n",
    "\n",
    "from collections import Counter\n",
    "counter = Counter(['red', 'blue', 'red', 'green', 'blue', 'blue'])\n",
    "print(counter['blue']) #'blue'가 등장한 횟수 출력\n",
    "print(dict(counter)) # 사전 자료형으로 반환"
   ]
  },
  {
   "cell_type": "markdown",
   "id": "cathedral-remedy",
   "metadata": {},
   "source": [
    "최대공약수 최소공배수"
   ]
  },
  {
   "cell_type": "code",
   "execution_count": 47,
   "id": "latest-adobe",
   "metadata": {},
   "outputs": [
    {
     "name": "stdout",
     "output_type": "stream",
     "text": [
      "7\n"
     ]
    }
   ],
   "source": [
    "import math\n",
    "\n",
    "print(math.gcd(21, 14))"
   ]
  }
 ],
 "metadata": {
  "kernelspec": {
   "display_name": "Python 3",
   "language": "python",
   "name": "python3"
  },
  "language_info": {
   "codemirror_mode": {
    "name": "ipython",
    "version": 3
   },
   "file_extension": ".py",
   "mimetype": "text/x-python",
   "name": "python",
   "nbconvert_exporter": "python",
   "pygments_lexer": "ipython3",
   "version": "3.6.5"
  }
 },
 "nbformat": 4,
 "nbformat_minor": 5
}
