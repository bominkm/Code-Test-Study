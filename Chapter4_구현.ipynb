{
  "nbformat": 4,
  "nbformat_minor": 0,
  "metadata": {
    "colab": {
      "name": "Chapter4 구현.ipynb",
      "provenance": []
    },
    "kernelspec": {
      "name": "python3",
      "display_name": "Python 3"
    },
    "language_info": {
      "name": "python"
    }
  },
  "cells": [
    {
      "cell_type": "markdown",
      "metadata": {
        "id": "CZPxQCQN2ZoM"
      },
      "source": [
        "## 4. 구현"
      ]
    },
    {
      "cell_type": "markdown",
      "metadata": {
        "id": "8CuKCGBO2R0W"
      },
      "source": [
        "- 완전 탐색: 모든 경우의 수를 주저없이 다 계산하는 해결 방법\n",
        "- 시뮬레이션: 문제에서 제시한 알고리즘을 한 단계씩 차례대로 직접 수행"
      ]
    },
    {
      "cell_type": "markdown",
      "metadata": {
        "id": "izvGDeMCrwLI"
      },
      "source": [
        "#### 예제 4-1 상하좌우 (시뮬레이션)\n",
        "- input \n",
        "  - 5\n",
        "  - R R R U D D\n",
        "- output\n",
        "  - 3 4"
      ]
    },
    {
      "cell_type": "markdown",
      "metadata": {
        "id": "ZvykknUOy0oU"
      },
      "source": [
        "주의\n",
        "- if절 위치\n",
        "- nx, ny로 일단 받고 나중에 최종 x, y로 결정 \n",
        "- 시뮬레이션에 대한 내용 정리 → 시뮬레이션, 오류 제거 "
      ]
    },
    {
      "cell_type": "code",
      "metadata": {
        "colab": {
          "base_uri": "https://localhost:8080/"
        },
        "id": "Scux-_KU0deu",
        "outputId": "da237446-8832-43a4-ea51-a0be421d7c66"
      },
      "source": [
        "n = 5 # n = int(input())\n",
        "plans = ['R', 'R', 'R', 'U', 'D', 'D'] # plans = input().split()\n",
        "\n",
        "# 현재 위치\n",
        "x, y = 1, 1\n",
        "\n",
        "# L, R, U, D에 따른 이동 방향\n",
        "dx = [0, 0, -1, 1]\n",
        "dy = [-1, 1, 0, 0]\n",
        "move_types = ['L', 'R', 'U', 'D']\n",
        "\n",
        "# 이동 계획을 하나씩 확인\n",
        "for plan in plans:\n",
        "  for i in range(len(move_types)):\n",
        "    if plan == move_types[i]:\n",
        "      nx = x+dx[i]\n",
        "      ny = y+dy[i]\n",
        "    # 공간을 벗어날 경우\n",
        "  if nx<1 or nx>n or ny<1 or ny>n: # if 위치 잘 생각하기 \n",
        "    continue\n",
        "  x, y = nx, ny\n",
        "\n",
        "print(x, y)"
      ],
      "execution_count": 7,
      "outputs": [
        {
          "output_type": "stream",
          "text": [
            "3 4\n"
          ],
          "name": "stdout"
        }
      ]
    },
    {
      "cell_type": "markdown",
      "metadata": {
        "id": "6FquuJw8zFg_"
      },
      "source": [
        "#### ex 4-2 시각 (완전탐색)\n",
        "00시 00분 00초부터 N시 59분 59초까지 모든 시각 중에서 3이 하나라도 포함되는 모든 경우의 수 출력\n",
        "\n",
        "- input\n",
        "  - 5\n",
        "- output \n",
        "  - 11475\n"
      ]
    },
    {
      "cell_type": "code",
      "metadata": {
        "colab": {
          "base_uri": "https://localhost:8080/"
        },
        "id": "IszBX-lCst6k",
        "outputId": "b38bb0ac-a99a-413b-de10-70ca5efd5cb1"
      },
      "source": [
        "num = 5 # num = int(input())\n",
        "\n",
        "count = 0\n",
        "\n",
        "for i in range(60):\n",
        "  for j in range(60):\n",
        "    for k in range(n+1):\n",
        "      if '3' in str(i)+str(j)+str(k):\n",
        "        count+=1\n",
        "\n",
        "print(count)"
      ],
      "execution_count": 10,
      "outputs": [
        {
          "output_type": "stream",
          "text": [
            "11475\n"
          ],
          "name": "stdout"
        }
      ]
    },
    {
      "cell_type": "markdown",
      "metadata": {
        "id": "YV7nwS0_XALz"
      },
      "source": [
        "#### 왕실의 나이트\n",
        "- input\n",
        "  - a1\n",
        "- output\n",
        "  - 2"
      ]
    },
    {
      "cell_type": "code",
      "metadata": {
        "colab": {
          "base_uri": "https://localhost:8080/"
        },
        "id": "sjvzsxBNs1P3",
        "outputId": "6c9eb496-9762-41ea-baef-cfab736e2520"
      },
      "source": [
        "# 현재 위치\n",
        "x, y = ord('a1'[0])-96, int('a1'[1])\n",
        "\n",
        "n, m = 8, 8\n",
        "count = 0\n",
        "moves = [(2, 1), (2, -1), (-2, 1), (-2, -1), (1, 2), (1, -2), (-1, 2), (-1, -2)]\n",
        "\n",
        "for move in moves:\n",
        "  x_n = x + move[0]\n",
        "  y_n = y + move[1]\n",
        "\n",
        "  if x_n < 1 or x_n > 8  or y_n < 1 or y_n > 8:\n",
        "    continue\n",
        "  \n",
        "  count += 1\n",
        "\n",
        "print(count)"
      ],
      "execution_count": 7,
      "outputs": [
        {
          "output_type": "stream",
          "text": [
            "2\n"
          ],
          "name": "stdout"
        }
      ]
    },
    {
      "cell_type": "markdown",
      "metadata": {
        "id": "HowjdJPcqhA6"
      },
      "source": [
        "#### 게임 개발 (다시 풀기)\n"
      ]
    },
    {
      "cell_type": "code",
      "metadata": {
        "colab": {
          "base_uri": "https://localhost:8080/"
        },
        "id": "W-V1yVhXpkVY",
        "outputId": "9d501f6e-97fc-4229-fafc-d762da87fd18"
      },
      "source": [
        "n, m = 4, 4, # map(int, input().split())\n",
        "\n",
        "# 방문할 위치를 저장하기 위한 맵을 생성하여 0으로 초기화\n",
        "d = [[0] * m for _ in range(n)]\n",
        "\n",
        "# 현재 캐릭터 위치, 방향\n",
        "x, y, direction = 1, 1, 0 # map(int, input(),split())\n",
        "d[x][y] = 1 # 현재 좌표 방문 처리\n",
        "\n",
        "# 전체 맵 정보 입력 받기\n",
        "array = []\n",
        "for i in range(n):\n",
        "  array.append(list(map(int, input().split())))\n",
        "\n",
        "# 북, 동, 남, 서 방향 정의\n",
        "dx = [-1, 0, 1, 0]\n",
        "dy = [0, 1, 0, -1]\n",
        "\n",
        "# 왼쪽으로 회전\n",
        "def turn_left():\n",
        "  global direction\n",
        "  direction -= 1\n",
        "  if direction == -1:\n",
        "    direction = 3\n",
        "\n",
        "# 시뮬레이션 시작\n",
        "count = 1\n",
        "turn_time = 0\n",
        "while True:\n",
        "  turn_left()\n",
        "  nx = x + dx[direction]\n",
        "  ny = x + dy[direction]\n",
        "  # 회전한 이후 정면에 가보지 않은 칸이 존재하는 경우 이동\n",
        "  if d[nx][ny] == 0 and array[nx][ny] == 0:\n",
        "    d[nx][ny] = 1\n",
        "    x = nx\n",
        "    x = ny\n",
        "    count += 1\n",
        "    turn_time = 0\n",
        "    continue\n",
        "  # 회전한 이후 정면에 가보지 않은 칸이 없거나 바다인 경우\n",
        "  else:\n",
        "    turn_time += 1\n",
        "  # 네 방향 모두 갈 수 없는 경우\n",
        "  if turn_time == 4:\n",
        "    nx = x - dx[direction]\n",
        "    ny = y - dy[direction]\n",
        "    # 뒤로 갈 수 있다면 이동하기\n",
        "    if array[nx][ny] == 0:\n",
        "      x = nx\n",
        "      y = ny\n",
        "    # 뒤가 바다로 막혀 있는 경우\n",
        "    else:\n",
        "      break\n",
        "    turn_time = 0\n",
        "\n",
        "print(count)"
      ],
      "execution_count": 11,
      "outputs": [
        {
          "output_type": "stream",
          "text": [
            "1 1 1 1\n",
            "1 0 0 1\n",
            "1 1 0 1\n",
            "1 1 1 1\n",
            "2\n"
          ],
          "name": "stdout"
        }
      ]
    },
    {
      "cell_type": "code",
      "metadata": {
        "id": "RLNLwqD3tpB2"
      },
      "source": [
        ""
      ],
      "execution_count": null,
      "outputs": []
    }
  ]
}