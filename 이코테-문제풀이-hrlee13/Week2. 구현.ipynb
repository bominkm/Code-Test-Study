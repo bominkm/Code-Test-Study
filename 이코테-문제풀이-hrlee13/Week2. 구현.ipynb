{
 "cells": [
  {
   "cell_type": "markdown",
   "metadata": {
    "id": "BP6MOfMCdcm_"
   },
   "source": [
    "# Week2. 구현"
   ]
  },
  {
   "cell_type": "markdown",
   "metadata": {},
   "source": [
    "## 구현  \n",
    "* 머릿속에 있는 알고리즘을 소스코드로 바꾸는 과정\n",
    "* 구현 : 완전탐색 + 시뮬레이션  \n",
    "  * 완전탐색 : 모든 경우의 수를 주저없이 다 계산하는 해결 방법  \n",
    "  * 시뮬레이션 : 문제에서 제시한 알고리즘을 한 단계씩 차례대로 직접 수행해야 하는 문제 유형\n",
    "* 예시  \n",
    "  * 알고리즘은 간단한데 코드가 지나칠 만큼 길어지는 문제  \n",
    "  * 실수 연산을 다루고, 특정 소수점 자리까지 출력해야 하는 문제  \n",
    "  * 문자열을 특정한 기준에 따라서 끊어 처리해야 하는 문제  \n",
    "  * 적절한 라이브러리를 찾아서 사용해야 하는 문제  "
   ]
  },
  {
   "cell_type": "markdown",
   "metadata": {},
   "source": [
    "* 일반적으로 알고리즘 문제에서의 2차원 공간은 **행렬**의 의미로 사용됨  \n",
    "* 시뮬레이션 및 완전 탐색 문제에서는 2차원 공간에서의 **방향 벡터**가 자주 활용됨  "
   ]
  },
  {
   "cell_type": "markdown",
   "metadata": {
    "id": "X0_WUxQg-EHG"
   },
   "source": [
    "### 예제1. 상하좌우"
   ]
  },
  {
   "cell_type": "markdown",
   "metadata": {
    "id": "p7fBD-gpahMJ"
   },
   "source": [
    "틀렸으니 외우자"
   ]
  },
  {
   "cell_type": "code",
   "execution_count": null,
   "metadata": {
    "colab": {
     "base_uri": "https://localhost:8080/"
    },
    "executionInfo": {
     "elapsed": 9685,
     "status": "ok",
     "timestamp": 1616203236093,
     "user": {
      "displayName": "‎이혜린(자연과학대학 통계학과)",
      "photoUrl": "",
      "userId": "17465505332261896018"
     },
     "user_tz": -540
    },
    "id": "wNgfe-69-nAR",
    "outputId": "7debb641-90bb-4e7d-93b0-95e65e09ebb4",
    "scrolled": true
   },
   "outputs": [
    {
     "name": "stdout",
     "output_type": "stream",
     "text": [
      "5\n",
      "R R R U D D\n",
      "3 4\n"
     ]
    }
   ],
   "source": [
    "n = int(input())\n",
    "x, y = 1, 1\n",
    "plans = input().split()\n",
    "\n",
    "# L, R, U, D 에 따른 이동방향 (point!!!)\n",
    "dx = [0, 0, -1, 1]\n",
    "dy = [-1, 1, 0, 0]\n",
    "move_types = ['L', 'R', 'U', 'D']\n",
    "\n",
    "# 이동 계획을 하나씩 확인\n",
    "for plan in plans:\n",
    "  # 이동 후 좌표 구하기\n",
    "  for i in range(len(move_types)):\n",
    "    if plan == move_types[i]:\n",
    "      nx = x + dx[i]\n",
    "      ny = y + dy[i]\n",
    "  # 공간을 벗어나는 경우 무시\n",
    "  if nx < 1 or ny < 1 or nx > n or ny > n:\n",
    "    continue\n",
    "  # 이동 수행\n",
    "  x, y = nx, ny\n",
    "  \n",
    "print(x, y)"
   ]
  },
  {
   "cell_type": "markdown",
   "metadata": {
    "id": "ZPrFOm1CtGSR"
   },
   "source": [
    "### 예제2. 시각  \n",
    "완전 탐색이라는 게 뭔지 새삼 와닿았던 문제"
   ]
  },
  {
   "cell_type": "code",
   "execution_count": null,
   "metadata": {
    "colab": {
     "base_uri": "https://localhost:8080/"
    },
    "executionInfo": {
     "elapsed": 3578,
     "status": "ok",
     "timestamp": 1616211160514,
     "user": {
      "displayName": "‎이혜린(자연과학대학 통계학과)",
      "photoUrl": "",
      "userId": "17465505332261896018"
     },
     "user_tz": -540
    },
    "id": "KEB75mf7pXgL",
    "outputId": "78dab3da-10c6-4720-e036-2a0ffdf918e2"
   },
   "outputs": [
    {
     "name": "stdout",
     "output_type": "stream",
     "text": [
      "5\n",
      "11475\n"
     ]
    }
   ],
   "source": [
    "#### Example answerN = int(input())\n",
    "str_1 = list(map(str, range(6)))\n",
    "str_2 = list(map(str, range(10)))\n",
    "res = 0\n",
    "\n",
    "for n in range(N+1):\n",
    "    count = 0\n",
    "    for i in str_1:\n",
    "        for j in str_2:\n",
    "            for k in str_1:\n",
    "                for l in str_2:\n",
    "                    time = i + j + k + l # 지금보니 굳이 십의자리 숫자, 일의자리 숫자로 나눠서 풀었네,,, 어차피 합치면 다 같은 형식의 문자열인데!\n",
    "                    if '3' in time:\n",
    "                        count += 1 \n",
    "    if '3' in str(n):\n",
    "        res += len(str_1) * len(str_2) * len(str_1) * len(str_2) # '시'에 3이 포함되는 경우 모든 분과 초의 조합마다 카운트 해야하므로...\n",
    "    else:\n",
    "        res += count\n",
    "\n",
    "print(res)"
   ]
  },
  {
   "cell_type": "markdown",
   "metadata": {
    "id": "pf-ldgpZshxs"
   },
   "source": [
    "#### Example answer"
   ]
  },
  {
   "cell_type": "code",
   "execution_count": null,
   "metadata": {
    "colab": {
     "base_uri": "https://localhost:8080/"
    },
    "executionInfo": {
     "elapsed": 2418,
     "status": "ok",
     "timestamp": 1616211370542,
     "user": {
      "displayName": "‎이혜린(자연과학대학 통계학과)",
      "photoUrl": "",
      "userId": "17465505332261896018"
     },
     "user_tz": -540
    },
    "id": "MnoTG0l_sxwe",
    "outputId": "71195260-09ef-4d59-c5dc-2b9cd50ea2bc"
   },
   "outputs": [
    {
     "name": "stdout",
     "output_type": "stream",
     "text": [
      "5\n",
      "11475\n"
     ]
    }
   ],
   "source": [
    "h = int(input())\n",
    "\n",
    "count = 0\n",
    "\n",
    "for i in range(h+1):\n",
    "    for j in range(60):\n",
    "        for k in range(60):\n",
    "            # 매 시각 안에 '3'이 포함되어 있다면 카운트 증가\n",
    "            if '3' in str(i) + str(j) + str(k):\n",
    "                count += 1\n",
    "\n",
    "print(count)"
   ]
  },
  {
   "cell_type": "markdown",
   "metadata": {
    "id": "2EjSecL7OEoX"
   },
   "source": [
    "### Problem1. 왕실의 나이트"
   ]
  },
  {
   "cell_type": "markdown",
   "metadata": {
    "id": "Yv_yccAF2JEb"
   },
   "source": [
    "#### My Code"
   ]
  },
  {
   "cell_type": "code",
   "execution_count": null,
   "metadata": {
    "colab": {
     "base_uri": "https://localhost:8080/"
    },
    "executionInfo": {
     "elapsed": 2713,
     "status": "ok",
     "timestamp": 1616213389984,
     "user": {
      "displayName": "‎이혜린(자연과학대학 통계학과)",
      "photoUrl": "",
      "userId": "17465505332261896018"
     },
     "user_tz": -540
    },
    "id": "CgoNXGP3w_AS",
    "outputId": "b43d352e-458e-44c7-91d8-de8a53aa6381"
   },
   "outputs": [
    {
     "name": "stdout",
     "output_type": "stream",
     "text": [
      "a1\n",
      "2\n"
     ]
    }
   ],
   "source": [
    "pos = input()\n",
    "row = ['a', 'b', 'c', 'd', 'e', 'f', 'g', 'h']\n",
    "\n",
    "x, y = row.index(pos[0])+1, int(pos[1])\n",
    "count = 0\n",
    "\n",
    "dx = [-2, -2, 2, 2, -1, 1, -1, 1] # 좌표 위에서 움직여야 하는 문제의 경우 움직일 수 있는 case를 dx, dy로 표현하기\n",
    "dy = [-1, 1, -1, 1, -2, -2, 2, 2]\n",
    "\n",
    "for i in range(8):\n",
    "    nx = x + dx[i]\n",
    "    ny = y + dy[i]\n",
    "    count += 1\n",
    "\n",
    "    if nx < 1 or ny < 1 or nx > 8 or ny > 8:\n",
    "        count -= 1\n",
    "\n",
    "print(count)"
   ]
  },
  {
   "cell_type": "markdown",
   "metadata": {
    "id": "mgBksdA_2ful"
   },
   "source": [
    "#### Example Answer"
   ]
  },
  {
   "cell_type": "code",
   "execution_count": null,
   "metadata": {
    "colab": {
     "base_uri": "https://localhost:8080/"
    },
    "executionInfo": {
     "elapsed": 4101,
     "status": "ok",
     "timestamp": 1616214094637,
     "user": {
      "displayName": "‎이혜린(자연과학대학 통계학과)",
      "photoUrl": "",
      "userId": "17465505332261896018"
     },
     "user_tz": -540
    },
    "id": "-0OSf-ut2k5f",
    "outputId": "8a7e0d33-6d9c-4874-f7d9-97786570eb8f"
   },
   "outputs": [
    {
     "name": "stdout",
     "output_type": "stream",
     "text": [
      "a3\n",
      "4\n"
     ]
    }
   ],
   "source": [
    "input_data = input()\n",
    "row = int(input_data[1])\n",
    "column = int(ord(input_data[0])) - int(ord('a')) + 1 # 여기가 다르네 ...\n",
    "\n",
    "steps = [(-2, -1), (-1, -2), (1, -2), (2, -1), (2, 1), (1, 2), (-1, 2), (-2, 1)]\n",
    "\n",
    "result = 0\n",
    "for step in steps:\n",
    "    next_row = row + step[0]\n",
    "    next_column = column + step[1]\n",
    "\n",
    "    if next_row >= 1 and next_row <= 8 and next_column >= 1 and next_column <= 8:\n",
    "        result += 1\n",
    "\n",
    "print(result)"
   ]
  },
  {
   "cell_type": "markdown",
   "metadata": {
    "id": "Q3g6tjbM3pjT"
   },
   "source": [
    "### Problem2. 게임 개발"
   ]
  },
  {
   "cell_type": "markdown",
   "metadata": {
    "id": "Q3g6tjbM3pjT"
   },
   "source": [
    "전형적인 시뮬레이션 문제라고 한다 사용되는 기술이 어려운 것은 아니나 긴 문제를 읽고 이해하는 것이 중요한 문제...   \n",
    "근데 틀림 ㅠ  \n",
    "삼성에서도 자주 나오는 문제라고 하니 꼭꼭 외우기..."
   ]
  },
  {
   "cell_type": "code",
   "execution_count": null,
   "metadata": {
    "colab": {
     "base_uri": "https://localhost:8080/"
    },
    "executionInfo": {
     "elapsed": 20405,
     "status": "ok",
     "timestamp": 1616222904275,
     "user": {
      "displayName": "‎이혜린(자연과학대학 통계학과)",
      "photoUrl": "",
      "userId": "17465505332261896018"
     },
     "user_tz": -540
    },
    "id": "nT7jzPhZM9AN",
    "outputId": "88478ebd-a932-4461-fe44-e928e8679076"
   },
   "outputs": [
    {
     "name": "stdout",
     "output_type": "stream",
     "text": [
      "4 4\n",
      "1 1 0\n",
      "1 1 1 1\n",
      "1 0 0 1\n",
      "1 1 0 1\n",
      "1 1 1 1\n",
      "3\n"
     ]
    }
   ],
   "source": [
    "n, m = map(int, input().split())\n",
    "\n",
    "d = [[0] * m for _ in range(n)]\n",
    "x, y, direction = map(int, input().split())\n",
    "d[x][y] = 1 # 현재 좌표 방문 처리\n",
    "\n",
    "# 전체 맵 정보를 입력받기\n",
    "array = []\n",
    "for i in range(n):\n",
    "    array.append(list(map(int, input().split())))\n",
    "\n",
    "# direction\n",
    "dx = [-1, 0, 1, 0]\n",
    "dy = [0, 1, 0, -1]\n",
    "\n",
    "# 왼쪽으로 회전\n",
    "def turn_left():\n",
    "    global direction\n",
    "    direction -= 1\n",
    "    if direction == -1 :\n",
    "        direction = 3\n",
    "\n",
    "# 시뮬레이션 시작\n",
    "count = 1\n",
    "turn_time = 0\n",
    "while True:\n",
    "    turn_left()\n",
    "    nx = x + dx[direction]\n",
    "    ny = y + dy[direction]\n",
    "    # 회전한 이후 정면에 가보지 않은 칸이 존재하는 경우 이동\n",
    "    if d[nx][ny] == 0 and array[nx][ny] == 0:\n",
    "        d[nx][ny] = 1\n",
    "        x = nx\n",
    "        y = ny\n",
    "        count += 1\n",
    "        turn_time = 0\n",
    "        continue\n",
    "    # 회전한 이후 정면에 가보지 않은 칸이 없거나 바다인 경우\n",
    "    else:\n",
    "        turn_time += 1\n",
    "    # 네 방향 모두 갈 수 없는 경우\n",
    "    if turn_time == 4:\n",
    "        nx = x - dx[direction]\n",
    "        ny = y - dy[direction]\n",
    "        # 뒤로 갈수 있다면 이동하기\n",
    "        if array[nx][ny] == 0:\n",
    "            x = nx\n",
    "            y = ny\n",
    "        else:\n",
    "            break\n",
    "        turn_time = 0\n",
    "\n",
    "print(count)"
   ]
  },
  {
   "cell_type": "markdown",
   "metadata": {},
   "source": [
    "### Problem3. 문자열 재정렬  (강의 문제)\n",
    "* 알파벳 대문자와 숫자로 구성된 문자열이 입력  \n",
    "* 모든 알파벳을 오름차순으로 정렬하여 이어서 출력한 뒤, 그 뒤에 모든 숫자를 더한 값을 이어서 출력"
   ]
  },
  {
   "cell_type": "code",
   "execution_count": 18,
   "metadata": {},
   "outputs": [
    {
     "name": "stdout",
     "output_type": "stream",
     "text": [
      "K1KA5CB7\n",
      "ABCKK13\n"
     ]
    }
   ],
   "source": [
    "data = input()\n",
    "result = []\n",
    "value = 0\n",
    "\n",
    "for x in data:\n",
    "    if x.isalpha():\n",
    "        result.append(x)\n",
    "    else:\n",
    "        value += int(x)\n",
    "        \n",
    "result.sort()\n",
    "\n",
    "if value > 0:\n",
    "    result.append(str(value))\n",
    "    \n",
    "print(''.join(result))"
   ]
  }
 ],
 "metadata": {
  "colab": {
   "authorship_tag": "ABX9TyMhP3UxbrAxmlCJcXjH9gVE",
   "name": "Chap3-Greedy.ipynb",
   "provenance": []
  },
  "kernelspec": {
   "display_name": "Python 3",
   "language": "python",
   "name": "python3"
  },
  "language_info": {
   "codemirror_mode": {
    "name": "ipython",
    "version": 3
   },
   "file_extension": ".py",
   "mimetype": "text/x-python",
   "name": "python",
   "nbconvert_exporter": "python",
   "pygments_lexer": "ipython3",
   "version": "3.6.5"
  }
 },
 "nbformat": 4,
 "nbformat_minor": 1
}
