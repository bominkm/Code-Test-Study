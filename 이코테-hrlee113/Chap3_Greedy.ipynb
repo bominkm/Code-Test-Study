{
  "nbformat": 4,
  "nbformat_minor": 0,
  "metadata": {
    "colab": {
      "name": "Chap3-Greedy.ipynb",
      "provenance": [],
      "authorship_tag": "ABX9TyMhP3UxbrAxmlCJcXjH9gVE",
      "include_colab_link": true
    },
    "kernelspec": {
      "name": "python3",
      "display_name": "Python 3"
    }
  },
  "cells": [
    {
      "cell_type": "markdown",
      "metadata": {
        "id": "view-in-github",
        "colab_type": "text"
      },
      "source": [
        "<a href=\"https://colab.research.google.com/github/hrlee113/Code-Test-Study/blob/main/%EC%9D%B4%EC%BD%94%ED%85%8C-hrlee113/Chap3_Greedy.ipynb\" target=\"_parent\"><img src=\"https://colab.research.google.com/assets/colab-badge.svg\" alt=\"Open In Colab\"/></a>"
      ]
    },
    {
      "cell_type": "markdown",
      "metadata": {
        "id": "BP6MOfMCdcm_"
      },
      "source": [
        "# Chapter3. 그리디"
      ]
    },
    {
      "cell_type": "markdown",
      "metadata": {
        "id": "Jtq3KNGce-j8"
      },
      "source": [
        "### Problem1. 당장 좋은 것만 선택하는 그리디"
      ]
    },
    {
      "cell_type": "markdown",
      "metadata": {
        "id": "e9d1nK1TfDLF"
      },
      "source": [
        "#### Example answer"
      ]
    },
    {
      "cell_type": "code",
      "metadata": {
        "colab": {
          "base_uri": "https://localhost:8080/"
        },
        "id": "TMwmMqPrfEsJ",
        "outputId": "187c52bc-0863-499d-c12e-ba0890e211a9"
      },
      "source": [
        "n = 1260\r\n",
        "count = 0\r\n",
        "\r\n",
        "# 큰 단위의 화폐부터 차례대로 확인\r\n",
        "coins = [500, 100, 50, 10]\r\n",
        "\r\n",
        "for coin in coins:\r\n",
        "    count += n // coin\r\n",
        "    n %= coin\r\n",
        "\r\n",
        "print(count)"
      ],
      "execution_count": 4,
      "outputs": [
        {
          "output_type": "stream",
          "text": [
            "6\n"
          ],
          "name": "stdout"
        }
      ]
    },
    {
      "cell_type": "markdown",
      "metadata": {
        "id": "fMz15qxsdikO"
      },
      "source": [
        "### Problem2. 큰 수의 법칙"
      ]
    },
    {
      "cell_type": "markdown",
      "metadata": {
        "id": "orFOZXpsdZXh"
      },
      "source": [
        "#### My code"
      ]
    },
    {
      "cell_type": "code",
      "metadata": {
        "colab": {
          "base_uri": "https://localhost:8080/"
        },
        "id": "l9SaGF6NdpMM",
        "outputId": "022ee9a4-37ad-4011-9ca5-de006aaa74ed"
      },
      "source": [
        "n, m, k = map(int, input().split())\r\n",
        "\r\n",
        "data = list(map(int, input().split()))\r\n",
        "data.sort()\r\n",
        "\r\n",
        "first = data[n-1]\r\n",
        "second = data[n-2]\r\n",
        "\r\n",
        "result = 0\r\n",
        "\r\n",
        "while True:\r\n",
        "  for i in range(k):\r\n",
        "    if m == 0:\r\n",
        "      break\r\n",
        "    result += first\r\n",
        "    m -= 1\r\n",
        "  if m == 0 :\r\n",
        "    break\r\n",
        "  result += second\r\n",
        "  m -= 1 \r\n",
        "\r\n",
        "print(result)"
      ],
      "execution_count": 1,
      "outputs": [
        {
          "output_type": "stream",
          "text": [
            "5 8 3\n",
            "2 4 5 4 6\n",
            "46\n"
          ],
          "name": "stdout"
        }
      ]
    },
    {
      "cell_type": "markdown",
      "metadata": {
        "id": "5WFFti9seDQm"
      },
      "source": [
        "#### Example answer"
      ]
    },
    {
      "cell_type": "code",
      "metadata": {
        "id": "Fb_D3PO7eNdu"
      },
      "source": [
        "n, m, k = map(int, input().split())\r\n",
        "\r\n",
        "data = list(map(int, input().split()))\r\n",
        "data.sort()\r\n",
        "\r\n",
        "first = data[-1]\r\n",
        "second = data[-2]\r\n",
        "\r\n",
        "count = int(m / (k + 1)) * k  # first가 더해지는 횟수\r\n",
        "count += m % (k + 1)\r\n",
        "\r\n",
        "result = 0\r\n",
        "result += first * count\r\n",
        "result += second * (m - count)\r\n",
        "\r\n",
        "print(result)"
      ],
      "execution_count": null,
      "outputs": []
    },
    {
      "cell_type": "markdown",
      "metadata": {
        "id": "Vtd9Ry3VeSHY"
      },
      "source": [
        "### Problem3. 숫자 카드 게임"
      ]
    },
    {
      "cell_type": "markdown",
      "metadata": {
        "id": "lf9DHFuTeUxt"
      },
      "source": [
        "#### My code"
      ]
    },
    {
      "cell_type": "code",
      "metadata": {
        "colab": {
          "base_uri": "https://localhost:8080/"
        },
        "id": "7i_ihVLjeWsJ",
        "outputId": "72a5ff51-4418-4f01-a288-08dd13f36ae0"
      },
      "source": [
        "n, m = map(int, input().split())\r\n",
        "\r\n",
        "data = []\r\n",
        "for i in range(n):\r\n",
        "  row = list(map(int, input().split()))\r\n",
        "  data.append(row)\r\n",
        "\r\n",
        "print(max(list(map(min,data))))"
      ],
      "execution_count": 3,
      "outputs": [
        {
          "output_type": "stream",
          "text": [
            "2 4\n",
            "7 3 1 8\n",
            "3 3 3 4\n",
            "3\n"
          ],
          "name": "stdout"
        }
      ]
    },
    {
      "cell_type": "markdown",
      "metadata": {
        "id": "xR1qtt2veg71"
      },
      "source": [
        "#### Example answer"
      ]
    },
    {
      "cell_type": "code",
      "metadata": {
        "id": "5xrpHMXhei0u"
      },
      "source": [
        "# Example1\r\n",
        "\r\n",
        "n, m = map(int, input().split())\r\n",
        "\r\n",
        "result = 0\r\n",
        "\r\n",
        "for i in range(n):\r\n",
        "  data = list(map(int, input().split()))\r\n",
        "  min_value = min(data)\r\n",
        "  result = max(result, min_value)\r\n",
        "\r\n",
        "print(result)"
      ],
      "execution_count": null,
      "outputs": []
    },
    {
      "cell_type": "code",
      "metadata": {
        "id": "ugUC6IKdeoLV"
      },
      "source": [
        "# Example2\r\n",
        "\r\n",
        "n, m = map(int, input().split())\r\n",
        "\r\n",
        "result = 0\r\n",
        "\r\n",
        "for i in range(n):\r\n",
        "  data = list(map(int, input().split()))\r\n",
        "  min_value = 10001\r\n",
        "  for a in data:\r\n",
        "    min_value = min(min_value, a)\r\n",
        "    result = max(min_value, result)\r\n",
        "\r\n",
        "print(result)"
      ],
      "execution_count": null,
      "outputs": []
    },
    {
      "cell_type": "markdown",
      "metadata": {
        "id": "Q_kfLSxYerJP"
      },
      "source": [
        "### Problem4. 1이 될 때까지"
      ]
    },
    {
      "cell_type": "markdown",
      "metadata": {
        "id": "lBAQem5sev_H"
      },
      "source": [
        "#### My code : 틀림"
      ]
    },
    {
      "cell_type": "code",
      "metadata": {
        "id": "BZR_yeAdeynt"
      },
      "source": [
        "# 최솟값을 구해야한다는 조건을 고려하지 못함\r\n",
        "\r\n",
        "n, k = map(int, input().split())\r\n",
        "\r\n",
        "count = 0\r\n",
        "\r\n",
        "while n > 1:\r\n",
        "\r\n",
        "  if n % k == 0:\r\n",
        "    n = n / k\r\n",
        "    count += 1\r\n",
        "  \r\n",
        "  else:\r\n",
        "    n = n-1\r\n",
        "    count += 1\r\n",
        "\r\n",
        "print(count)"
      ],
      "execution_count": null,
      "outputs": []
    },
    {
      "cell_type": "markdown",
      "metadata": {
        "id": "0UoZT0H5e3tE"
      },
      "source": [
        "#### Example answer"
      ]
    },
    {
      "cell_type": "code",
      "metadata": {
        "id": "keT969nRe5Cc"
      },
      "source": [
        "n, k = map(int, input().split())\r\n",
        "\r\n",
        "count = 0\r\n",
        "\r\n",
        "while n >= k:\r\n",
        "\r\n",
        "  while n % k != 0: # n이 k로 나누어 떨어질때까지 n에서 1을 차감\r\n",
        "    n -= 1\r\n",
        "    count += 1\r\n",
        "    \r\n",
        "  n = n / k\r\n",
        "  count += 1\r\n",
        "\r\n",
        "while n > 1:\r\n",
        "  n -= 1\r\n",
        "  count += 1\r\n",
        "\r\n",
        "print(count)"
      ],
      "execution_count": null,
      "outputs": []
    },
    {
      "cell_type": "code",
      "metadata": {
        "id": "MwGHP98Be7RA"
      },
      "source": [
        "n, k = map(int, input().split())\r\n",
        "\r\n",
        "count = 0\r\n",
        "\r\n",
        "while True:\r\n",
        "\r\n",
        "  # (N==K로 나누어떨어지는 수)가 될 때까지 1씩 빼기\r\n",
        "  target = (n // k) * k \r\n",
        "  count += n - target # k로 나누어 떨어지지 않아서 1씩 빼야하는 횟수\r\n",
        "  n = target\r\n",
        "\r\n",
        "  \r\n",
        "  # N이 K보다 작을 때(더 이상 나눌 수 없을 때) 반복문 탈출\r\n",
        "  if n < k:\r\n",
        "    break\r\n",
        "  \r\n",
        "  # K로 나누기\r\n",
        "  count += 1\r\n",
        "  n = n // k\r\n",
        "\r\n",
        "# 마지막으로 남은 수에 대하여 1씩 빼기\r\n",
        "count += n - 1\r\n",
        "print(count)"
      ],
      "execution_count": null,
      "outputs": []
    }
  ]
}