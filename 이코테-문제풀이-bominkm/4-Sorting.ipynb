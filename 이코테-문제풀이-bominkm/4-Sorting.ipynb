{
 "metadata": {
  "language_info": {
   "codemirror_mode": {
    "name": "ipython",
    "version": 3
   },
   "file_extension": ".py",
   "mimetype": "text/x-python",
   "name": "python",
   "nbconvert_exporter": "python",
   "pygments_lexer": "ipython3",
   "version": "3.8.5"
  },
  "orig_nbformat": 2,
  "kernelspec": {
   "name": "python385jvsc74a57bd0a08b232263a2c3586a8fb9be8156a4aaace43131629c72af5b236356470a6bed",
   "display_name": "Python 3.8.5 64-bit ('base': conda)"
  },
  "metadata": {
   "interpreter": {
    "hash": "a08b232263a2c3586a8fb9be8156a4aaace43131629c72af5b236356470a6bed"
   }
  }
 },
 "nbformat": 4,
 "nbformat_minor": 2,
 "cells": [
  {
   "source": [
    "# 정렬"
   ],
   "cell_type": "markdown",
   "metadata": {}
  },
  {
   "source": [
    "## Q23. 국영수"
   ],
   "cell_type": "markdown",
   "metadata": {}
  },
  {
   "source": [
    "**Solution**"
   ],
   "cell_type": "markdown",
   "metadata": {}
  },
  {
   "source": [
    "* 튜플로 3개의 원소를 구성하여 정렬\n",
    "* students.sort(key=lambda x: (-int($x[1]$), int($x[2]$), -int($x[3]$), $x[0]$))"
   ],
   "cell_type": "markdown",
   "metadata": {}
  },
  {
   "cell_type": "code",
   "execution_count": 1,
   "metadata": {},
   "outputs": [],
   "source": [
    "n = int(input())\n",
    "students = [] # 학생 정보를 담을 리스트\n",
    "\n",
    "# 모든 학생 정보를 입력 받기\n",
    "for _ in range(n):\n",
    "    students.append(input().split())\n",
    "\n",
    "'''\n",
    "[ 정렬 기준 ]\n",
    "1) 두 번째 원소를 기준으로 내림차순 정렬\n",
    "2) 두 번째 원소가 같은 경우, 세 번째 원소를 기준으로 오름차순 정렬\n",
    "3) 세 번째 원소가 같은 경우, 네 번째 원소를 기준으로 내림차순 정렬\n",
    "4) 네 번째 원소가 같은 경우, 첫 번째 원소를 기준으로 오름차순 정렬\n",
    "'''\n",
    "students.sort(key=lambda x: (-int(x[1]), int(x[2]), -int(x[3]), x[0]))\n",
    "\n",
    "# 정렬된 학생 정보에서 이름만 출력\n",
    "for student in students:\n",
    "    print(student[0])"
   ]
  },
  {
   "source": [
    "**My Solution**"
   ],
   "cell_type": "markdown",
   "metadata": {}
  },
  {
   "source": [
    "* 리스트로 풀이 시도 -> index 활용 실패\n",
    "* 딕셔너리로 풀이 시도 -> sort 후 key, value 가져오기 어려움\n",
    "* 계수정렬로 풀이 시도 -> 점수값이 연속된 값이 아니기 때문에 비효율적\n",
    "* 삽입정렬로 풀이 시도 -> 각 단계에서 조건문 활용 어려움"
   ],
   "cell_type": "markdown",
   "metadata": {}
  },
  {
   "cell_type": "code",
   "execution_count": null,
   "metadata": {},
   "outputs": [],
   "source": [
    "# 딕셔너리 풀이 시도\n",
    "def solution(n, list):\n",
    "    name = {}; korean ={}; english = {}; math ={}\n",
    "    for i in range(n):\n",
    "        name[i] = list[i].split()[0]\n",
    "        korean[i] = list[i].split()[1]\n",
    "        english[i] = list[i].split()[2]\n",
    "        math[i] = list[i].split()[3]"
   ]
  },
  {
   "cell_type": "code",
   "execution_count": null,
   "metadata": {},
   "outputs": [],
   "source": [
    "# 삽입정렬 풀이 시도\n",
    "def solution(n, list):\n",
    "    for i in range(1, len(array)):\n",
    "    # 인데스 i부터 1까지 1씩 감소하며 반복\n",
    "    for j in range(i, 0, -1):\n",
    "        # 한 칸씩 왼쪽으로 이동\n",
    "        if array[j] < array[j-1]:\n",
    "            array[j], array[j-1] = array[j-1], array[j]\n",
    "        else:\n",
    "            break"
   ]
  }
 ]
}