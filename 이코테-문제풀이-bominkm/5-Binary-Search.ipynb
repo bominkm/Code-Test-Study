{
 "metadata": {
  "language_info": {
   "codemirror_mode": {
    "name": "ipython",
    "version": 3
   },
   "file_extension": ".py",
   "mimetype": "text/x-python",
   "name": "python",
   "nbconvert_exporter": "python",
   "pygments_lexer": "ipython3",
   "version": "3.8.5"
  },
  "orig_nbformat": 2,
  "kernelspec": {
   "name": "python385jvsc74a57bd0a08b232263a2c3586a8fb9be8156a4aaace43131629c72af5b236356470a6bed",
   "display_name": "Python 3.8.5 64-bit ('base': conda)"
  },
  "metadata": {
   "interpreter": {
    "hash": "a08b232263a2c3586a8fb9be8156a4aaace43131629c72af5b236356470a6bed"
   }
  }
 },
 "nbformat": 4,
 "nbformat_minor": 2,
 "cells": [
  {
   "source": [
    "# 이진 탐색"
   ],
   "cell_type": "markdown",
   "metadata": {}
  },
  {
   "source": [
    "## Q28. 고정점 찾기"
   ],
   "cell_type": "markdown",
   "metadata": {}
  },
  {
   "source": [
    "**Solution**"
   ],
   "cell_type": "markdown",
   "metadata": {}
  },
  {
   "source": [
    "* 이진 탐색 함수 이용\n",
    "* target = mid (중간점 index이므로)"
   ],
   "cell_type": "markdown",
   "metadata": {}
  },
  {
   "cell_type": "code",
   "execution_count": null,
   "metadata": {},
   "outputs": [],
   "source": [
    "# 이진 탐색 소스코드 구현(재귀 함수)\n",
    "def binary_search(array, start, end):\n",
    "    if start > end:\n",
    "        return None\n",
    "    mid = (start + end) // 2\n",
    "    # 고정점을 찾은 경우 인덱스 반환\n",
    "    if array[mid] == mid:\n",
    "        return mid\n",
    "    # 중간점이 가리키는 값보다 중간점이 작은 경우 왼쪽 확인\n",
    "    elif array[mid] > mid:\n",
    "        return binary_search(array, start, mid - 1)\n",
    "    # 중간점이 가리키는 값보다 중간점이 큰 경우 오른쪽 확인\n",
    "    else:\n",
    "        return binary_search(array, mid + 1, end)\n",
    "\n",
    "n = int(input())\n",
    "array = list(map(int, input().split()))\n",
    "\n",
    "# 이진 탐색(Binary Search) 수행\n",
    "index = binary_search(array, 0, n - 1)\n",
    "\n",
    "# 고정점이 없는 경우 -1 출력\n",
    "if index == None:\n",
    "    print(-1)\n",
    "# 고정점이 있는 경우 해당 인덱스 출력\n",
    "else:\n",
    "    print(index)"
   ]
  },
  {
   "source": [
    "**My Solution**"
   ],
   "cell_type": "markdown",
   "metadata": {}
  },
  {
   "source": [
    "* 이진 탐색 함수 이용\n",
    "* target = array.index(value)\n",
    "* return값 result변수로 받기"
   ],
   "cell_type": "markdown",
   "metadata": {}
  },
  {
   "cell_type": "code",
   "execution_count": 23,
   "metadata": {},
   "outputs": [],
   "source": [
    "def binary_search(array, start, end):\n",
    "    # 찾는 값이 존재하지 않는 경우\n",
    "    if start > end:\n",
    "        return None\n",
    "    # 중간점\n",
    "    mid = (start + end) // 2\n",
    "    # 찾은 경우 중간점 인덱스 반환\n",
    "    if array[mid] == array.index(array[mid]):\n",
    "        return mid\n",
    "    # 중간점의 값보다 찾고자 하는 값이 작은 경우 왼쪽 확인\n",
    "    elif array[mid] > array.index(array[mid]):\n",
    "        return binary_search(array, start, mid - 1)\n",
    "    # 중간점의 값보다 찾고자 하는 값이 큰 경우 오른쪽 확인\n",
    "    else:\n",
    "        return binary_search(array, mid + 1, end)\n",
    "\n",
    "\n",
    "def solution(n, value):\n",
    "    result = binary_search(value, 0, n-1)\n",
    "    if result == None:\n",
    "        return -1\n",
    "    else:\n",
    "        return result"
   ]
  },
  {
   "cell_type": "code",
   "execution_count": 26,
   "metadata": {},
   "outputs": [
    {
     "output_type": "stream",
     "name": "stdout",
     "text": [
      "3\n2\n-1\n"
     ]
    }
   ],
   "source": [
    "print(solution(5, [-15,-6,1,3,7]))\n",
    "print(solution(7, [-15,-4,2,8,9,13,15]))\n",
    "print(solution(7, [-15,-4,3,8,9,13,15]))"
   ]
  }
 ]
}